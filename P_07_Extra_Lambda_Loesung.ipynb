{
 "cells": [
  {
   "cell_type": "markdown",
   "metadata": {},
   "source": [
    "## Lambda Funktionen ##\n",
    "Unter Lambda Funktionen versteht man Funktionen ohne einen Funktionsnamen (also anonyme Funktionen).\n",
    "Lambda Funktionen sind besonders bei Filter oder Sortierfunktionen praktisch und haben daher bei aktuellen Big-Data Anwendungen grosse Verbreitung."
   ]
  },
  {
   "cell_type": "markdown",
   "metadata": {},
   "source": [
    "Da Funktionen in Python auch Objekte sind, können diese auch einfach als Argumente übergeben werden. Im folgenden ein Beispiel **ohne Lambda** Notation"
   ]
  },
  {
   "cell_type": "code",
   "execution_count": null,
   "metadata": {},
   "outputs": [],
   "source": [
    "#Eine einfache Rechenfunktion\n",
    "def fast_quadrat (x):\n",
    "    return x**2-1\n",
    "\n",
    "#Eine Funktion zur Berechnung für eine Reihe von Listenelementen\n",
    "def rechne_liste (funct, liste):\n",
    "    ergebnis = []\n",
    "    for i in liste:\n",
    "        ergebnis.append(funct(i))\n",
    "    return ergebnis\n",
    "\n",
    "e = rechne_liste (fast_quadrat, [2,3,4,5,6,7,8,9])\n",
    "print (e)"
   ]
  },
  {
   "cell_type": "markdown",
   "metadata": {},
   "source": [
    "Mit der **Lambda** Notation lässt sich der Overhead durch Funktionsdefinition reduzieren.\n",
    "Dabei wird mit dem lambda Schlüsselwort eine Funktion erzeugt - vor dem Doppelpunkt ist die Parameterliste, nach dem Doppelpunkt ist der Funktionsbody. Damit eignen sich Lambda Funktionen natürlich besonders für 'kurze' Funktionen."
   ]
  },
  {
   "cell_type": "code",
   "execution_count": null,
   "metadata": {},
   "outputs": [],
   "source": [
    "#Obige Listenfunktion jetzt mit einem Lambda Ausdruck\n",
    "l = rechne_liste (lambda x: x**2-1, [2,3,4,5,6,7,8,9])\n",
    "print (l)"
   ]
  },
  {
   "cell_type": "markdown",
   "metadata": {},
   "source": [
    "**Lambda Funktionen für Map**   \n",
    "Die Map Funktion ist die generische Umsetzung unseres obigen Beispiels. Es bietet also die Möglichkeit eine Funktion auf jedes Element eines iterierbaren Objektes anzuwenden.\n",
    "Werden mehrere iterierbare Objekte angegeben, so benötigt die mitgegebene Funktion genausoviele Parameter wie es iterierbare Objekte gibt."
   ]
  },
  {
   "cell_type": "code",
   "execution_count": null,
   "metadata": {},
   "outputs": [],
   "source": [
    "#Remove the starting 5 as required by some GIS\n",
    "x_tupel = (5710168.931000, 5710167.188000, 5710160.149000, 5710196.188000, 5710235.243000, 5710075.421000, 5710057.956000, 5710065.463000, 5709950.933000, 5709963.754000, 5709867.477000, 5709838.996000, 5709859.372000, 5709864.553000, 5709620.829000, 5709643.158000, 5709644.929000, 5709645.073000, 5709674.405000, 5709695.165000, 5709713.399000, 5709724.155000, 5709714.001000, 5709720.631000, 5709676.484000, 5709628.849000, 5709619.404000, 5709589.116000, 5709481.025000, 5709471.796000, 5709474.757000, 5709466.425000, 5709460.016000, 5709412.407000, 5709417.562000, 5709423.028000, 5709427.450000, 5709431.433000, 5709435.240000, 5709439.038000, 5709445.645000, 5709452.286000, 5709459.137000, 5709463.238000, 5709463.509000, 5709458.503000, 5709455.157000, 5709441.994000, 5709423.301000)\n",
    "x_tupel_5 = list(map(lambda x: x-5000000,x_tupel))\n",
    "    \n",
    "#Join x,y with map instead of zip - also works\n",
    "y_tupel = (381880.543000, 381881.146000, 381884.609000, 381968.945000, 382062.619000, 382102.008000, 382106.423000, 382125.194000, 382154.041000, 382184.756000, 382211.112000, 382219.480000, 382280.195000, 382292.914000, 382356.253000, 382448.516000, 382461.726000, 382462.802000, 382555.052000, 382629.442000, 382649.761000, 382661.747000, 382682.441000, 382689.117000, 382728.727000, 382744.999000, 382748.225000, 382758.559000, 382793.545000, 382796.568000, 382804.894000, 382805.552000, 382805.690000, 382800.435000, 382823.558000, 382846.394000, 382862.346000, 382875.653000, 382887.228000, 382897.577000, 382914.556000, 382930.634000, 382946.626000, 382956.399000, 382957.111000, 382964.509000, 382970.475000, 382971.836000, 382973.870000)\n",
    "\n",
    "pairs = list(map(lambda x,y:(x,y), x_tupel_5, y_tupel))\n",
    "print (pairs)\n"
   ]
  },
  {
   "cell_type": "markdown",
   "metadata": {},
   "source": [
    "**Lambda Funktionen für Filter**   \n",
    "Einige Python Methoden sind besonders für die Verwendung mit Lambda Funktionen geeignet. Z.B. Filtern von Listen.\n",
    "Die Funktion **filter(filterfunktion,liste)** Liefert für ein iterierbares Objekt nur die Werte zurück, bei der die Filterfunktion **true** liefert."
   ]
  },
  {
   "cell_type": "code",
   "execution_count": null,
   "metadata": {},
   "outputs": [],
   "source": [
    "#Filtert aus einer Liste alle Vielfachen von 3\n",
    "zahlen = (1,2,3,4,5,6,7,8,9,10,11,12,13,14,15,16)\n",
    "dreier = list(filter(lambda x: x%3, zahlen))\n",
    "print (dreier)\n",
    "\n",
    "#Filtert die Wörter mit 'ber'\n",
    "with open('inspire.txt', 'r', encoding=\"UTF-8\") as insp_file:\n",
    "    inspire_tokens = insp_file.read().strip().lower().split()\n",
    "#print(inspire_tokens) \n",
    "heidelber = list(filter(lambda x: 'ber' in x, inspire_tokens))\n",
    "print (heidelber)"
   ]
  },
  {
   "cell_type": "markdown",
   "metadata": {},
   "source": [
    "Die **Reduce** Funktionen laufen über ein iterierbares Objekt, indem immer ein laufendes Element mit dem Ergebnis des vorhergegenagenen Operation als EIngang verwendet wird. "
   ]
  },
  {
   "cell_type": "code",
   "execution_count": null,
   "metadata": {},
   "outputs": [],
   "source": [
    "#reduce ist in functools\n",
    "import functools as ft\n",
    "\n",
    "#Einfaches Beispiel Summen\n",
    "zahlen = (1,2,3,4,5,6,7,8,9,10,11,12,13,14,15,16)\n",
    "summe = ft.reduce(lambda x, y: x+y, zahlen)\n",
    "print (summe)\n",
    "\n",
    "#Wie sieht die Rechnung aus?\n",
    "rechnung = ft.reduce(lambda x,y: f\"({x}+{y})\",zahlen)\n",
    "print (rechnung)"
   ]
  },
  {
   "cell_type": "markdown",
   "metadata": {},
   "source": [
    "**Aufgabe**   \n",
    "Filtern Sie aus einer Koordinatenliste alle Koordinaten innerhalb einer Bounding Box (381000< x <382000 und 5710160< y <5710165). Verwenden Sie einen Filter mit einer Lambda Funktion"
   ]
  },
  {
   "cell_type": "code",
   "execution_count": null,
   "metadata": {},
   "outputs": [],
   "source": [
    "coords = [(381880.543, 5710168.931), (381881.146, 5710167.188), (381884.609, 5710160.149), (381968.945, 5710196.188), (382062.619, 5710235.243), (382102.008, 5710075.421), (382106.423, 5710057.956), (382125.194, 5710065.463), (382154.041, 5709950.933), (382184.756, 5709963.754), (382211.112, 5709867.477), (382219.48, 5709838.996), (382280.195, 5709859.372), (382292.914, 5709864.553), (382356.253, 5709620.829), (382448.516, 5709643.158), (382461.726, 5709644.929), (382462.802, 5709645.073), (382555.052, 5709674.405), (382629.442, 5709695.165), (382649.761, 5709713.399), (382661.747, 5709724.155), (382682.441, 5709714.001), (382689.117, 5709720.631), (382728.727, 5709676.484), (382744.999, 5709628.849), (382748.225, 5709619.404), (382758.559, 5709589.116), (382793.545, 5709481.025), (382796.568, 5709471.796), (382804.894, 5709474.757), (382805.552, 5709466.425), (382805.69, 5709460.016), (382800.435, 5709412.407), (382823.558, 5709417.562), (382846.394, 5709423.028), (382862.346, 5709427.45), (382875.653, 5709431.433), (382887.228, 5709435.24), (382897.577, 5709439.038), (382914.556, 5709445.645), (382930.634, 5709452.286), (382946.626, 5709459.137), (382956.399, 5709463.238), (382957.111, 5709463.509), (382964.509, 5709458.503), (382970.475, 5709455.157), (382971.836, 5709441.994), (382973.87, 5709423.301)]\n",
    "\n",
    "box_coords = list(filter(lambda x: x[0] < 382000 and x[0] > 381000 and x[1] > 5710160 and x[1] < 5710165, coords))\n",
    "print (box_coords)"
   ]
  }
 ],
 "metadata": {
  "kernelspec": {
   "display_name": "Python 3",
   "language": "python",
   "name": "python3"
  },
  "language_info": {
   "codemirror_mode": {
    "name": "ipython",
    "version": 3
   },
   "file_extension": ".py",
   "mimetype": "text/x-python",
   "name": "python",
   "nbconvert_exporter": "python",
   "pygments_lexer": "ipython3",
   "version": "3.8.5"
  }
 },
 "nbformat": 4,
 "nbformat_minor": 2
}
