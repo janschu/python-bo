{
 "cells": [
  {
   "cell_type": "markdown",
   "metadata": {},
   "source": [
    "# NumPy\n",
    "[NumPy](https://numpy.org/) ist eine Bibliothek zur Verarbeitung und Berechnung von grossen Vektoren, Arrays, ...\n",
    "\n",
    "Numpy basiert auf Arrays von Zellen gleichen Typs (!). Sie werden in reservierten Bereichen im Arbeitsspeicher gehalten und sind sehr schnell. Die meisten Operatoren können unmittelbar auf die einzelnen Zellen angewendet werden, ohne dass per loop durch diese iteriert werden muss. \n",
    "\n",
    "Bei den meisten Operationen werden keine Datenkopien gezogen, sondern unmittelbar in den Speicherzellen gearbeitet. D.h. es muss besonders auf Nebeneffekte bei der datenmanipulation geachtet werden."
   ]
  },
  {
   "cell_type": "code",
   "execution_count": 2,
   "metadata": {},
   "outputs": [],
   "source": [
    "# Ein einfaches Numpy Beispiel - 1 Mio. Multiplikationen als Numpy.Array und als Liste \n",
    "import numpy as np\n",
    "import time\n",
    "\n",
    "my_arr = np.arange(1000000)\n",
    "my_list = list(range(1000000))"
   ]
  },
  {
   "cell_type": "code",
   "execution_count": 2,
   "metadata": {},
   "outputs": [
    {
     "name": "stdout",
     "output_type": "stream",
     "text": [
      "Numpy Multiplikation: 4.936456680297852 ms\n"
     ]
    }
   ],
   "source": [
    "# Numpy Multiplikation ohne Iteration (Vektorisieren)\n",
    "start = time.time()\n",
    "my_arr2 = my_arr*2\n",
    "end = time.time()\n",
    "print (f\"Numpy Multiplikation: {(end-start)*1000} ms\")"
   ]
  },
  {
   "cell_type": "code",
   "execution_count": 3,
   "metadata": {},
   "outputs": [
    {
     "name": "stdout",
     "output_type": "stream",
     "text": [
      "List Iteration-Multiplikation: 329.7238349914551 ms\n"
     ]
    }
   ],
   "source": [
    "# Listen Multiplikation als Iteration\n",
    "start = time.time()\n",
    "my_list2 =[]\n",
    "for x in my_list:\n",
    "    my_list2.append(x*2)\n",
    "end = time.time()\n",
    "print (f\"List Iteration-Multiplikation: {(end-start)*1000} ms\")"
   ]
  },
  {
   "cell_type": "markdown",
   "metadata": {},
   "source": [
    "## NumPy Arrays\n",
    "Arrays sind die zentralen Elemente für NumPy. Ein Array kann beliebig viele Dimensionen haben und die Zellen müssen den gleichen Datentyp aufweisen.\n",
    "\n",
    "[NumPy Datentypen](https://numpy.org/devdocs/user/basics.types.html) orientieren sich an den C Datentypen un unterscheiden sich daher von den Python Typen:\n",
    "- np.bool_\n",
    "- np.int32\n",
    "- np.int64\n",
    "- np.float64\n",
    "- ...\n",
    "\n",
    "Effizient ist besonders die Initiierung eines Arrays in der kompletten Grösse, da dann der Speicherbereich entsprechend reserviert wird (ein Append ist aber trotzdem möglich)."
   ]
  },
  {
   "cell_type": "code",
   "execution_count": 12,
   "metadata": {},
   "outputs": [
    {
     "name": "stdout",
     "output_type": "stream",
     "text": [
      "[8 5 9 4 2]\n",
      "Dimension: 1\n",
      "Shape: (5,)\n",
      "Dataype: int32\n"
     ]
    }
   ],
   "source": [
    "# Casten aus iterierbaren Datentypen\n",
    "data_x = [8, 5, 9, 4, 2]\n",
    "data_arr_x = np.array(data_x)\n",
    "print(data_arr_x)\n",
    "print (f\"Dimension: {data_arr_x.ndim}\")\n",
    "print (f\"Shape: {data_arr_x.shape}\")\n",
    "print (f\"Dataype: {data_arr_x.dtype}\")"
   ]
  },
  {
   "cell_type": "code",
   "execution_count": 13,
   "metadata": {},
   "outputs": [
    {
     "name": "stdout",
     "output_type": "stream",
     "text": [
      "[[8 9 3]\n",
      " [5 3 4]\n",
      " [9 2 8]\n",
      " [4 8 1]\n",
      " [2 1 1]]\n",
      "Dimension: 2\n",
      "Shape: (5, 3)\n",
      "Datatype: int32\n"
     ]
    }
   ],
   "source": [
    "data_y, data_z = [9, 3, 2, 8, 1], [3, 4, 8, 1, 1]\n",
    "data_xyz = tuple(zip(data_x, data_y, data_z))\n",
    "data_arr_xyz = np.array(data_xyz)\n",
    "print(data_arr_xyz)\n",
    "print (f\"Dimension: {data_arr_xyz.ndim}\")\n",
    "print (f\"Shape: {data_arr_xyz.shape}\")\n",
    "print (f\"Datatype: {data_arr_xyz.dtype}\")"
   ]
  },
  {
   "cell_type": "code",
   "execution_count": 8,
   "metadata": {},
   "outputs": [
    {
     "name": "stdout",
     "output_type": "stream",
     "text": [
      "[[[8.3 9.4 3.2]\n",
      "  [8.  9.  3. ]]\n",
      "\n",
      " [[6.2 4.3 4. ]\n",
      "  [5.  3.  4. ]]\n",
      "\n",
      " [[7.6 4.1 3.2]\n",
      "  [9.  2.  8. ]]\n",
      "\n",
      " [[8.4 5.2 2.1]\n",
      "  [4.  8.  1. ]]\n",
      "\n",
      " [[7.1 0.6 2.3]\n",
      "  [2.  1.  1. ]]]\n",
      "Dimension: 3\n",
      "Shape: (5, 2, 3)\n",
      "Datatype: float64\n"
     ]
    }
   ],
   "source": [
    "data_xyz_time = list(zip(((8.3,9.4,3.2),(6.2,4.3,4.0), (7.6,4.1,3.2), (8.4,5.2,2.1), (7.1,0.6,2.3)), data_xyz))\n",
    "data_arr_xyz_time = np.array(data_xyz_time)\n",
    "print(data_arr_xyz_time)\n",
    "print (f\"Dimension: {data_arr_xyz_time.ndim}\")\n",
    "print (f\"Shape: {data_arr_xyz_time.shape}\")\n",
    "print (f\"Datatype: {data_arr_xyz_time.dtype}\")"
   ]
  },
  {
   "cell_type": "code",
   "execution_count": 3,
   "metadata": {},
   "outputs": [
    {
     "name": "stdout",
     "output_type": "stream",
     "text": [
      "leer: [[[2.00272265e-307 1.86920328e-306 1.86916390e-306]\n",
      "  [6.89807188e-307 8.90071984e-308 1.42417221e-306]\n",
      "  [1.37961641e-306 9.34610469e-307 1.02360867e-306]]\n",
      "\n",
      " [[1.42417221e-306 1.37961641e-306 1.37961234e-306]\n",
      "  [1.42420617e-306 1.60219035e-306 8.01097889e-307]\n",
      "  [1.33512308e-306 9.79103798e-307 1.24610927e-306]]]\n",
      "zeros: [0. 0. 0. 0. 0.]\n",
      "defaults: [[5 5]\n",
      " [5 5]\n",
      " [5 5]]\n",
      "Zufallszahlen: [[[0.04956488 0.9185887 ]\n",
      "  [0.86010574 0.24534802]]\n",
      "\n",
      " [[0.85025047 0.43460743]\n",
      "  [0.96882647 0.6232179 ]]]\n"
     ]
    }
   ],
   "source": [
    "# Weitere Erzeugungsarten:\n",
    "# leeres Array (Speicher reserviert ohne Wertzuweisung): \n",
    "leer = np.empty((2,3,3))\n",
    "print (f\"leer: {leer}\")\n",
    "# Nuller-Array:\n",
    "zeros = np.zeros((5))\n",
    "print (f\"zeros: {zeros}\")\n",
    "# Default Belegung\n",
    "defaults = np.full((3,2), 5)\n",
    "print (f\"defaults: {defaults}\")\n",
    "# Zufalls Array\n",
    "rand = np.random.rand(2,2,2)\n",
    "print (f\"Zufallszahlen: {rand}\")\n"
   ]
  },
  {
   "cell_type": "markdown",
   "metadata": {},
   "source": [
    "## Operatoren\n",
    "Eine besondere Stärke von NumPy liegt in der Anwendung von Operatoren auf jedes (oder ausgewählte) Elemente eines Arrays **ohne** Iteratoren. Diese Eigenschaft wird *Vektorisierung* genannt (im Hintergrund läuft eine viel schnellere C Schleife).\n",
    "- Skalare Operatoren (einfache Rechenoperationen für jedes Element)\n",
    "- unäre Operatoren\n",
    "- binäre Operatoren "
   ]
  },
  {
   "cell_type": "code",
   "execution_count": 14,
   "metadata": {},
   "outputs": [
    {
     "name": "stdout",
     "output_type": "stream",
     "text": [
      "old numpy array: [8 5 9 4 2]\n",
      "new numpy array: [24 15 27 12  6]\n"
     ]
    }
   ],
   "source": [
    "# Skalare Operationen\n",
    "new_x = data_arr_x *3\n",
    "print (f\"old numpy array: {data_arr_x}\")\n",
    "print (f\"new numpy array: {new_x}\")"
   ]
  },
  {
   "cell_type": "code",
   "execution_count": 15,
   "metadata": {},
   "outputs": [
    {
     "name": "stdout",
     "output_type": "stream",
     "text": [
      "Unäre Operatoren\n",
      "Square:  [576 225 729 144  36]\n",
      "Squareroot:  [4.89897949 3.87298335 5.19615242 3.46410162 2.44948974]\n",
      "Floor von Sqrt: [4. 3. 5. 3. 2.]\n",
      "Sinus:  [-0.90557836  0.65028784  0.95637593 -0.53657292 -0.2794155 ]\n",
      "...\n",
      "Eigene unäre Funktionen\n",
      "Eine unäre Funktion: [25 16 28 13  7]\n",
      "Eine Lambda Funktion:  [575 224 728 143  35]\n",
      "...\n",
      "Binäre Operatoren\n",
      "Add:  [32 20 36 16  8]\n",
      "Maximum: [24 15 27 12  6]\n",
      "Greater Equal: [ True  True  True  True  True]\n",
      "Less: [False False False False False]\n",
      "XOR: [ True  True  True  True  True]\n",
      "...\n",
      "Eine binäre Funktion: [31 19 35 15  7]\n",
      "Eine Lambda Funktion:  [31 19 35 15  7]\n",
      "...\n"
     ]
    }
   ],
   "source": [
    "# unäre operatoren\n",
    "print (\"Unäre Operatoren\")\n",
    "print (f\"Square:  {np.square(new_x)}\")\n",
    "print (f\"Squareroot:  {np.sqrt(new_x)}\")\n",
    "print (f\"Floor von Sqrt: {np.floor(np.sqrt(new_x))}\")\n",
    "print (f\"Sinus:  {np.sin(new_x)}\")\n",
    "print (\"...\")\n",
    "\n",
    "# oder eigene Funktionen\n",
    "print (\"Eigene unäre Funktionen\")\n",
    "def eins_plus (x):\n",
    "    return x+1\n",
    "print (f\"Eine unäre Funktion: {eins_plus(new_x)}\")\n",
    "un_funk = lambda x:x**2-1\n",
    "print (f\"Eine Lambda Funktion:  {un_funk(new_x)}\")\n",
    "print(\"...\")\n",
    "\n",
    "# binäre operatoren\n",
    "print (\"Binäre Operatoren\")\n",
    "print (f\"Add:  {np.add(new_x, data_arr_x)}\")\n",
    "print (f\"Maximum: {np.maximum(new_x, data_arr_x)}\")\n",
    "print (f\"Greater Equal: {np.greater_equal(new_x, data_arr_x)}\")\n",
    "print (f\"Less: {np.less(new_x, data_arr_x)}\")\n",
    "print (f\"XOR: {np.logical_xor(np.less(new_x, data_arr_x),np.greater_equal(new_x, data_arr_x))}\")\n",
    "print (\"...\")\n",
    "\n",
    "def fast_a_plus_b (x,y):\n",
    "    return x+y-1\n",
    "print (f\"Eine binäre Funktion: {fast_a_plus_b(new_x, data_arr_x)}\")\n",
    "bi_funk = lambda x,y:x+y-1\n",
    "\n",
    "print (f\"Eine Lambda Funktion:  {bi_funk(new_x, data_arr_x)}\")\n",
    "print(\"...\")"
   ]
  },
  {
   "cell_type": "markdown",
   "metadata": {},
   "source": [
    "## Slicing\n",
    "Slicing Operatoren sind analog zu normalen iterierbaren Datentypen. Es wird aber stets nur eine **Referenz** auf die originären Daten zurückgeliefert! Möchten Sie die Slicing Daten weiterverarbeiten ohne die Originaldaten zu verändern, müssen Sie eine Kopie erstellen (*array.copy()*)."
   ]
  },
  {
   "cell_type": "code",
   "execution_count": 16,
   "metadata": {},
   "outputs": [
    {
     "name": "stdout",
     "output_type": "stream",
     "text": [
      "Beliebiges Slicing : [12 15]\n",
      "Ändern des Ergebnisses : [36 45]\n",
      "Achtung: Geänderte Ursprungsdaten: [24 45 27 36  6]\n",
      "Kopierte Elemente : [36 45]\n",
      "Geänderte Ergebnisse im Copy Array : [72 90]\n",
      "Unveränderte Ursprungsdaten: [24 45 27 36  6]\n"
     ]
    }
   ],
   "source": [
    "# Slicing 1-D\n",
    "element = new_x[-2:-5:-2]\n",
    "print (f\"Beliebiges Slicing : {element}\")\n",
    "element *=3\n",
    "print (f\"Ändern des Ergebnisses : {element}\")\n",
    "print (f\"Achtung: Geänderte Ursprungsdaten: {new_x}\")\n",
    "\n",
    "# Alternative mit Copy\n",
    "element_copy = new_x[-2:-5:-2].copy()\n",
    "print (f\"Kopierte Elemente : {element_copy}\")\n",
    "element_copy *=2\n",
    "print (f\"Geänderte Ergebnisse im Copy Array : {element_copy}\")\n",
    "print (f\"Unveränderte Ursprungsdaten: {new_x}\")"
   ]
  },
  {
   "cell_type": "code",
   "execution_count": 17,
   "metadata": {},
   "outputs": [
    {
     "name": "stdout",
     "output_type": "stream",
     "text": [
      "Ursprungsarray: [[[8.3 9.4 3.2]\n",
      "  [8.  9.  3. ]]\n",
      "\n",
      " [[6.2 4.3 4. ]\n",
      "  [5.  3.  4. ]]\n",
      "\n",
      " [[7.6 4.1 3.2]\n",
      "  [9.  2.  8. ]]\n",
      "\n",
      " [[8.4 5.2 2.1]\n",
      "  [4.  8.  1. ]]\n",
      "\n",
      " [[7.1 0.6 2.3]\n",
      "  [2.  1.  1. ]]]\n",
      "Einzelnes Element: \n",
      " [[6.2 4.3 4. ]\n",
      " [5.  3.  4. ]]\n",
      "Mehrere Elemente: \n",
      " [[[8.3 9.4 3.2]\n",
      "  [8.  9.  3. ]]\n",
      "\n",
      " [[7.6 4.1 3.2]\n",
      "  [9.  2.  8. ]]]\n"
     ]
    }
   ],
   "source": [
    "# Slicing Mehrdimensional\n",
    "# Auswahl von Elementen entlang der ersten Dimension\n",
    "print (f\"Ursprungsarray: {data_arr_xyz_time}\")\n",
    "print (f\"Einzelnes Element: \\n {data_arr_xyz_time[1]}\")\n",
    "print (f\"Mehrere Elemente: \\n {data_arr_xyz_time[0:3:2]}\")  "
   ]
  },
  {
   "cell_type": "code",
   "execution_count": 18,
   "metadata": {},
   "outputs": [
    {
     "name": "stdout",
     "output_type": "stream",
     "text": [
      "Ursprungsarray: [[[8.3 9.4 3.2]\n",
      "  [8.  9.  3. ]]\n",
      "\n",
      " [[6.2 4.3 4. ]\n",
      "  [5.  3.  4. ]]\n",
      "\n",
      " [[7.6 4.1 3.2]\n",
      "  [9.  2.  8. ]]\n",
      "\n",
      " [[8.4 5.2 2.1]\n",
      "  [4.  8.  1. ]]\n",
      "\n",
      " [[7.1 0.6 2.3]\n",
      "  [2.  1.  1. ]]]\n",
      "Einzelnes Element: \n",
      " [[8. 9. 3.]\n",
      " [5. 3. 4.]\n",
      " [9. 2. 8.]\n",
      " [4. 8. 1.]\n",
      " [2. 1. 1.]]\n",
      "Mehrere Elemente: \n",
      " [[[8.3 9.4 3.2]]\n",
      "\n",
      " [[6.2 4.3 4. ]]\n",
      "\n",
      " [[7.6 4.1 3.2]]\n",
      "\n",
      " [[8.4 5.2 2.1]]\n",
      "\n",
      " [[7.1 0.6 2.3]]]\n"
     ]
    }
   ],
   "source": [
    "#Auswahl von Elementen entlang der zweiten Dimension\n",
    "print (f\"Ursprungsarray: {data_arr_xyz_time}\")\n",
    "print (f\"Einzelnes Element: \\n {data_arr_xyz_time[:,1]}\")\n",
    "print (f\"Mehrere Elemente: \\n {data_arr_xyz_time[:,0:1]}\")  "
   ]
  },
  {
   "cell_type": "code",
   "execution_count": 19,
   "metadata": {},
   "outputs": [
    {
     "name": "stdout",
     "output_type": "stream",
     "text": [
      "Ursprungsarray: [[[8.3 9.4 3.2]\n",
      "  [8.  9.  3. ]]\n",
      "\n",
      " [[6.2 4.3 4. ]\n",
      "  [5.  3.  4. ]]\n",
      "\n",
      " [[7.6 4.1 3.2]\n",
      "  [9.  2.  8. ]]\n",
      "\n",
      " [[8.4 5.2 2.1]\n",
      "  [4.  8.  1. ]]\n",
      "\n",
      " [[7.1 0.6 2.3]\n",
      "  [2.  1.  1. ]]]\n",
      "Einzelnes Element ('Start-Ecke'): \n",
      " 8.3\n",
      "Einzelnes Element ('End-Ecke'): \n",
      " 1.0\n",
      "Mittleren Elemente: \n",
      " [[3.]\n",
      " [2.]\n",
      " [8.]]\n"
     ]
    }
   ],
   "source": [
    "#Auslesen in allen Dimensionen\n",
    "print (f\"Ursprungsarray: {data_arr_xyz_time}\")\n",
    "print (f\"Einzelnes Element ('Start-Ecke'): \\n {data_arr_xyz_time[0,0,0]}\")\n",
    "print (f\"Einzelnes Element ('End-Ecke'): \\n {data_arr_xyz_time[-1,-1,-1]}\")\n",
    "print (f\"Mittleren Elemente: \\n {data_arr_xyz_time[1:-1,1,1:-1]}\") "
   ]
  },
  {
   "cell_type": "markdown",
   "metadata": {},
   "source": [
    "## Sortieren und Mengenlehre\n",
    "NumPy erlaubt auch ein schnelles Soritieren der Arrays. Dabei muss natürlich angegeben werden, in welche \"Richtung\" sortiert wird. Das erfolgt mit Angabe der **axis**. Default ist (*axis=-1*), also entlang der letzten Dimension.\n",
    "\n",
    "Bei **eindimensionalen Arrays** sind Methoden analog zu **Sets** möglich; also z.B. Intersect (*np.intersect1d*), eindeutige Werte (*np.unique*)."
   ]
  },
  {
   "cell_type": "code",
   "execution_count": 20,
   "metadata": {},
   "outputs": [
    {
     "name": "stdout",
     "output_type": "stream",
     "text": [
      "Würfel 1: [2 5 6 5 3 6 3 6 1 4]\n",
      "Sort:     [1 2 3 3 4 5 5 6 6 6]\n"
     ]
    }
   ],
   "source": [
    "# eindimensionales sortieren\n",
    "wuerfel1 = np.random.randint(low=1, high=7, size=(10))\n",
    "print (f\"Würfel 1: {wuerfel1}\")\n",
    "sorted = np.sort(wuerfel1)\n",
    "print (f\"Sort:     {sorted}\")"
   ]
  },
  {
   "cell_type": "code",
   "execution_count": 25,
   "metadata": {},
   "outputs": [
    {
     "name": "stdout",
     "output_type": "stream",
     "text": [
      "Kniffel Würfe: [[1 2 5 4 1 5]\n",
      " [2 5 5 1 5 6]\n",
      " [5 5 5 5 5 5]]\n",
      "Sortiert die Würfe: [[1 2 5 1 1 5]\n",
      " [2 5 5 4 5 5]\n",
      " [5 5 5 5 5 6]]\n",
      "Sortiert innerhalb der Würfe: [[1 1 2 4 5 5]\n",
      " [1 2 5 5 5 6]\n",
      " [5 5 5 5 5 5]]\n",
      "Elementweise: [1 1 1 2 2 4 5 5 5 5 5 5 5 5 5 5 5 6]\n"
     ]
    }
   ],
   "source": [
    "# Mehrdimensionales Sortieren\n",
    "kniffel_wuerfe = np.random.randint(low=1, high=7, size=(3, 6))\n",
    "print(f\"Kniffel Würfe: {kniffel_wuerfe}\")\n",
    "sorted_0 = np.sort(kniffel_wuerfe,axis=0)\n",
    "print(f\"Sortiert die Würfe: {sorted_0}\")\n",
    "sorted_1 = np.sort(kniffel_wuerfe,axis=-1)\n",
    "print(f\"Sortiert innerhalb der Würfe: {sorted_1}\")\n",
    "sorted_none = np.sort(kniffel_wuerfe,axis=None)\n",
    "print(f\"Elementweise: {sorted_none}\")"
   ]
  },
  {
   "cell_type": "code",
   "execution_count": 26,
   "metadata": {},
   "outputs": [
    {
     "name": "stdout",
     "output_type": "stream",
     "text": [
      "Eindeutige Werte: [1 2 4 5 6]\n",
      "Wurf 0: [1 2 5 4 1 5]\n",
      "Wurf 1: [2 5 5 1 5 6]\n",
      "Zahlen in beiden Würfen: [1 2 5]\n"
     ]
    }
   ],
   "source": [
    "# Setähnliche Operatoren für eindimensionale Arrays\n",
    "# Auslesen der eindeutigen Werte\n",
    "eindeutig = np.unique(sorted_none)\n",
    "print(f\"Eindeutige Werte: {eindeutig}\")\n",
    "\n",
    "#intersect\n",
    "intersect = np.intersect1d(kniffel_wuerfe[0], kniffel_wuerfe[1])\n",
    "print(f\"Wurf 0: {kniffel_wuerfe[0]}\")\n",
    "print(f\"Wurf 1: {kniffel_wuerfe[1]}\")\n",
    "print(f\"Zahlen in beiden Würfen: {intersect}\")\n"
   ]
  },
  {
   "cell_type": "markdown",
   "metadata": {},
   "source": [
    "## Vergleiche und Boolsches Indizieren\n",
    "Neben dem Slicing können auch mit Hilfe eines **boolschen Arrays** Elemente ausgewählt werden. Dabei wird neben den Datenarray auch ein 'Boolsches Array' mit gleicher Grösse verwendet. Alles Elemente, die ein entsprechendes 'True' Element tragen werden selektiert und zurückgegeben.\n",
    "\n",
    "Zur Erzeugung eines solchen Arrays eignen sich Vergleichsoperatoren wie '==' oder < und >."
   ]
  },
  {
   "cell_type": "code",
   "execution_count": 29,
   "metadata": {},
   "outputs": [
    {
     "name": "stdout",
     "output_type": "stream",
     "text": [
      "Zufallszahlen: \n",
      " [[0.19364023 0.55804767 0.03159962 0.94354233 0.90938297 0.04633574\n",
      "  0.48525642 0.40963781 0.58777393 0.0205495 ]\n",
      " [0.51961766 0.54742049 0.32999262 0.09607541 0.89758303 0.17000562\n",
      "  0.31886252 0.08921461 0.22334256 0.2355015 ]\n",
      " [0.31203178 0.14037043 0.03673627 0.50287022 0.5004006  0.85154474\n",
      "  0.49621887 0.33133997 0.18527758 0.86109259]\n",
      " [0.59747033 0.63587643 0.99610723 0.99312381 0.26090261 0.5688581\n",
      "  0.97587434 0.61968703 0.48108629 0.48350523]\n",
      " [0.45292948 0.30658853 0.77918702 0.51167758 0.57475444 0.07273164\n",
      "  0.55004924 0.93635948 0.64367035 0.38764289]\n",
      " [0.74734385 0.48242298 0.70079382 0.99048177 0.00169972 0.43560041\n",
      "  0.45790409 0.88601484 0.88255175 0.25066937]\n",
      " [0.4376037  0.16510397 0.90600172 0.11660009 0.38707343 0.02618646\n",
      "  0.8991925  0.65178049 0.54407098 0.9016626 ]\n",
      " [0.42267029 0.73309631 0.7404784  0.02793328 0.69955935 0.07773269\n",
      "  0.64866827 0.36902981 0.524991   0.3506828 ]\n",
      " [0.11782744 0.80341827 0.6235411  0.96971918 0.4959306  0.43560034\n",
      "  0.27846487 0.9049615  0.56042357 0.45132646]\n",
      " [0.05227183 0.85897335 0.39734389 0.9031893  0.37693814 0.4945553\n",
      "  0.96007706 0.51445205 0.85507617 0.6517241 ]]\n",
      "Stichprobenarray: \n",
      " [[False False False False False False False False False False]\n",
      " [False False False False False  True  True False False False]\n",
      " [False False False False False False False False False False]\n",
      " [False False False False False False False False False False]\n",
      " [False False False False False False False False False  True]\n",
      " [ True False False False False  True False False  True False]\n",
      " [False False False False False False  True False  True False]\n",
      " [False False False False False False False False False False]\n",
      " [False False False False  True False False False False False]\n",
      " [False False False False False  True False False False False]]\n",
      "Stichprobenwerte: \n",
      " [0.17000562 0.31886252 0.38764289 0.74734385 0.43560041 0.88255175\n",
      " 0.8991925  0.54407098 0.4959306  0.4945553 ]\n"
     ]
    }
   ],
   "source": [
    "import random\n",
    "# Random Array\n",
    "rand_array = np.random.rand(10,10)\n",
    "# Stichprobenraster\n",
    "select_array = np.zeros((10,10),dtype=bool)\n",
    "for i in range(10):\n",
    "    x, y = random.randint(0,9), random.randint(0,9)\n",
    "    select_array [x,y] = True\n",
    "print (f\"Zufallszahlen: \\n {rand_array}\")\n",
    "print (f\"Stichprobenarray: \\n {select_array}\")\n",
    "print (f\"Stichprobenwerte: \\n {rand_array[select_array]}\")"
   ]
  },
  {
   "cell_type": "code",
   "execution_count": 30,
   "metadata": {},
   "outputs": [
    {
     "name": "stdout",
     "output_type": "stream",
     "text": [
      "Dreiherreihe: [  0   3   6   9  12  15  18  21  24  27  30  33  36  39  42  45  48  51\n",
      "  54  57  60  63  66  69  72  75  78  81  84  87  90  93  96  99 102 105\n",
      " 108 111 114 117 120 123 126 129 132 135 138 141 144 147 150 153 156 159\n",
      " 162 165 168 171 174 177 180 183 186 189 192 195 198 201 204 207 210 213\n",
      " 216 219 222 225 228 231 234 237 240 243 246 249 252 255 258 261 264 267\n",
      " 270 273 276 279 282 285 288 291 294 297 300 303 306 309 312 315 318 321\n",
      " 324 327 330 333 336 339 342 345 348 351 354 357 360 363 366 369 372 375\n",
      " 378 381 384 387 390 393 396 399 402 405 408 411 414 417 420 423 426 429\n",
      " 432 435 438 441 444 447 450 453 456 459 462 465 468 471 474 477 480 483\n",
      " 486 489 492 495 498 501 504 507 510 513 516 519 522 525 528 531 534 537\n",
      " 540 543 546 549 552 555 558 561 564 567 570 573 576 579 582 585 588 591\n",
      " 594 597 600 603 606 609 612 615 618 621 624 627 630 633 636 639 642 645\n",
      " 648 651 654 657 660 663 666 669 672 675 678 681 684 687 690 693 696 699\n",
      " 702 705 708 711 714 717 720 723 726 729 732 735 738 741 744 747 750 753\n",
      " 756 759 762 765 768 771 774 777 780 783 786 789 792 795 798 801 804 807\n",
      " 810 813 816 819 822 825 828 831 834 837 840 843 846 849 852 855 858 861\n",
      " 864 867 870 873 876 879 882 885 888 891 894 897 900 903 906 909 912 915\n",
      " 918 921 924 927 930 933 936 939 942 945 948 951 954 957 960 963 966 969\n",
      " 972 975 978 981 984 987 990 993 996 999]\n"
     ]
    }
   ],
   "source": [
    "zahlenstrahl = np.arange(1000)\n",
    "dreierreihe = (zahlenstrahl%3==0)\n",
    "print (f\"Dreiherreihe: {zahlenstrahl[dreierreihe]}\")"
   ]
  },
  {
   "cell_type": "markdown",
   "metadata": {},
   "source": [
    "## Where\n",
    "Die where Funktion ermöglicht einfache logische Statements in Arrays (*np.where(Bedingung, Array/Skalar, Array/Skalar*). Jedes Element im Array wird auf eine Bedingung geprüft und dann wird der entsprechende 'Wahr' oder 'Falsch' Wert in das gleichdimensionierte Ergebnisarray eingetragen."
   ]
  },
  {
   "cell_type": "code",
   "execution_count": 31,
   "metadata": {},
   "outputs": [
    {
     "name": "stdout",
     "output_type": "stream",
     "text": [
      "Würfel1:      [3 6 4 6 1 4 2 5 6 5]\n",
      "Würfel2:      [3 5 6 2 5 5 4 2 6 2]\n",
      "Grösste Zahl: [3 6 6 6 5 5 4 5 6 5]\n"
     ]
    }
   ],
   "source": [
    "# Grösser - Kleiner\n",
    "wuerfel1, wuerfel2 = np.random.randint(low=1, high=7, size=(10)), np.random.randint(low=1, high=7, size=(10))\n",
    "\n",
    "grössteZahl = np.where(np.greater(wuerfel1,wuerfel2),wuerfel1,wuerfel2)\n",
    "print (f\"Würfel1:      {wuerfel1}\")\n",
    "print (f\"Würfel2:      {wuerfel2}\")\n",
    "print (f\"Grösste Zahl: {grössteZahl}\")"
   ]
  },
  {
   "cell_type": "markdown",
   "metadata": {},
   "source": [
    "## Strukturen bearbeiten\n",
    "Die **Reshape Methode** erlaubt eine sehr schnelle Umstrukturierung von Arrays. Es ist z.B. möglich ein flaches eindimensionales Array in Koordinatenlisten umzuwandeln. Dabei kann eine Dimensionsangabe mit **-1** belegt werden, d.h. diese Achse wird entsprechend gefüllt.\n",
    "\n",
    "Ein transponiertes Array lässt sich mit **T** erzeugen."
   ]
  },
  {
   "cell_type": "code",
   "execution_count": 38,
   "metadata": {},
   "outputs": [
    {
     "name": "stdout",
     "output_type": "stream",
     "text": [
      "Koordinatenpaare: [[ 381880.543 5710168.931]\n",
      " [ 381881.146 5710167.188]\n",
      " [ 381884.609 5710160.149]\n",
      " [ 381968.945 5710196.188]\n",
      " [ 382062.619 5710235.243]]\n",
      "Transponiert: [[ 381880.543  381881.146  381884.609  381968.945  382062.619]\n",
      " [5710168.931 5710167.188 5710160.149 5710196.188 5710235.243]]\n"
     ]
    },
    {
     "data": {
      "text/plain": [
       "array([ 381880.543,  381881.146,  381884.609,  381968.945,  382062.619,\n",
       "       5710168.931, 5710167.188, 5710160.149, 5710196.188, 5710235.243])"
      ]
     },
     "execution_count": 38,
     "metadata": {},
     "output_type": "execute_result"
    }
   ],
   "source": [
    "# Reshape\n",
    "coord_flat = (381880.543000, 5710168.931000, 381881.146000, 5710167.188000, 381884.609000, 5710160.149000, 381968.945000, 5710196.188000, 382062.619000, 5710235.243000)\n",
    "\n",
    "reshape = np.array(coord_flat).reshape(-1,2)\n",
    "print (f\"Koordinatenpaare: {reshape}\")\n",
    "transpose = reshape.T\n",
    "print (f\"Transponiert: {transpose}\")\n",
    "transpose.reshape(-1)"
   ]
  },
  {
   "cell_type": "markdown",
   "metadata": {},
   "source": [
    "## Aufgabe ##\n",
    "\n",
    "Lesen Sie die Datei 'bev_2012_2016_clean.csv' ein und beantworten Se mit Hilfe von Numpy Arrays folgende Fragen:\n",
    "- Wie hat sich die Gesamtbevölkerung in Deutschland entwickelt (-> Array von 2012 bis 2016)\n",
    "- Welcher Landkreis ist absolut - welcher relativ - am stärksten gewachsen (Vergleich 2016 - 2012). Beachten Sie dabei, dass für einige Landkreise (aufgrund organisatorischer Änderungen) keine direkten Daten für 2012 vorliegen. Diese Landkreise dürfen nicht berücksichtigt werden. "
   ]
  },
  {
   "cell_type": "code",
   "execution_count": 1,
   "metadata": {},
   "outputs": [
    {
     "name": "stdout",
     "output_type": "stream",
     "text": [
      "Gesamtentwicklung: [80523746. 80767463. 81197537. 82175684. 82521653.]\n",
      "('Berlin', 199608.0)\n",
      "('Leipzig', 0.0964791355469455)\n"
     ]
    },
    {
     "name": "stderr",
     "output_type": "stream",
     "text": [
      "<ipython-input-1-fb5b34e9b879>:35: RuntimeWarning: divide by zero encountered in true_divide\n",
      "  diff_array = np.where(year_12==0,0, (year_16-year_12)/(year_12)) # blöder rundungsfehler??\n",
      "<ipython-input-1-fb5b34e9b879>:35: RuntimeWarning: invalid value encountered in true_divide\n",
      "  diff_array = np.where(year_12==0,0, (year_16-year_12)/(year_12)) # blöder rundungsfehler??\n"
     ]
    }
   ],
   "source": [
    "# Aufgabe\n",
    "import numpy as np\n",
    "# Öffnen der Datei \n",
    "def file_loader (filename):\n",
    "    names, codes, pop = [],[],[]\n",
    "    with open(filename, 'rt', encoding='utf-8') as pop_file:\n",
    "        for pop_line in pop_file:\n",
    "            pop_line_string = pop_line.strip()\n",
    "            pop_record = pop_line_string.split(';')\n",
    "            codes.append(pop_record[0])\n",
    "            names.append(pop_record[1])\n",
    "            pop_dev = np.array((pop_record[2], pop_record[3], pop_record[4], pop_record[5], pop_record[6]))\n",
    "            pop.append(np.where(pop_dev=='-',0,pop_dev))       \n",
    "    return (codes, names, pop)\n",
    "\n",
    "file_content = file_loader('bev_2012_2016_clean.csv')\n",
    "codes_array = np.array(file_content[0])\n",
    "names_array = np.array(file_content[1])\n",
    "pop_array = np.array(file_content[2],dtype='float64')\n",
    "\n",
    "def gesamt_entwicklung (pop_array):\n",
    "    return np.sum(pop_array, axis=0)\n",
    "\n",
    "def absolutes_wachstum (pop_array, names_array):\n",
    "    year_12 = pop_array[:,0] \n",
    "    year_16 = pop_array [:,-1]\n",
    "    diff_array = np.where(year_12==0,0, year_16 - year_12)\n",
    "    max_wachst = diff_array.max()\n",
    "    max_kreis = names_array[diff_array==max_wachst][0]\n",
    "    return (max_kreis, max_wachst)\n",
    "\n",
    "def relatives_wachstum (pop_array, names_array):\n",
    "    year_12 = pop_array[:,0] \n",
    "    year_16 = pop_array [:,-1]\n",
    "    diff_array = np.where(year_12==0,0, (year_16-year_12)/(year_12)) # blöder rundungsfehler??\n",
    "    max_wachst = diff_array.max()\n",
    "    max_kreis = names_array[diff_array==max_wachst][0]\n",
    "    return (max_kreis, max_wachst)\n",
    "\n",
    "# Gesamtentwicklung pro Jahr\n",
    "print (f\"Gesamtentwicklung: {gesamt_entwicklung (pop_array)}\")\n",
    "print(absolutes_wachstum(pop_array, names_array))\n",
    "print(relatives_wachstum(pop_array, names_array))\n",
    "\n",
    "\n",
    "#print(codes_array)\n",
    "#print(names_array)\n",
    "#print(pop_array)\n"
   ]
  },
  {
   "cell_type": "code",
   "execution_count": null,
   "metadata": {},
   "outputs": [],
   "source": []
  }
 ],
 "metadata": {
  "kernelspec": {
   "display_name": "Python 3",
   "language": "python",
   "name": "python3"
  },
  "language_info": {
   "codemirror_mode": {
    "name": "ipython",
    "version": 3
   },
   "file_extension": ".py",
   "mimetype": "text/x-python",
   "name": "python",
   "nbconvert_exporter": "python",
   "pygments_lexer": "ipython3",
   "version": "3.8.5"
  }
 },
 "nbformat": 4,
 "nbformat_minor": 2
}
