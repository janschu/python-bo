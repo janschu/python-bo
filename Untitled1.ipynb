{
 "cells": [
  {
   "cell_type": "code",
   "execution_count": 4,
   "metadata": {},
   "outputs": [
    {
     "ename": "SyntaxError",
     "evalue": "invalid syntax (<ipython-input-4-3ad828229e9d>, line 23)",
     "output_type": "error",
     "traceback": [
      "\u001b[1;36m  File \u001b[1;32m\"<ipython-input-4-3ad828229e9d>\"\u001b[1;36m, line \u001b[1;32m23\u001b[0m\n\u001b[1;33m    other = (animal)bearObj\u001b[0m\n\u001b[1;37m                    ^\u001b[0m\n\u001b[1;31mSyntaxError\u001b[0m\u001b[1;31m:\u001b[0m invalid syntax\n"
     ]
    }
   ],
   "source": [
    "class animal():\n",
    "    def sound():\n",
    "        print(\"?\")\n",
    "\n",
    "class Bear(animal):\n",
    "    def sound(self):\n",
    "        print(\"Groarrr\")\n",
    " \n",
    "class Dog(animal):\n",
    "    def sound(self):\n",
    "        print(\"Woof woof!\")\n",
    " \n",
    "def makeSound(animalType):\n",
    "    animalType.sound()\n",
    " \n",
    " \n",
    "bearObj = Bear()\n",
    "dogObj = Dog()\n",
    " \n",
    "makeSound(bearObj)\n",
    "makeSound(dogObj)\n",
    "\n",
    "other = (animal)bearObj\n",
    "makeSound(other)"
   ]
  }
 ],
 "metadata": {
  "kernelspec": {
   "display_name": "Python 3",
   "language": "python",
   "name": "python3"
  },
  "language_info": {
   "codemirror_mode": {
    "name": "ipython",
    "version": 3
   },
   "file_extension": ".py",
   "mimetype": "text/x-python",
   "name": "python",
   "nbconvert_exporter": "python",
   "pygments_lexer": "ipython3",
   "version": "3.8.5"
  }
 },
 "nbformat": 4,
 "nbformat_minor": 4
}
