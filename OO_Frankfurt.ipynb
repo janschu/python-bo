{
 "cells": [
  {
   "cell_type": "markdown",
   "metadata": {},
   "source": [
    "## Klassen ##\n",
    "In Python sind alle Datentypen, Funktione etc. Klassen. Das beinhaltet auch die einfachen Datetypen wie Integer or Boolean."
   ]
  },
  {
   "cell_type": "code",
   "execution_count": null,
   "metadata": {},
   "outputs": [],
   "source": [
    "a = 12\n",
    "def func ():\n",
    "    print ('Hallo')\n",
    "print (type(a))\n",
    "print (type(func))"
   ]
  },
  {
   "cell_type": "markdown",
   "metadata": {},
   "source": [
    "**Klassendefinition**   \n",
    "Neben den gegebenen Klassen  ist es natürlich auch möglich eigene Klassen zu definieren. Dafür wird das Schlüsselwort **class** verwendet."
   ]
  },
  {
   "cell_type": "code",
   "execution_count": null,
   "metadata": {},
   "outputs": [],
   "source": [
    "class konto_01:           # Definiert eine klasse mit der Superklasse object \n",
    "    pass                       # pass kann als dummy für eine fehlende Implementierung eingesetzt werden\n",
    "class test:                    # Wird keine Superklasse angegeben, so wird von object abgeleitet\n",
    "    pass                       \n",
    "\n",
    "mein_konto = konto_01()\n",
    "dein_konto = konto_01()\n",
    "\n",
    "print (\"Identität: \" + str(id(mein_konto)) +\" Klasse: \" + str(type(mein_konto)))\n",
    "print (\"Identität: \" + str(id(dein_konto)) +\" Klasse: \" + str(type(dein_konto)))"
   ]
  },
  {
   "cell_type": "markdown",
   "metadata": {},
   "source": [
    "**Objekt Attribute**   \n",
    "Da in Python Variablen vor der Nutzung nicht deklariert werden müssen entfällt auch innerhalb von Klassen deren Deklaration. So können Attribute zu Objekten unmittelbar hinzugefügt werden.\n",
    "(Das ist seltsam für Java Fans)"
   ]
  },
  {
   "cell_type": "code",
   "execution_count": null,
   "metadata": {},
   "outputs": [],
   "source": [
    "mein_test = test()                                # Erzeugen einer Instanz\n",
    "mein_test.attribut_01 = 'Ein Attribut'            # Zuweisen von Instanzattributen\n",
    "mein_test.attribut_02 = ['eins', 'zwei']\n",
    "\n",
    "print(f'Instanzattribute: {mein_test.attribut_01}, {mein_test.attribut_02}')"
   ]
  },
  {
   "cell_type": "markdown",
   "metadata": {},
   "source": [
    "Meistens werden die Attribute in der Klasse gesetzt und initialisiert (siehe auch Methoden und Konstruktor)"
   ]
  },
  {
   "cell_type": "code",
   "execution_count": null,
   "metadata": {},
   "outputs": [],
   "source": [
    "class konto_attr ():\n",
    "    kontostand = 0\n",
    "    \n",
    "mein_konto = konto_attr()\n",
    "mein_konto.kontostand=10\n",
    "\n",
    "dein_konto = konto_attr()\n",
    "dein_konto.kontostand=-10\n",
    "\n",
    "print (f\"Mein Konto - Kontostand: {mein_konto.kontostand}\")\n",
    "print (f\"Dein Konto - Kontostand: {dein_konto.kontostand}\")"
   ]
  },
  {
   "cell_type": "markdown",
   "metadata": {},
   "source": [
    "### Klassen Attribute ###\n",
    "Auch die Klassen können (eigene) Attribute haben - also welche, die für die Blaupause gelten. Besonders häufig sind das 'Instanzzähler'. Im Beispiel der Konten, ist es z.B. sinnvoll ein Zählwerk für die einzelnen Konten zu haben. "
   ]
  },
  {
   "cell_type": "code",
   "execution_count": null,
   "metadata": {},
   "outputs": [],
   "source": [
    "class konto_zaehlwerk ():\n",
    "    zaehler = 0\n",
    "    kontostand = 0\n",
    "    \n",
    "mein_konto = konto_zaehlwerk()\n",
    "konto_zaehlwerk.zaehler +=1\n",
    "mein_konto.kontostand=10\n",
    "\n",
    "dein_konto = konto_zaehlwerk()\n",
    "konto_zaehlwerk.zaehler +=1\n",
    "dein_konto.kontostand=-10\n",
    "\n",
    "print (f\"Mein Konto - Kontostand: {mein_konto.kontostand} und Zaehler: {mein_konto.zaehler}\")\n",
    "print (f\"Dein Konto - Kontostand: {dein_konto.kontostand} und Zaehler: {dein_konto.zaehler}\")\n",
    "print (f\"Kontrolle auf der Klasse: {konto_zaehlwerk.kontostand} und Zaehler: {konto_zaehlwerk.zaehler}\")"
   ]
  },
  {
   "cell_type": "markdown",
   "metadata": {},
   "source": [
    "**Methoden**   \n",
    "Erst mit Methoden machen Klassen wirklich Sinn. Sie werden als Funktionen (also mit **def**) innerhalb der Klasse definiert. Methoden haben mindestens einen Parameter 'self', der beim Methodenaufruf automatisch mit der Instanz gefüllt wird. Damit steht innerhalb der Methode der komplette Instanzkontext zur Verfügung."
   ]
  },
  {
   "cell_type": "code",
   "execution_count": null,
   "metadata": {},
   "outputs": [],
   "source": [
    "class test:\n",
    "    def sag_hallo (self):\n",
    "        print (\"Hallo\")\n",
    "        \n",
    "mein_test = test()\n",
    "mein_test.sag_hallo()\n"
   ]
  },
  {
   "cell_type": "markdown",
   "metadata": {},
   "source": [
    "Mit der '**self**' Referenz können jetzt die Instanzattribute genutzt werden."
   ]
  },
  {
   "cell_type": "code",
   "execution_count": null,
   "metadata": {},
   "outputs": [],
   "source": [
    "class konto_02:\n",
    "    def kontostand (self):\n",
    "        print (f\"Name: {self.name}\")\n",
    "        print (f\"Kontostand: {self.saldo} €\")\n",
    "jan_konto = konto_02()\n",
    "jan_konto.name = \"Jan\"\n",
    "jan_konto.saldo = 10\n",
    "jan_konto.kontostand()"
   ]
  },
  {
   "cell_type": "code",
   "execution_count": null,
   "metadata": {},
   "outputs": [],
   "source": [
    "class konto_03:\n",
    "    saldo = 0\n",
    "    def kontostand (self):\n",
    "        print (f\"Kontostand: {self.saldo} €\")\n",
    "    def abbuchung (self, betrag):\n",
    "        self.saldo -= betrag\n",
    "        print (f\"Abbuchung von {betrag}\")\n",
    "        self.kontostand()\n",
    "        return betrag\n",
    "    def einzahlung (self, betrag):\n",
    "        self.saldo += betrag\n",
    "        print (f\"Einzahlung von {betrag}\")\n",
    "        self.kontostand()\n",
    "        \n",
    "jan_konto = konto_03()    \n",
    "jan_konto.kontostand()\n",
    "jan_konto.einzahlung(10)\n",
    "print (f\"Jetzt habe ich {jan_konto.abbuchung(3)} € im Geldbeutel\")\n",
    "jan_konto.kontostand()\n",
    "    "
   ]
  },
  {
   "cell_type": "markdown",
   "metadata": {},
   "source": [
    "**Objekterzeugung**   \n",
    "Die **\\_\\_init\\_\\_** Methode wird unmittelbar nach der Instanzierung automatisch aufgerufen ('magic method'). Diese Initialisierung entspricht einem Konstruktor bei Java."
   ]
  },
  {
   "cell_type": "code",
   "execution_count": null,
   "metadata": {},
   "outputs": [],
   "source": [
    "class konto_03:\n",
    "    def __init__ (self, name, kontostand=0):\n",
    "        self.name = name\n",
    "        self.saldo = kontostand\n",
    "    def kontostand (self):\n",
    "        print (f\"Kontostand: {self.saldo} €\")\n",
    "jan_konto = konto_03('Jan', 10)\n",
    "jan_konto.kontostand()"
   ]
  },
  {
   "cell_type": "markdown",
   "metadata": {},
   "source": [
    "**Objektzerstörung**   \n",
    "Eine andere 'magic method' ist die **\\_\\_del\\_\\_** Methode, die **nach** dem Abräumen der Instanz aufgerufen wird (z.B. Interssant im Kontext mit einem Instanzenzähler). D.h. das self Objekt steht nicht mehr zur Verfügung."
   ]
  },
  {
   "cell_type": "code",
   "execution_count": null,
   "metadata": {},
   "outputs": [],
   "source": [
    "class konto_04:\n",
    "    bankkonten = 0\n",
    "    def __init__ (self, name, kontostand=0):\n",
    "        konto_04.bankkonten +=1\n",
    "        self.name = name\n",
    "        self.saldo = kontostand\n",
    "        print (f\"Created: Die Bank verwaltet jetzt {konto_04.bankkonten} Konten\")\n",
    "    def __del__ (self):\n",
    "        type(self).bankkonten -=1\n",
    "        print (f\"Deleted: Die Bank verwaltet jetzt {konto_04.bankkonten} Konten\")\n",
    "    def kontostand (self):\n",
    "        print (f\"Kontostand: {self.saldo} €\")\n",
    "jan_konto = konto_04('Jan', 10)\n",
    "kai_konto = konto_04('Kai', -10)\n",
    "klaus_konto = konto_04('Klaus', 100)\n",
    "del kai_konto"
   ]
  },
  {
   "cell_type": "markdown",
   "metadata": {},
   "source": [
    "**Sichtbarkeit**   \n",
    "Mit \\_\\_ könnten Attribute 'private' gesetzt werden. Mit \\_ werden Attribute 'protected' gesetzt"
   ]
  },
  {
   "cell_type": "code",
   "execution_count": null,
   "metadata": {},
   "outputs": [],
   "source": [
    "class visib:\n",
    "    def __init__(self):\n",
    "        self.__priv = 'private'\n",
    "        self._prot ='protected'\n",
    "        self.publ ='public'\n",
    "\n",
    "my_vis = visib()\n",
    "print (f'Public:    {my_vis.publ}')\n",
    "print (f'Protected: {my_vis._prot}')\n",
    "print (f'Private:   {my_vis.__priv}')"
   ]
  },
  {
   "cell_type": "markdown",
   "metadata": {},
   "source": [
    "**Kapselung I**   \n",
    "Zur Kapselung können 'getter' und 'setter' definiert werden. Damit kann der Inhalt des Attributs oder die Rückgabe gezielt gesteuert werden."
   ]
  },
  {
   "cell_type": "code",
   "execution_count": null,
   "metadata": {},
   "outputs": [],
   "source": [
    "class comicfigur:\n",
    "    def __init__ (self, name):\n",
    "        self.set_name(name)\n",
    "    def get_name (self):\n",
    "        return self.__name\n",
    "    def set_name (self, name):\n",
    "        if name == 'zantafio':                #niemand will zantafio sein                    \n",
    "            self.__name = 'fantasio'\n",
    "        else:\n",
    "            self.__name = name\n",
    "\n",
    "fant = comicfigur ('zantafio')\n",
    "pips = comicfigur ('pips')\n",
    "gast = comicfigur ('gaston')\n",
    "\n",
    "print (fant.get_name())\n",
    "print (pips.name)"
   ]
  },
  {
   "cell_type": "markdown",
   "metadata": {},
   "source": [
    "**Kapselung II**\n",
    "Um den Zugriff einfach zu gestalten wird in Python einer 'Property' eingesetzt. Mit Hilfe der Property ist wieder ein 'normaler' Zugriff auf die Attribute er Instanzen möglich (z.B. comicfigur.name = 'zantafio'), es wird aber trotzdem implizit der setter aufgerufen"
   ]
  },
  {
   "cell_type": "code",
   "execution_count": null,
   "metadata": {},
   "outputs": [],
   "source": [
    "class comicfigur:\n",
    "    def __init__ (self, name):                  # Init\n",
    "        self.__set_name(name)\n",
    "    def __get_name (self):                      # Der Getter wird privat gesetzt\n",
    "        return self.__name\n",
    "    def __set_name (self, name):                # Der Setter wird privat gesetzt\n",
    "        if name == 'zantafio':                                   \n",
    "            self.__name = 'fantasio'\n",
    "        else:\n",
    "            self.__name = name\n",
    "    name = property (__get_name, __set_name)    # Die Properties leiten die Änderung und Abfrage (optional auch löschen) an die definierten getter und setter Funktionen weiter \n",
    "\n",
    "fant = comicfigur ('mickey mouse')\n",
    "pips = comicfigur ('pips')\n",
    "gast = comicfigur ('gaston')\n",
    "\n",
    "fant.name = 'fantasio'\n",
    "#print (fant.get_name())\n",
    "print (pips.name)"
   ]
  },
  {
   "cell_type": "markdown",
   "metadata": {},
   "source": [
    "Es ist ein übliches Python Vorgehen, ein Attribut erst 'public' zu definieren und erst bei dem Wunsch es später zu kapseln die Property zu definieren. Auf diese Art bleibt die Klassensignatur erhalten."
   ]
  },
  {
   "cell_type": "markdown",
   "metadata": {},
   "source": [
    "**Aufgabe**   \n",
    "In dieser Übung lernen Sie weitere 'Magic Methods' kennen:\n",
    "- \\_\\_str\\_\\_(self): liefert einen String zurück, welcher als Darstellung des Objektes genutzt werden kann (z.B. im Print)\n",
    "- \\_\\_eq\\_\\_(self, other): Vergleicht zwei Objekte auf Gleichheit (der Werte) (beim Aufruf dann: obj1==obj2)\n",
    "- \\_\\_lt\\_\\_(self, other): Vergleicht ob das erste Objekt kleiner als das zweite ist (Werte) (beim Aufruf dann: obj1<obj2)\n",
    "- \\_\\_gt\\_\\_(self, other): Vergleicht ob das erste Objekt grösser als das zweite ist (Werte) (beim Aufruf dann: obj1>obj2)\n",
    "\n",
    "Gegeben ist folgendes Code-Fragment. Ergänzen Sie die Klasse 'Wuerfel', so dass Sie einen lauffähigen 'Meier-Generator' haben. Die Ausgabe soll wie folgt sein:   \n",
    "```5er - Pasch   \n",
    "5 - 1   \n",
    "5 - 4   \n",
    "5 - 3   \n",
    "4 - 3   \n",
    "Meier   \n",
    "5 - 1   \n",
    "3 - 1   \n",
    "6 - 5   \n",
    "4 - 1   \n",
    "```   \n",
    "Hinweise: \n",
    "Ergänzen Sie die die Klasse mit:\n",
    "- Property 'wurf' - diese soll die Zufallszahl tragen und nur lesbar sein \n",
    "- Initialisierung - hier wird direkt der wurf initialisiert (random.randint(1,6))\n",
    "- String Repräsentation: \\_\\_str\\_\\_(self)\n",
    "- Vergleichsfunktionen (Magic Methods): \\_\\_eq\\_\\_(self, other), \\_\\_lt\\_\\_(self, other), \\_\\_gt\\_\\_(self, other)"
   ]
  },
  {
   "cell_type": "code",
   "execution_count": null,
   "metadata": {},
   "outputs": [],
   "source": [
    "import random\n",
    "\n",
    "class Wuerfel:\n",
    "...\n",
    "    \n",
    "for i in range(10):\n",
    "    wuerfel1, wuerfel2 = Wuerfel(), Wuerfel()\n",
    "    if (wuerfel1.wurf==2 and wuerfel2.wurf==1) or (wuerfel1.wurf==1 and wuerfel2.wurf==2):\n",
    "        print ('Meier')\n",
    "    elif wuerfel1 == wuerfel2:\n",
    "        print (f'{wuerfel1}er - Pasch')\n",
    "    elif wuerfel1<wuerfel2:\n",
    "        print (f'{wuerfel2} - {wuerfel1}')\n",
    "    else: \n",
    "        print (f'{wuerfel1} - {wuerfel2}') \n",
    "               "
   ]
  }
 ],
 "metadata": {
  "kernelspec": {
   "display_name": "Python 3",
   "language": "python",
   "name": "python3"
  },
  "language_info": {
   "codemirror_mode": {
    "name": "ipython",
    "version": 3
   },
   "file_extension": ".py",
   "mimetype": "text/x-python",
   "name": "python",
   "nbconvert_exporter": "python",
   "pygments_lexer": "ipython3",
   "version": "3.8.5"
  }
 },
 "nbformat": 4,
 "nbformat_minor": 2
}
