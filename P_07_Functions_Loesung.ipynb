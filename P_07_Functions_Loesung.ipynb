{
 "cells": [
  {
   "cell_type": "markdown",
   "metadata": {},
   "source": [
    "## Funktionen ##\n",
    "Unser Python Code hat inzwischen eine Länge und Komplexität erreicht, die ein strukturiertes Arbeiten erschweren. Funktionen sind ein wichtiges Werkzeug zur Strukturierung von Code; Funktionen erlauben Wiederverwertung und Erhöhen Lesbarkeit und Qualität des Codes.    \n",
    "In den bisherigen Abschnitten haben wir bereits definierte Funktionen (z.B. len(str), print('blabla'), int(str), ...) kennengelernt.\n",
    "Die Definition erfolgt mit:\n",
    "```\n",
    "def funct_name (param):\n",
    "   code\n",
    "   return val\n",
    "```"
   ]
  },
  {
   "cell_type": "code",
   "execution_count": null,
   "metadata": {},
   "outputs": [],
   "source": [
    "#Hallo Funktion\n",
    "#mit return\n",
    "def hallo_func (name):\n",
    "    return 'Hallo ' + name\n",
    "\n",
    "# Aufruf der Funktion\n",
    "print (hallo_func('Jan'))"
   ]
  },
  {
   "cell_type": "markdown",
   "metadata": {},
   "source": [
    "**Return**   \n",
    "Jede Funktion hat einen Rückgabewert. Dieser kann mit return explizit geliefert werden, ansonsten liefert eine Funktion den 'None' Wert zurück."
   ]
  },
  {
   "cell_type": "code",
   "execution_count": null,
   "metadata": {},
   "outputs": [],
   "source": [
    "#Print Hallo Funktion\n",
    "#ohne return\n",
    "def print_hallo_func (name):\n",
    "    print ('Hallo ' + name)\n",
    "    \n",
    "#Aufruf der Funktion und Druck des Rückgabewertes\n",
    "print(print_hallo_func('Jan'))"
   ]
  },
  {
   "cell_type": "markdown",
   "metadata": {},
   "source": [
    "**Parameter**   \n",
    "Die Übergabe der Parameter ist bei Python recht flexibel. Die Werte können **mit oder ohne Parameternamen** übergeben werden."
   ]
  },
  {
   "cell_type": "code",
   "execution_count": null,
   "metadata": {},
   "outputs": [],
   "source": [
    "#Parameter unbenannt, benannt   \n",
    "print_hallo_func ('Jan')\n",
    "print_hallo_func (name='Kai')"
   ]
  },
  {
   "cell_type": "markdown",
   "metadata": {},
   "source": [
    "Es kann ein **Standardwert** für den Parameterwert definiert werden. Dann kann die Funktion auch ohne den Parameter aufgerufen werden."
   ]
  },
  {
   "cell_type": "code",
   "execution_count": null,
   "metadata": {},
   "outputs": [],
   "source": [
    "#Funktion zur Flächenberechnung\n",
    "def flaeche_func (hoehe=10, breite=10):\n",
    "    return hoehe*breite\n",
    "\n",
    "print (flaeche_func(12,12))\n",
    "print (flaeche_func(hoehe=12,breite=12))\n",
    "print (flaeche_func(breite=12,hoehe=12))\n",
    "print (flaeche_func())\n",
    "print (flaeche_func(breite=12))\n",
    "print (flaeche_func(hoehe=12))\n",
    "print (flaeche_func(13, breite=12))\n",
    "print (flaeche_func(hoehe=12,13))              #Nach Aufrufen mit Parameternamen keine mehr ohne Namen!"
   ]
  },
  {
   "cell_type": "markdown",
   "metadata": {},
   "source": [
    "Eine Funktion kann sogar eine **variable Anzahl von Parametern besitzen**. In diesem Fall werden (implizit) Tupel übergeben."
   ]
  },
  {
   "cell_type": "code",
   "execution_count": null,
   "metadata": {},
   "outputs": [],
   "source": [
    "#Funktion berechnet Summe\n",
    "def summe_func (*zahl):\n",
    "    # statt der sum function\n",
    "    s = 0\n",
    "    for i in zahl:\n",
    "        s+=i\n",
    "    return s\n",
    "\n",
    "print(summe_func(1,2,3,4,5))\n",
    "print(summe_func(1))\n",
    "print(summe_func())\n",
    "    "
   ]
  },
  {
   "cell_type": "markdown",
   "metadata": {},
   "source": [
    "Eine Funktion kann auch im Aufruf einen Stern enthalten. Dann erfolgt ein **unpacking** einer Liste bzw. eines Tupels in die Parameterliste"
   ]
  },
  {
   "cell_type": "code",
   "execution_count": null,
   "metadata": {},
   "outputs": [],
   "source": [
    "#Unpacking des Parameter Tupels\n",
    "params = (13,5)\n",
    "flaeche_func(*params)"
   ]
  },
  {
   "cell_type": "markdown",
   "metadata": {},
   "source": [
    "Besteht das Ergebnis einer Funktion aus mehreren Werten, so müssen die Rückgaben ebenfallst in eine Liste oder ein Tupel gepackt werden (**packing**). "
   ]
  },
  {
   "cell_type": "code",
   "execution_count": null,
   "metadata": {},
   "outputs": [],
   "source": [
    "#Doppelgruss Funktion\n",
    "def doppelgruss(name='Seppl'):\n",
    "    servus = 'Servus ' + name\n",
    "    gruess_di = 'Gruess Di ' + name\n",
    "    return (servus, gruess_di)\n",
    "\n",
    "#Funktion liefert alle Zahlenwerte bis zum entsprechenden Wert (analog range-Funktion)\n",
    "def my_range(max):\n",
    "    val=[]\n",
    "    i=0\n",
    "    while i<max:\n",
    "        val+=[i]\n",
    "        i+=1\n",
    "    return val\n",
    "        \n",
    "print (doppelgruss())\n",
    "print(my_range(10))   "
   ]
  },
  {
   "cell_type": "markdown",
   "metadata": {},
   "source": [
    "**Variablen**   \n",
    "Die Sichtbarkeit von Variablen ist analog wie bei den meisten anderen Sprachen; eine Variable, die innerhalb einer Funktion eingeführt wird ist auch nur innerhalb dieser Funktion sichtbar.   \n",
    "Variablen, die ausserhalb der Funktion defiert wurden sind für die Funktion lesbar. Sollen sie innerhalb der Funktion geändert werden, so müssen sie ausdrücklich als **global** markiert werden."
   ]
  },
  {
   "cell_type": "code",
   "execution_count": null,
   "metadata": {},
   "outputs": [],
   "source": [
    "aussen_01, aussen_02 = 'a_01','a_02'\n",
    "\n",
    "def innen ():\n",
    "    innen_01 = 'i_01'\n",
    "    print (f\"In Funktion: Aussen_01: {aussen_01}, Innen_01: {innen_01}\")\n",
    "    global innen_02\n",
    "    innen_02 = 'i_02'\n",
    "    global aussen_02\n",
    "    aussen_02 = 'a_02_mod'\n",
    "    print (f\"In Funktion: Aussen_02: {aussen_02}, Innen_02: {innen_02}\")\n",
    "    \n",
    "innen()\n",
    "print (f\"Ausserhalb Funktion: Aussen_01: {aussen_01}, Aussen_02: {aussen_02}\")\n",
    "print (f\"Ausserhalb Funktion: Innen_01: {innen_01}, Innen_02: {innen_02}\")"
   ]
  },
  {
   "cell_type": "markdown",
   "metadata": {},
   "source": [
    "**Aufgabe**   \n",
    "Schreiben Sie eine Funktion (prim) um alle Primzahlen bis zu einem bestimmten Wert (n) zu ermitteln und zurückliefert. Verwenden Sie dazu den Lösungsansatz der letzten Stunde:\n",
    "```\n",
    "for i in range(2,100):                   # Diese Zahl wir geprüft ob sie eine Primzahl ist\n",
    "    for j in range (2, i):               # Zahlen zwischen 2 und der Testzahl\n",
    "        if (i%j==0):                     # Prüfbedingung - ist j ein Teiler von i -> breche die Prüfung ab\n",
    "            break\n",
    "    else:                                # wenn nicht abgebrochen, dann drucke die Primzahl\n",
    "        print (\"Primzahl \" + str(i))\n",
    "```"
   ]
  },
  {
   "cell_type": "code",
   "execution_count": 2,
   "metadata": {},
   "outputs": [
    {
     "name": "stdout",
     "output_type": "stream",
     "text": [
      "[2, 3, 5, 7, 11, 13, 17, 19, 23, 29, 31, 37, 41, 43, 47, 53, 59, 61, 67, 71, 73, 79, 83, 89, 97]\n"
     ]
    }
   ],
   "source": [
    "def prim(n):\n",
    "    primzahlen =[]\n",
    "    for i in range(2,n):                 \n",
    "        for j in range (2, i):           \n",
    "            if (i%j==0):                     \n",
    "                break\n",
    "        else:                                \n",
    "            primzahlen.append(i)\n",
    "    return primzahlen\n",
    "\n",
    "print (prim(100))"
   ]
  },
  {
   "cell_type": "markdown",
   "metadata": {},
   "source": [
    "**Aufgabe**   \n",
    "Nutzen Sie die Primzahlfunktion und schreiben Sie Code zur Primfaktorzerlegung. D.h. Ihre Funktion soll z.B. für den Eingabewert 112 zurückliefern: 2, 2, 2, 2, 7 oder für 78: 2, 3, 13"
   ]
  },
  {
   "cell_type": "code",
   "execution_count": 12,
   "metadata": {},
   "outputs": [
    {
     "name": "stdout",
     "output_type": "stream",
     "text": [
      "Zahl    :  100\n",
      "Faktoren:  2 2 5 5 "
     ]
    }
   ],
   "source": [
    "# Einfache Lösung\n",
    "# Es wird direkt in die Konsole gedruckt\n",
    "# Primzahlen werden jedes Mal neu bestimmt\n",
    "def prime_fac_01(n):\n",
    "    #primzahlen bis zur Zahl (eigentlich reicht die Zahl kleiner als die Hälfte\n",
    "    primes = prim(int(n+1))\n",
    "    for p in primes:\n",
    "         if n%p==0:\n",
    "            print (p, end=\" \")\n",
    "            prime_fac_01(n/p)\n",
    "            break\n",
    "    \n",
    "n=100\n",
    "print (\"Zahl    :  \"+str(n))\n",
    "print (\"Faktoren: \", end=\" \")\n",
    "prime_fac_01(n)"
   ]
  },
  {
   "cell_type": "code",
   "execution_count": 11,
   "metadata": {},
   "outputs": [
    {
     "name": "stdout",
     "output_type": "stream",
     "text": [
      "Zahl    :  100\n",
      "Faktoren: [2, 2, 5] "
     ]
    }
   ],
   "source": [
    "# Andere Lösung\n",
    "# Primzahlen werden nur einmal bestimmt und übergeben\n",
    "# Faktoren werdenm in einer Liste gesammelt\n",
    "# Hinweis - Rekursive Funktion\n",
    "\n",
    "def prime_fac(n,primes):\n",
    "    global factors\n",
    "    for p in primes:\n",
    "        if n%p==0:\n",
    "            factors.append(p)\n",
    "            prime_factors(n/p)\n",
    "            break\n",
    "        \n",
    "def prime_factors(n/2):\n",
    "    primes = prim(int(n))\n",
    "    prime_fac(n,primes)\n",
    "    \n",
    "n=100\n",
    "factors = []\n",
    "prime_factors(n)\n",
    "print (\"Zahl    :  \"+str(n))\n",
    "print (f\"Faktoren: {factors}\", end=\" \")\n"
   ]
  }
 ],
 "metadata": {
  "kernelspec": {
   "display_name": "Python 3",
   "language": "python",
   "name": "python3"
  },
  "language_info": {
   "codemirror_mode": {
    "name": "ipython",
    "version": 3
   },
   "file_extension": ".py",
   "mimetype": "text/x-python",
   "name": "python",
   "nbconvert_exporter": "python",
   "pygments_lexer": "ipython3",
   "version": "3.7.1"
  }
 },
 "nbformat": 4,
 "nbformat_minor": 2
}
