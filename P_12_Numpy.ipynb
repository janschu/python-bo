{
 "cells": [
  {
   "cell_type": "markdown",
   "metadata": {},
   "source": [
    "# NumPy\n",
    "[NumPy](https://numpy.org/) ist eine Bibliothek zur Verarbeitung und Berechnung von grossen Vektoren, Arrays, ...\n",
    "\n",
    "Numpy basiert auf Arrays von Zellen gleichen Typs (!). Sie werden in reservierten Bereichen im Arbeitsspeicher gehalten und sind sehr schnell. Die meisten Operatoren können unmittelbar auf die einzelnen Zellen angewendet werden, ohne dass per loop durch diese iteriert werden muss. \n",
    "\n",
    "Bei den meisten Operationen werden keine Datenkopien gezogen, sondern unmittelbar in den Speicherzellen gearbeitet. D.h. es muss besonders auf Nebeneffekte bei der datenmanipulation geachtet werden."
   ]
  },
  {
   "cell_type": "code",
   "execution_count": 1,
   "metadata": {},
   "outputs": [],
   "source": [
    "# Ein einfaches Numpy Beispiel - 1 Mio. Multiplikationen als Numpy.Array und als Liste \n",
    "import numpy as np\n",
    "import time\n",
    "\n",
    "my_arr = np.arange(1000000)\n",
    "my_list = list(range(1000000))"
   ]
  },
  {
   "cell_type": "code",
   "execution_count": 2,
   "metadata": {},
   "outputs": [
    {
     "name": "stdout",
     "output_type": "stream",
     "text": [
      "Numpy Multiplikation: 4.984140396118164 ms\n"
     ]
    }
   ],
   "source": [
    "# Numpy Multiplikation ohne Iteration (Vektorisieren)\n",
    "start = time.time()\n",
    "my_arr2 = my_arr*2\n",
    "end = time.time()\n",
    "print (f\"Numpy Multiplikation: {(end-start)*1000} ms\")"
   ]
  },
  {
   "cell_type": "code",
   "execution_count": 3,
   "metadata": {},
   "outputs": [
    {
     "name": "stdout",
     "output_type": "stream",
     "text": [
      "List Iteration-Multiplikation: 320.5873966217041 ms\n"
     ]
    }
   ],
   "source": [
    "# Listen Multiplikation als Iteration\n",
    "start = time.time()\n",
    "my_list2 =[]\n",
    "for x in my_list:\n",
    "    my_list2.append(x*2)\n",
    "end = time.time()\n",
    "print (f\"List Iteration-Multiplikation: {(end-start)*1000} ms\")"
   ]
  },
  {
   "cell_type": "markdown",
   "metadata": {},
   "source": [
    "## NumPy Arrays\n",
    "Arrays sind die zentralen Elemente für NumPy. Ein Array kann beliebig viele Dimensionen haben und die Zellen müssen den gleichen Datentyp aufweisen.\n",
    "\n",
    "[NumPy Datentypen](https://numpy.org/devdocs/user/basics.types.html) orientieren sich an den C Datentypen un unterscheiden sich daher von den Python Typen:\n",
    "- np.bool_\n",
    "- np.int32\n",
    "- np.int64\n",
    "- np.float64\n",
    "- ...\n",
    "\n",
    "Effizient ist besonders die Initiierung eines Arrays in der kompletten Grösse, da dann der Speicherbereich entsprechend reserviert wird (ein Append ist aber trotzdem möglich)."
   ]
  },
  {
   "cell_type": "code",
   "execution_count": null,
   "metadata": {},
   "outputs": [],
   "source": [
    "# Casten aus iterierbaren Datentypen\n",
    "data_x = [8, 5, 9, 4, 2]\n",
    "data_arr_x = np.array(data_x)\n",
    "print(data_arr_x)\n",
    "print (f\"Dimension: {data_arr_x.ndim}\")\n",
    "print (f\"Shape: {data_arr_x.shape}\")\n",
    "print (f\"Dataype: {data_arr_x.dtype}\")"
   ]
  },
  {
   "cell_type": "code",
   "execution_count": null,
   "metadata": {},
   "outputs": [],
   "source": [
    "data_y, data_z = [9, 3, 2, 8, 1], [3, 4, 8, 1, 1]\n",
    "data_xyz = tuple(zip(data_x, data_y, data_z))\n",
    "data_arr_xyz = np.array(data_xyz)\n",
    "print(data_arr_xyz)\n",
    "print (f\"Dimension: {data_arr_xyz.ndim}\")\n",
    "print (f\"Shape: {data_arr_xyz.shape}\")\n",
    "print (f\"Datatype: {data_arr_xyz.dtype}\")"
   ]
  },
  {
   "cell_type": "code",
   "execution_count": null,
   "metadata": {},
   "outputs": [],
   "source": [
    "data_xyz_time = list(zip(((8.3,9.4,3.2),(6.2,4.3,4.0), (7.6,4.1,3.2), (8.4,5.2,2.1), (7.1,0.6,2.3)), data_xyz))\n",
    "data_arr_xyz_time = np.array(data_xyz_time)\n",
    "print(data_arr_xyz_time)\n",
    "print (f\"Dimension: {data_arr_xyz_time.ndim}\")\n",
    "print (f\"Shape: {data_arr_xyz_time.shape}\")\n",
    "print (f\"Datatype: {data_arr_xyz_time.dtype}\")"
   ]
  },
  {
   "cell_type": "code",
   "execution_count": null,
   "metadata": {},
   "outputs": [],
   "source": [
    "# Weitere Erzeugungsarten:\n",
    "# leeres Array (Speicher reserviert ohne Wertzuweisung): \n",
    "leer = np.empty((2,3,3))\n",
    "print (f\"leer: {leer}\")\n",
    "# Nuller-Array:\n",
    "zeros = np.zeros((5))\n",
    "print (f\"zeros: {zeros}\")\n",
    "# Default Belegung\n",
    "defaults = np.full((3,2), 5)\n",
    "print (f\"defaults: {defaults}\")\n",
    "# Zufalls Array\n",
    "rand = np.random.rand(2,2,2)\n",
    "print (f\"Zufallszahlen: {rand}\")\n"
   ]
  },
  {
   "cell_type": "markdown",
   "metadata": {},
   "source": [
    "## Operatoren\n",
    "Eine besondere Stärke von NumPy liegt in der Anwendung von Operatoren auf jedes (oder ausgewählte) Elemente eines Arrays **ohne** Iteratoren. Diese Eigenschaft wird *Vektorisierung* genannt (im Hintergrund läuft eine viel schnellere C Schleife).\n",
    "- Skalare Operatoren (einfache Rechenoperationen für jedes Element)\n",
    "- unäre Operatoren\n",
    "- binäre Operatoren "
   ]
  },
  {
   "cell_type": "code",
   "execution_count": null,
   "metadata": {},
   "outputs": [],
   "source": [
    "# Skalare Operationen\n",
    "new_x = data_arr_x *3\n",
    "print (f\"old numpy array: {data_arr_x}\")\n",
    "print (f\"new numpy array: {new_x}\")"
   ]
  },
  {
   "cell_type": "code",
   "execution_count": null,
   "metadata": {},
   "outputs": [],
   "source": [
    "# unäre operatoren\n",
    "print (\"Unäre Operatoren\")\n",
    "print (f\"Square:  {np.square(new_x)}\")\n",
    "print (f\"Squareroot:  {np.sqrt(new_x)}\")\n",
    "print (f\"Floor von Sqrt: {np.floor(np.sqrt(new_x))}\")\n",
    "print (f\"Sinus:  {np.sin(new_x)}\")\n",
    "print (\"...\")\n",
    "\n",
    "# oder eigene Funktionen\n",
    "print (\"Eigene unäre Funktionen\")\n",
    "def eins_plus (x):\n",
    "    return x+1\n",
    "print (f\"Eine unäre Funktion: {eins_plus(new_x)}\")\n",
    "un_funk = lambda x:x**2-1\n",
    "print (f\"Eine Lambda Funktion:  {un_funk(new_x)}\")\n",
    "print(\"...\")\n",
    "\n",
    "# binäre operatoren\n",
    "print (\"Binäre Operatoren\")\n",
    "print (f\"Add:  {np.add(new_x, data_arr_x)}\")\n",
    "print (f\"Maximum: {np.maximum(new_x, data_arr_x)}\")\n",
    "print (f\"Greater Equal: {np.greater_equal(new_x, data_arr_x)}\")\n",
    "print (f\"Less: {np.less(new_x, data_arr_x)}\")\n",
    "print (f\"XOR: {np.logical_xor(np.less(new_x, data_arr_x),np.greater_equal(new_x, data_arr_x))}\")\n",
    "print (\"...\")\n",
    "\n",
    "def fast_a_plus_b (x,y):\n",
    "    return x+y-1\n",
    "print (f\"Eine binäre Funktion: {fast_a_plus_b(new_x, data_arr_x)}\")\n",
    "bi_funk = lambda x,y:x+y-1\n",
    "\n",
    "print (f\"Eine Lambda Funktion:  {bi_funk(new_x, data_arr_x)}\")\n",
    "print(\"...\")"
   ]
  },
  {
   "cell_type": "markdown",
   "metadata": {},
   "source": [
    "## Slicing\n",
    "Slicing Operatoren sind analog zu normalen iterierbaren Datentypen. Es wird aber stets nur eine **Referenz** auf die originären Daten zurückgeliefert! Möchten Sie die Slicing Daten weiterverarbeiten ohne die Originaldaten zu verändern, müssen Sie eine Kopie erstellen (*array.copy()*)."
   ]
  },
  {
   "cell_type": "code",
   "execution_count": null,
   "metadata": {},
   "outputs": [],
   "source": [
    "# Slicing 1-D\n",
    "element = new_x[-2:-5:-2]\n",
    "print (f\"Beliebiges Slicing : {element}\")\n",
    "element *=3\n",
    "print (f\"Ändern des Ergebnisses : {element}\")\n",
    "print (f\"Achtung: Geänderte Ursprungsdaten: {new_x}\")\n",
    "\n",
    "# Alternative mit Copy\n",
    "element_copy = new_x[-2:-5:-2].copy()\n",
    "print (f\"Kopierte Elemente : {element_copy}\")\n",
    "element_copy *=2\n",
    "print (f\"Geänderte Ergebnisse im Copy Array : {element_copy}\")\n",
    "print (f\"Unveränderte Ursprungsdaten: {new_x}\")"
   ]
  },
  {
   "cell_type": "code",
   "execution_count": null,
   "metadata": {},
   "outputs": [],
   "source": [
    "# Slicing Mehrdimensional\n",
    "# Auswahl von Elementen entlang der ersten Dimension\n",
    "print (f\"Ursprungsarray: {data_arr_xyz_time}\")\n",
    "print (f\"Einzelnes Element: \\n {data_arr_xyz_time[1]}\")\n",
    "print (f\"Mehrere Elemente: \\n {data_arr_xyz_time[0:3:2]}\")  "
   ]
  },
  {
   "cell_type": "code",
   "execution_count": null,
   "metadata": {},
   "outputs": [],
   "source": [
    "#Auswahl von Elementen entlang der zweiten Dimension\n",
    "print (f\"Ursprungsarray: {data_arr_xyz_time}\")\n",
    "print (f\"Einzelnes Element: \\n {data_arr_xyz_time[:,1]}\")\n",
    "print (f\"Mehrere Elemente: \\n {data_arr_xyz_time[:,0:1]}\")  "
   ]
  },
  {
   "cell_type": "code",
   "execution_count": null,
   "metadata": {},
   "outputs": [],
   "source": [
    "#Auslesen in allen Dimensionen\n",
    "print (f\"Ursprungsarray: {data_arr_xyz_time}\")\n",
    "print (f\"Einzelnes Element ('Start-Ecke'): \\n {data_arr_xyz_time[0,0,0]}\")\n",
    "print (f\"Einzelnes Element ('End-Ecke'): \\n {data_arr_xyz_time[-1,-1,-1]}\")\n",
    "print (f\"Mittleren Elemente: \\n {data_arr_xyz_time[1:-1,1,1:-1]}\") "
   ]
  },
  {
   "cell_type": "markdown",
   "metadata": {},
   "source": [
    "## Sortieren und Mengenlehre\n",
    "NumPy erlaubt auch ein schnelles Soritieren der Arrays. Dabei muss natürlich angegeben werden, in welche \"Richtung\" sortiert wird. Das erfolgt mit Angabe der **axis**. Default ist (*axis=-1*), also entlang der letzten Dimension.\n",
    "\n",
    "Bei **eindimensionalen Arrays** sind Methoden analog zu **Sets** möglich; also z.B. Intersect (*np.intersect1d*), eindeutige Werte (*np.unique*)."
   ]
  },
  {
   "cell_type": "code",
   "execution_count": null,
   "metadata": {},
   "outputs": [],
   "source": [
    "# eindimensionales sortieren\n",
    "wuerfel1 = np.random.randint(low=1, high=7, size=(10))\n",
    "print (f\"Würfel 1: {wuerfel1}\")\n",
    "sorted = np.sort(wuerfel1)\n",
    "print (f\"Sort:     {sorted}\")"
   ]
  },
  {
   "cell_type": "code",
   "execution_count": null,
   "metadata": {},
   "outputs": [],
   "source": [
    "# Mehrdimensionales Sortieren\n",
    "kniffel_wuerfe = np.random.randint(low=1, high=7, size=(3, 6))\n",
    "print(f\"Kniffel Würfe: {kniffel_wuerfe}\")\n",
    "sorted_0 = np.sort(kniffel_wuerfe,axis=0)\n",
    "print(f\"Sortiert die Würfe: {sorted_0}\")\n",
    "sorted_1 = np.sort(kniffel_wuerfe,axis=-1)\n",
    "print(f\"Sortiert innerhalb der Würfe: {sorted_1}\")\n",
    "sorted_none = np.sort(kniffel_wuerfe,axis=None)\n",
    "print(f\"Elementweise: {sorted_none}\")"
   ]
  },
  {
   "cell_type": "code",
   "execution_count": null,
   "metadata": {},
   "outputs": [],
   "source": [
    "# Setähnliche Operatoren für eindimensionale Arrays\n",
    "# Auslesen der eindeutigen Werte\n",
    "eindeutig = np.unique(sorted_none)\n",
    "print(f\"Eindeutige Werte: {eindeutig}\")\n",
    "\n",
    "#intersect\n",
    "intersect = np.intersect1d(kniffel_wuerfe[0], kniffel_wuerfe[1])\n",
    "print(f\"Wurf 0: {kniffel_wuerfe[0]}\")\n",
    "print(f\"Wurf 1: {kniffel_wuerfe[1]}\")\n",
    "print(f\"Zahlen in beiden Würfen: {intersect}\")\n"
   ]
  },
  {
   "cell_type": "markdown",
   "metadata": {},
   "source": [
    "## Vergleiche und Boolsches Indizieren\n",
    "Neben dem Slicing können auch mit Hilfe eines **boolschen Arrays** Elemente ausgewählt werden. Dabei wird neben den Datenarray auch ein 'Boolsches Array' mit gleicher Grösse verwendet. Alles Elemente, die ein entsprechendes 'True' Element tragen werden selektiert und zurückgegeben.\n",
    "\n",
    "Zur Erzeugung eines solchen Arrays eignen sich Vergleichsoperatoren wie '==' oder < und >."
   ]
  },
  {
   "cell_type": "code",
   "execution_count": null,
   "metadata": {},
   "outputs": [],
   "source": [
    "import random\n",
    "# Random Array\n",
    "rand_array = np.random.rand(10,10)\n",
    "# Stichprobenraster\n",
    "select_array = np.zeros((10,10),dtype=bool)\n",
    "for i in range(10):\n",
    "    x, y = random.randint(0,9), random.randint(0,9)\n",
    "    select_array [x,y] = True\n",
    "print (f\"Zufallszahlen: \\n {rand_array}\")\n",
    "print (f\"Stichprobenarray: \\n {select_array}\")\n",
    "print (f\"Stichprobenwerte: \\n {rand_array[select_array]}\")"
   ]
  },
  {
   "cell_type": "code",
   "execution_count": null,
   "metadata": {},
   "outputs": [],
   "source": [
    "zahlenstrahl = np.arange(1000)\n",
    "dreierreihe = (zahlenstrahl%3==0)\n",
    "print (f\"Dreiherreihe: {zahlenstrahl[dreierreihe]}\")"
   ]
  },
  {
   "cell_type": "markdown",
   "metadata": {},
   "source": [
    "## Where\n",
    "Die where Funktion ermöglicht einfache logische Statements in Arrays (*np.where(Bedingung, Array/Skalar, Array/Skalar*). Jedes Element im Array wird auf eine Bedingung geprüft und dann wird der entsprechende 'Wahr' oder 'Falsch' Wert in das gleichdimensionierte Ergebnisarray eingetragen."
   ]
  },
  {
   "cell_type": "code",
   "execution_count": null,
   "metadata": {},
   "outputs": [],
   "source": [
    "# Grösser - Kleiner\n",
    "wuerfel1, wuerfel2 = np.random.randint(low=1, high=7, size=(10)), np.random.randint(low=1, high=7, size=(10))\n",
    "\n",
    "grössteZahl = np.where(np.greater(wuerfel1,wuerfel2),wuerfel1,wuerfel2)\n",
    "print (f\"Würfel1:      {wuerfel1}\")\n",
    "print (f\"Würfel2:      {wuerfel2}\")\n",
    "print (f\"Grösste Zahl: {grössteZahl}\")"
   ]
  },
  {
   "cell_type": "markdown",
   "metadata": {},
   "source": [
    "## Strukturen bearbeiten\n",
    "Die **Reshape Methode** erlaubt eine sehr schnelle Umstrukturierung von Arrays. Es ist z.B. möglich ein flaches eindimensionales Array in Koordinatenlisten umzuwandeln. Dabei kann eine Dimensionsangabe mit **-1** belegt werden, d.h. diese Achse wird entsprechend gefüllt.\n",
    "\n",
    "Ein transponiertes Array lässt sich mit **T** erzeugen."
   ]
  },
  {
   "cell_type": "code",
   "execution_count": null,
   "metadata": {},
   "outputs": [],
   "source": [
    "# Reshape\n",
    "coord_flat = (381880.543000, 5710168.931000, 381881.146000, 5710167.188000, 381884.609000, 5710160.149000, 381968.945000, 5710196.188000, 382062.619000, 5710235.243000)\n",
    "\n",
    "reshape = np.array(coord_flat).reshape(-1,2)\n",
    "print (f\"Koordinatenpaare: {reshape}\")\n",
    "transpose = reshape.T\n",
    "print (f\"Transponiert: {transpose}\")\n",
    "transpose.reshape(-1)"
   ]
  },
  {
   "cell_type": "markdown",
   "metadata": {},
   "source": [
    "## Aufgabe ##\n",
    "\n",
    "Lesen Sie die Datei 'bev_2012_2016_clean.csv' ein und beantworten Se mit Hilfe von Numpy Arrays folgende Fragen:\n",
    "- Wie hat sich die Gesamtbevölkerung in Deutschland entwickelt (-> Array von 2012 bis 2016)\n",
    "- Welcher Landkreis ist absolut - welcher relativ - am stärksten gewachsen (Vergleich 2016 - 2012). Beachten Sie dabei, dass für einige Landkreise (aufgrund organisatorischer Änderungen) keine direkten Daten für 2012 vorliegen. Diese Landkreise dürfen nicht berücksichtigt werden. "
   ]
  },
  {
   "cell_type": "code",
   "execution_count": 5,
   "metadata": {},
   "outputs": [],
   "source": [
    "# Aufgabe\n",
    "import numpy as np\n",
    "\n",
    "\n",
    "filename= 'bev_2012_2016_clean.csv'\n"
   ]
  },
  {
   "cell_type": "code",
   "execution_count": null,
   "metadata": {},
   "outputs": [],
   "source": []
  }
 ],
 "metadata": {
  "kernelspec": {
   "display_name": "Python 3",
   "language": "python",
   "name": "python3"
  },
  "language_info": {
   "codemirror_mode": {
    "name": "ipython",
    "version": 3
   },
   "file_extension": ".py",
   "mimetype": "text/x-python",
   "name": "python",
   "nbconvert_exporter": "python",
   "pygments_lexer": "ipython3",
   "version": "3.8.5"
  }
 },
 "nbformat": 4,
 "nbformat_minor": 2
}
