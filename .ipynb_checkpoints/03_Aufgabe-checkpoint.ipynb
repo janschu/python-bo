{
 "cells": [
  {
   "cell_type": "markdown",
   "metadata": {},
   "source": [
    "## Aufgabe ##\n",
    "Gegeben sind 2 Dateien mit den Kreisgrenzen von Dortmund (Dortmund_coord_25832.txt) und Bochum (Bochum_coord_25832.txt). Die Dateien enthalten reine Koordinatenlisten (Rechtswert in m, Hochwert in m) und sind topologisch bereinigt; d.h. die Grenzlinie der beiden Polygone ist in beiden Datensätzen mit gleichen Stützpunkten enthalten.\n",
    "Geben Sie folgende Informationen per print aus:\n",
    "- Anzahl der Stützpunkte für Bochum und Dortmund\n",
    "- Länge des Polygonumrisses für Bochum und Dortmund\n",
    "- Anzahl der gemeinsamen Stützpunkte\n",
    "- Länge der gemeinsamen Grenze\n",
    "\n",
    "Lösen Sie folgende Aufgabe mit den bekannten Techniken. Beachten Sie z.B.:\n",
    "- Einlesen von Dateien\n",
    "- Unterschiedliche Eigenschaften von Liste, Tupel, Set, Dictionary\n",
    "- Slicing von Daten\n",
    "- Verwenden von Funktionen"
   ]
  },
  {
   "cell_type": "code",
   "execution_count": null,
   "metadata": {},
   "outputs": [],
   "source": [
    "import math\n",
    "# Hinweis: Die Wurzelfunktion befindet sich im math Paket: math.sqrt(...)\n"
   ]
  }
 ],
 "metadata": {
  "kernelspec": {
   "display_name": "Python 3",
   "language": "python",
   "name": "python3"
  },
  "language_info": {
   "codemirror_mode": {
    "name": "ipython",
    "version": 3
   },
   "file_extension": ".py",
   "mimetype": "text/x-python",
   "name": "python",
   "nbconvert_exporter": "python",
   "pygments_lexer": "ipython3",
   "version": "3.7.0"
  }
 },
 "nbformat": 4,
 "nbformat_minor": 2
}
