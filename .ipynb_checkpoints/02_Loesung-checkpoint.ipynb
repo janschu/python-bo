{
 "cells": [
  {
   "cell_type": "markdown",
   "metadata": {},
   "source": [
    "## Aufgabe ##\n",
    "Gegeben sind 2 Dateien mit den Kreisgrenzen von Dortmund (Dortmund_coord_25832.txt) und Bochum (Bochum_coord_25832.txt). Die Dateien enthalten reine Koordinatenlisten (Rechtswert in m, Hochwert in m) und sind topologisch bereinigt; d.h. die Grenzlinie der beiden Polygone ist in beiden Datensätzen mit gleichen Stützpunkten enthalten.\n",
    "Geben Sie folgende Informationen per print aus:\n",
    "- Anzahl der Stützpunkte für Bochum und Dortmund\n",
    "- Länge des Polygonumrisses für Bochum und Dortmund\n",
    "- Anzahl der gemeinsamen Stützpunkte\n",
    "- Länge der gemeinsamen Grenze\n",
    "\n",
    "Lösen Sie folgende Aufgabe mit den bekannten Techniken. Beachten Sie z.B.:\n",
    "- Einlesen von Dateien\n",
    "- Unterschiedliche Eigenschaften von Liste, Tupel, Set, Dictionary\n",
    "- Slicing von Daten\n",
    "- Verwenden von Funktionen"
   ]
  },
  {
   "cell_type": "code",
   "execution_count": null,
   "metadata": {},
   "outputs": [],
   "source": [
    "# Berechnung mit set\n",
    "import math\n",
    "\n",
    "#File Load\n",
    "def file_to_coords (filename):\n",
    "    try:\n",
    "        with open(filename, 'r') as in_file:\n",
    "            in_list = in_file.read().split()\n",
    "    except FileNotFoundError:                                                   # Bekannter Fehler ohne Fehlerobjekt\n",
    "        print (\"File ist nicht vorhanden.\")\n",
    "    coordinate_list = []\n",
    "    for i in range(0,len(in_list),2):\n",
    "        coord = (float(in_list[i]), float(in_list[i+1]))\n",
    "        coordinate_list.append(coord)\n",
    "    return coordinate_list\n",
    "\n",
    "# Simple Distance between two points\n",
    "def dist_point(a,b):\n",
    "    return math.sqrt((a[0]-b[0])**2+(a[1]-b[1])**2)\n",
    "\n",
    "# Distance of a linestring as list of tupels\n",
    "def dist_ordered_list (li):\n",
    "    distance = 0\n",
    "    for i in range(1,len(li)):\n",
    "        distance += dist_point(li[i-1],li[i])\n",
    "    return distance\n",
    "\n",
    "# Intersects two Lists with keeping the order\n",
    "# Assumes a common border\n",
    "def common_border (list_1, list_2):\n",
    "    set_1 = set(list_1)\n",
    "    set_2 = set(list_2)\n",
    "    intersect = set_1.intersection(set_2)    \n",
    "    # There are no ordered Sets in Python, so we have to keep the order of one List\n",
    "    common_border = []\n",
    "    for item in list_1:\n",
    "        if item in intersect:\n",
    "            common_border.append(item)\n",
    "    return common_border\n",
    "    \n",
    "    \n",
    "#Load two Files\n",
    "bo_coord = file_to_coords ('Bochum_coord_25832.txt')\n",
    "do_coord = file_to_coords ('Dortmund_coord_25832.txt')\n",
    "common = common_border(bo_coord, do_coord)\n",
    "print (f\"Bochum  : Stützpunkte: {len(bo_coord)}, Länge: {dist_ordered_list(bo_coord)}\")\n",
    "print (f\"Dortmund: Stützpunkte: {len(do_coord)}, Länge: {dist_ordered_list(do_coord)}\")\n",
    "print (f\"Common  : Stützpunkte: {len(common)}, Länge: {dist_ordered_list(common)}\")"
   ]
  },
  {
   "cell_type": "code",
   "execution_count": 3,
   "metadata": {},
   "outputs": [
    {
     "name": "stdout",
     "output_type": "stream",
     "text": [
      "Bochum  : Stützpunkte: 3389, Länge: 70683.95498465699\n",
      "Dortmund: Stützpunkte: 4076, Länge: 107300.82375380375\n",
      "Common  : Stützpunkte: 502, Länge: 11151.000637792202\n"
     ]
    }
   ],
   "source": [
    "# Berechnung ohne set\n",
    "import math\n",
    "\n",
    "#File Load\n",
    "def file_to_coords (filename):\n",
    "    try:\n",
    "        with open(filename, 'r') as in_file:\n",
    "            in_list = in_file.read().split()\n",
    "    except FileNotFoundError:                                                   # Bekannter Fehler ohne Fehlerobjekt\n",
    "        print (\"File ist nicht vorhanden.\")\n",
    "    coordinate_list = []\n",
    "    for i in range(0,len(in_list),2):\n",
    "        coord = (float(in_list[i]), float(in_list[i+1]))\n",
    "        coordinate_list.append(coord)\n",
    "    return coordinate_list\n",
    "\n",
    "# Simple Distance between two points\n",
    "def dist_point(a,b):\n",
    "    return math.sqrt((a[0]-b[0])**2+(a[1]-b[1])**2)\n",
    "\n",
    "# Distance of a linestring as list of tupels\n",
    "def dist_ordered_list (li):\n",
    "    distance = 0\n",
    "    for i in range(1,len(li)):\n",
    "        distance += dist_point(li[i-1],li[i])\n",
    "    return distance\n",
    "\n",
    "# Intersects two Lists with keeping the order\n",
    "# Assumes a common border\n",
    "def common_border (list_1, list_2):   \n",
    "    # There are no ordered Sets in Python, so we have to keep the order of one List\n",
    "    common_border = []\n",
    "    for item in list_1:\n",
    "        if item in list_2:\n",
    "            common_border.append(item)\n",
    "    return common_border\n",
    "    \n",
    "    \n",
    "#Load two Files\n",
    "bo_coord = file_to_coords ('Bochum_coord_25832.txt')\n",
    "do_coord = file_to_coords ('Dortmund_coord_25832.txt')\n",
    "common = common_border(bo_coord, do_coord)\n",
    "print (f\"Bochum  : Stützpunkte: {len(bo_coord)}, Länge: {dist_ordered_list(bo_coord)}\")\n",
    "print (f\"Dortmund: Stützpunkte: {len(do_coord)}, Länge: {dist_ordered_list(do_coord)}\")\n",
    "print (f\"Common  : Stützpunkte: {len(common)}, Länge: {dist_ordered_list(common)}\")"
   ]
  },
  {
   "cell_type": "code",
   "execution_count": 4,
   "metadata": {},
   "outputs": [
    {
     "name": "stdout",
     "output_type": "stream",
     "text": [
      "[(381880.543, 5710168.931), (381881.146, 5710167.188), (381884.609, 5710160.149), (381968.945, 5710196.188), (382062.619, 5710235.243), (382102.008, 5710075.421), (382106.423, 5710057.956), (382125.194, 5710065.463), (382154.041, 5709950.933), (382184.756, 5709963.754), (382211.112, 5709867.477), (382219.48, 5709838.996), (382280.195, 5709859.372), (382292.914, 5709864.553), (382356.253, 5709620.829), (382448.516, 5709643.158), (382461.726, 5709644.929), (382462.802, 5709645.073), (382555.052, 5709674.405), (382629.442, 5709695.165), (382649.761, 5709713.399), (382661.747, 5709724.155), (382682.441, 5709714.001), (382689.117, 5709720.631), (382728.727, 5709676.484), (382744.999, 5709628.849), (382748.225, 5709619.404), (382758.559, 5709589.116), (382793.545, 5709481.025), (382796.568, 5709471.796), (382804.894, 5709474.757), (382805.552, 5709466.425), (382805.69, 5709460.016), (382800.435, 5709412.407), (382823.558, 5709417.562), (382846.394, 5709423.028), (382862.346, 5709427.45), (382875.653, 5709431.433), (382887.228, 5709435.24), (382897.577, 5709439.038), (382914.556, 5709445.645), (382930.634, 5709452.286), (382946.626, 5709459.137), (382956.399, 5709463.238), (382957.111, 5709463.509), (382964.509, 5709458.503), (382970.475, 5709455.157), (382971.836, 5709441.994), (382973.87, 5709423.301)]\n"
     ]
    }
   ],
   "source": [
    "x = (381880.543000, 381881.146000, 381884.609000, 381968.945000, 382062.619000, 382102.008000, 382106.423000, 382125.194000, 382154.041000, 382184.756000, 382211.112000, 382219.480000, 382280.195000, 382292.914000, 382356.253000, 382448.516000, 382461.726000, 382462.802000, 382555.052000, 382629.442000, 382649.761000, 382661.747000, 382682.441000, 382689.117000, 382728.727000, 382744.999000, 382748.225000, 382758.559000, 382793.545000, 382796.568000, 382804.894000, 382805.552000, 382805.690000, 382800.435000, 382823.558000, 382846.394000, 382862.346000, 382875.653000, 382887.228000, 382897.577000, 382914.556000, 382930.634000, 382946.626000, 382956.399000, 382957.111000, 382964.509000, 382970.475000, 382971.836000, 382973.870000)\n",
    "y = (5710168.931000, 5710167.188000, 5710160.149000, 5710196.188000, 5710235.243000, 5710075.421000, 5710057.956000, 5710065.463000, 5709950.933000, 5709963.754000, 5709867.477000, 5709838.996000, 5709859.372000, 5709864.553000, 5709620.829000, 5709643.158000, 5709644.929000, 5709645.073000, 5709674.405000, 5709695.165000, 5709713.399000, 5709724.155000, 5709714.001000, 5709720.631000, 5709676.484000, 5709628.849000, 5709619.404000, 5709589.116000, 5709481.025000, 5709471.796000, 5709474.757000, 5709466.425000, 5709460.016000, 5709412.407000, 5709417.562000, 5709423.028000, 5709427.450000, 5709431.433000, 5709435.240000, 5709439.038000, 5709445.645000, 5709452.286000, 5709459.137000, 5709463.238000, 5709463.509000, 5709458.503000, 5709455.157000, 5709441.994000, 5709423.301000)\n",
    "\n",
    "li = list(zip(x,y))\n",
    "print(li)"
   ]
  },
  {
   "cell_type": "markdown",
   "metadata": {},
   "source": [
    "## Aufgabe 4 - Klassen ##\n",
    "Erstellen Sie eine Klasse für gemessene Längen, die folgende Funktionalität zur Verfügung stellen:\n",
    "- Initialisierung eines Messwertes mit Zahlenwert und Einheit (m, feet, inch)\n",
    "- Die Zahlenwerte und die Einheiten lassen sich auslesen, aber nach der Initialisierung nicht mehr verändern\n",
    "- Bereitstellen einer entsprechenden String Repräsentation\n",
    "- Bereitstellen einer Funktion 'Länge in m', welche als Rückgabe einen korrekt umgerechneten Zahlenwert liefert (1 m sind 3.281 ft und 39.37 in)\n",
    "- Bereitstellen einer Funktion 'plus', die einen Messwert entgegennimmt und zum bestehenden addiert (unter Beachtung der Einheiten). Die Rückgabe ist ein neues Längenobjekt"
   ]
  },
  {
   "cell_type": "code",
   "execution_count": 12,
   "metadata": {},
   "outputs": [
    {
     "name": "stdout",
     "output_type": "stream",
     "text": [
      "10 m\n",
      "15 ft\n",
      "4.571776897287412 m\n",
      "14.571776897287412 m\n"
     ]
    }
   ],
   "source": [
    "class Laenge:\n",
    "    def __init__(self,laenge, einheit='m'):\n",
    "        self.__laenge = laenge\n",
    "        self.__einheit = einheit\n",
    "    def __get_laenge(self):\n",
    "        return self.__laenge\n",
    "    def __get_einheit(self):\n",
    "        return self.__einheit\n",
    "    laenge = property (__get_laenge)\n",
    "    einheit = property (__get_einheit)\n",
    "    \n",
    "    def laenge_in_m (self):\n",
    "        if self.einheit == 'ft':\n",
    "            return Laenge (self.laenge/3.281)\n",
    "        elif self.einheit == 'in':\n",
    "            return Laenge (self.laenge/39.37)\n",
    "        else:\n",
    "            return self\n",
    "        \n",
    "    def __add__ (self, other):\n",
    "        return Laenge(self.laenge_in_m().laenge + other.laenge_in_m().laenge)\n",
    "    \n",
    "    def __str__(self):\n",
    "        return f\"{str(self.__laenge)} {self.__einheit}\"\n",
    "    \n",
    "a = Laenge (10)\n",
    "b = Laenge (15, 'ft')\n",
    "\n",
    "print (str(a))\n",
    "print (b)\n",
    "print (b.laenge_in_m())\n",
    "print (a+b)       "
   ]
  }
 ],
 "metadata": {
  "kernelspec": {
   "display_name": "Python 3",
   "language": "python",
   "name": "python3"
  },
  "language_info": {
   "codemirror_mode": {
    "name": "ipython",
    "version": 3
   },
   "file_extension": ".py",
   "mimetype": "text/x-python",
   "name": "python",
   "nbconvert_exporter": "python",
   "pygments_lexer": "ipython3",
   "version": "3.7.0"
  }
 },
 "nbformat": 4,
 "nbformat_minor": 2
}
