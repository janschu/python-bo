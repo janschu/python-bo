{
 "cells": [
  {
   "cell_type": "markdown",
   "metadata": {},
   "source": [
    "## Dateien ##\n",
    "Um in den Zugriff auf Daten zu vereinfachen wollen wir gerne auf (Text-) Dateien zugreifen können.\n",
    "- Öffnen von Dateien \n",
    "- Zeilenweises lesen von Dateien \n",
    "- Zeilenweises Schreiben \n",
    "- Vollständiges Lesen einer Datei\n",
    "- Schliessen einer Datei"
   ]
  },
  {
   "cell_type": "markdown",
   "metadata": {},
   "source": [
    "Eine Datei muss zur Bearbeitung geöffnet werden. Dabei wird festgelegt, ob die Daten nur gelesen oder auch geschrieben werden sollen.\n",
    "- File Open: open(\"mytext.txt\", \"r\"), open(\"newtext.txt\", \"w\"), open(\"doboth.txt\", \"r+w\"\n",
    "Nach der Bearbeitung sollte die datei immer wieder geschlossen werden.\n",
    "- File Close: file.close()\n",
    "- Mit der with-Anweisung kann das Schliessen der Datei automatisch sichergestellt werden: with open(\"mytxt.txt\", \"w\") as my_file\n"
   ]
  },
  {
   "cell_type": "code",
   "execution_count": null,
   "metadata": {},
   "outputs": [],
   "source": [
    "# Öffnen einer Datei zum Lesen\n",
    "insp_file = open('inspire.txt', 'r')\n",
    "# Zeilenweises lesen\n",
    "for line in insp_file:\n",
    "    print (line.strip())            #Strip entfernt eventuelle zusätzlich Leerzeichen und Linebreaks\n",
    "# Schliessen\n",
    "insp_file.close()"
   ]
  },
  {
   "cell_type": "code",
   "execution_count": null,
   "metadata": {},
   "outputs": [],
   "source": [
    "# Eine neue Datei erstellen\n",
    "out_file = open('beispiel.txt','w')\n",
    "# Schreiben einer Zeile\n",
    "out_file.write(\"INSPIRE ist cool!\")\n",
    "# Schliessen\n",
    "out_file.close()"
   ]
  },
  {
   "cell_type": "code",
   "execution_count": null,
   "metadata": {},
   "outputs": [],
   "source": [
    "# Lesen einer Datei im Ganzen\n",
    "insp_file = open('inspire.txt', 'r')\n",
    "# Einlesen in einen String\n",
    "inspire_string = insp_file.read()\n",
    "# Schliessen\n",
    "insp_file.close()\n",
    "\n",
    "print (inspire_string)"
   ]
  },
  {
   "cell_type": "code",
   "execution_count": null,
   "metadata": {},
   "outputs": [],
   "source": [
    "# Trick: Mit der with Anweisung übernimmt Python das korrekte Schliessen der Datei\n",
    "with open('inspire.txt', 'r') as autoclose_file:\n",
    "    line_no = 0\n",
    "    for line in autoclose_file:\n",
    "        line_no +=1\n",
    "        print (line_no, end=\"-\")\n",
    "    print('fertig')"
   ]
  },
  {
   "cell_type": "markdown",
   "metadata": {},
   "source": [
    "**Aufgabe**   \n",
    "Die Datei 'bev_2012_2016_clean.csv' in Ihrem Ordner enthält in einer Liste die Bevölkerungszahlen für die Landkreise Deutschlands der Jahre 2012-2016. Der Aufbau der Datei ist zeilenweise und jede Zeile enthält:   \n",
    "Id; Name; Bevölkerung 2012; Bevölkerung 2013; Bevölkerung 2014; Bevölkerung 2015; Bevölkerung 2016   \n",
    "\n",
    "``` 12064;Märkisch-Oderland;186925;187668;188422;190714;191685\n",
    "12065;Oberhavel;202162;203012;204898;207524;208639\n",
    "12066;Oberspreewald-Lausitz;115212;113842;112896;112450;111962\n",
    "12067;Oder-Spree;177047;176850;177823;182397;178849\n",
    "12068;Ostprignitz-Ruppin;99125;98944;98886;99110;99414\n",
    "12069;Potsdam-Mittelmark;204388;205520;207498;210910;212207\n",
    "...```\n",
    "\n",
    "Lesen Sie die Datei ein und speichern Sie die Bevölkerungsentwicklung der Kreise 'Bochum', 'München', 'Dortmund' und 'Berlin' in einer neuen Datei in folgender Form:\n",
    "'Name: Bevölkerung 2016, 2015, 2014, 2013, 2012, 2016-2012'\n",
    "\n",
    "\n",
    "(Hinweis 1: Einige Namen kommen aufgrund neuer Ids und Neuordnungen öfters vor; daher haben einige Einträge auch die gegebene Bevölkerung 0)   \n",
    "(Hinweis 2: Einen Zeilenumbruch gestalten Sie z.B. mit einem \\n nach der Zeile)\n"
   ]
  },
  {
   "cell_type": "code",
   "execution_count": null,
   "metadata": {},
   "outputs": [],
   "source": [
    "# Öffnen der Datei \n",
    "kreis_set = ('Bochum', 'München', 'Dortmund', 'Berlin')\n",
    "with open('bev_2012_2016_clean.csv', 'rt') as pop_file:\n",
    "    with open ('Bevoelkerung.txt', 'wt') as bev_file:\n",
    "        for pop_line in pop_file:\n",
    "            pop_line_string = pop_line.strip()\n",
    "            pop_record = pop_line_string.split(';')\n",
    "            if (pop_record[1] in kreis_set):\n",
    "                new_line = pop_record[1] + \", \" \\\n",
    "                    + pop_record[6]+ \", \" \\\n",
    "                    + pop_record[5]+ \", \" \\\n",
    "                    + pop_record[4]+ \", \" \\\n",
    "                    + pop_record[3]+ \", \" \\\n",
    "                    + pop_record[2]+ \", \" \\\n",
    "                    + str(int(pop_record[6])-int(pop_record[2]))\n",
    "                bev_file.write(new_line)\n",
    "print ('done')"
   ]
  },
  {
   "cell_type": "markdown",
   "metadata": {},
   "source": [
    "**Extras - aktuell uniteressant**   \n",
    "Es gibt viele Sonderfälle für die Dateibehandlung (siehe auch die Hilfe).\n",
    "Angeführt sind Lesen von binären Daten und Zugriff von Daten einer http Ressource."
   ]
  },
  {
   "cell_type": "code",
   "execution_count": null,
   "metadata": {},
   "outputs": [],
   "source": [
    "# Extras\n",
    "# Binary Byte for Byte\n",
    "with open(\"myfile\", \"rb\") as f:\n",
    "    byte = f.read(1)\n",
    "    while byte:\n",
    "        # Do stuff with byte.\n",
    "        byte = f.read(1)"
   ]
  },
  {
   "cell_type": "code",
   "execution_count": null,
   "metadata": {},
   "outputs": [],
   "source": [
    "# Extras\n",
    "# Binary Chunkwise\n",
    "file = open(\"filename\", \"rb\")\n",
    "try:\n",
    "    bytes_read = file.read(CHUNKSIZE)\n",
    "    while bytes_read:\n",
    "        for b in bytes_read:\n",
    "            process_byte(b)\n",
    "        bytes_read = file.read(CHUNKSIZE)\n",
    "finally:\n",
    "    file.close()"
   ]
  },
  {
   "cell_type": "code",
   "execution_count": null,
   "metadata": {},
   "outputs": [],
   "source": [
    "# Wenn es denn Daten aus dem Netz sind\n",
    "import urllib.request\n",
    "\n",
    "url = 'https://www-genesis.destatis.de/genesis/online?sequenz=tabelleDownload&selectionname=12411-0015&regionalschluessel=&format=csv'\n",
    "response = urllib.request.urlopen(url)\n",
    "data = response.read()      # a `bytes` object\n",
    "text = data.decode('ISO-8859-1') \n",
    "print (text)"
   ]
  }
 ],
 "metadata": {
  "kernelspec": {
   "display_name": "Python 3",
   "language": "python",
   "name": "python3"
  },
  "language_info": {
   "codemirror_mode": {
    "name": "ipython",
    "version": 3
   },
   "file_extension": ".py",
   "mimetype": "text/x-python",
   "name": "python",
   "nbconvert_exporter": "python",
   "pygments_lexer": "ipython3",
   "version": "3.7.0"
  }
 },
 "nbformat": 4,
 "nbformat_minor": 2
}
