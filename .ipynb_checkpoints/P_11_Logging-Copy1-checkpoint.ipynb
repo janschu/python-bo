{
 "cells": [
  {
   "cell_type": "markdown",
   "metadata": {},
   "source": [
    "## Logging ##\n",
    "Um Fehler zu finden oder das Laufzeitverhalten ihrer Module un SKripte zu kennen ist ein Logging unerlässlich. In Python lässt sich grundlegendes Logging einfach realisieren (siehe auch https://docs.python.org/3/howto/logging.html)."
   ]
  },
  {
   "cell_type": "markdown",
   "metadata": {},
   "source": [
    "### Einfaches Logging ###\n",
    "Im ersten Beispiel loggen wir verschiedene Ergebnisse in verschiedenen Leveln:\n",
    "\n",
    "Python kennt 5 unterschiedliche Log Level:\n",
    "* CRITICAL\n",
    "  * soll für kritische Fehler verwendet werden - i.d.R. Abbruch\n",
    "  * Verwendung: `logging.critical(\"blabla\")`\n",
    "  * Loglevel: `logging.CRITICAL`\n",
    "* ERROR\n",
    "  * soll für Fehler verwendet werden, die ggf. eine Fehlfunktion verursachen\n",
    "  * Verwendung: `logging.error(\"blabla\")`\n",
    "  * Loglevel: `logging.ERROR`\n",
    "* WARNING\n",
    "  * soll für unvorhergesehene Ereignisse verwendet werden\n",
    "  * Verwendung: `logging.warning(\"blabla\")`\n",
    "  * Loglevel: `logging.WARNING`\n",
    "* INFO\n",
    "  * soll als Meldung für normale Bearbeitung ausgegeben werden\n",
    "  * Verwendung: `logging.info(\"blabla\")`\n",
    "  * Loglevel: `logging.INFO`\n",
    "* DEBUG\n",
    "  * wird i.d.R. nur in der Entwicklung oder bei Fehlersuche verwendet\n",
    "  * Verwendung: `logging.debug(\"blabla\")`\n",
    "  * Loglevel: `logging.DEBUG`"
   ]
  },
  {
   "cell_type": "code",
   "execution_count": null,
   "metadata": {},
   "outputs": [],
   "source": [
    "# Der Standard Ausgabe-Level ist Warning\n",
    "import logging\n",
    "logging.debug (\"Debug\")\n",
    "logging.info (\"Info\")\n",
    "logging.warning (\"Warning\")\n",
    "logging.error (\"Error\")\n",
    "logging.critical (\"Critical\")"
   ]
  },
  {
   "cell_type": "code",
   "execution_count": null,
   "metadata": {},
   "outputs": [],
   "source": [
    "# Anpassen des Log Levels\n",
    "# ACHTUNG: Um den Level zu ändern ist ein Restart des Kernels (oben der Kreis-Pfeil) notwendig\n",
    "# siehe auch https://docs.python.org/3/library/logging.html#logging.basicConfig\n",
    "import logging\n",
    "logging.basicConfig(level=logging.DEBUG)\n",
    "logging.debug (\"Debug\")\n",
    "logging.info (\"Info\")\n",
    "logging.warning (\"Warning\")\n",
    "logging.error (\"Error\")\n",
    "logging.critical (\"Critical\")"
   ]
  },
  {
   "cell_type": "markdown",
   "metadata": {},
   "source": [
    "### Log Ausgabe ###\n",
    "Oft ist es sinnvoll die Ausgabe des Logs nicht auf die Konsole, sondern in eine Datei umzulenken. Das geht mit der Angabe eine 'FileHandlers' in der Konfiguration.\n",
    "Um die Darstellung der Log Ausgaben anzupassen können wir auch entsprechende Formatierungen mitgeben (siehe https://docs.python.org/3/howto/logging-cookbook.html#formatting-styles) "
   ]
  },
  {
   "cell_type": "code",
   "execution_count": null,
   "metadata": {},
   "outputs": [],
   "source": [
    "# im einfachen Logging verwenden wir einen Root Logger, den wir konfigurieren können\n",
    "# Hinweis: die Konfiguration des Loggers kann nur einmal erfolgen. \n",
    "# Wenn Sie ein Änderung machen, müssen Sie einen frischen Python Kernel verwenden (also restart Kernel drücken)\n",
    "import logging\n",
    "FORMAT = '%(asctime)s - %(message)s'\n",
    "logging.basicConfig(filename='example.log', level=logging.DEBUG, format=FORMAT)\n",
    "logging.debug('This message should go to the log file')\n",
    "logging.info('So should this')"
   ]
  },
  {
   "cell_type": "markdown",
   "metadata": {},
   "source": [
    "### Erweitertes Logging ###\n",
    "Mit dem Logging Modul lassen sich viele weiter Möglichkeiten konfigurieren.\n",
    "Sie können neben dem 'Root-Logger' weitere spezifische Logger konfigurieren, die Sie für spezielle Anwendungsfälle benötigen. Sie können mehrere Ausgaben festlegen - z.B. Infos an die Konsole ausgaben, Details in eine Log-Datei, ...\n",
    "(beachten Sie bitte die Dokumentation: https://docs.python.org/3/howto/logging.html#advanced-logging-tutorial)'"
   ]
  },
  {
   "cell_type": "code",
   "execution_count": null,
   "metadata": {},
   "outputs": [],
   "source": [
    "# Import des Logging Moduls\n",
    "import logging\n",
    "# Create logger\n",
    "logger_01 = logging.getLogger('01_logger')\n",
    "# Festlegen des Log Levels - andere sind ERROR, INFO, WARNING, ...\n",
    "logger_01.setLevel(logging.DEBUG)\n",
    "\n",
    "# Erstellen eines FileHandlers - der mode 'w' löscht den Log jedesmal - ansonsten 'a'\n",
    "handler = logging.FileHandler('logfile_a.log', mode='w')\n",
    "# Der Formatter erzeugt die passende Formatierung mit den LogRecord Attributen\n",
    "# siehe auch https://docs.python.org/3/library/logging.html#formatter-objects\n",
    "formatter = logging.Formatter('%(name)6s - %(levelname)-8s : %(relativeCreated)6d ms - %(message)s')\n",
    "handler.setFormatter(formatter)\n",
    "\n",
    "# Erstellen eines Konsolen Handlers\n",
    "c_handler = logging.StreamHandler()\n",
    "c_formatter = logging.Formatter('%(asctime)s - %(message)s')\n",
    "c_handler.setFormatter(c_formatter)\n",
    "c_handler.setLevel(logging.INFO)\n",
    "\n",
    "\n",
    "# Die Handler als Liste an den Logger übergeben\n",
    "logger_01.handlers = [handler,c_handler]\n",
    "\n",
    "logger_01.info(\"starte Schleife\")\n",
    "for i in range(1,20):\n",
    "    logger_01.debug (f'Schleifendurchlaucht {str(i)}')\n",
    "logger_01.info(\"beende Schleife\")"
   ]
  },
  {
   "cell_type": "markdown",
   "metadata": {},
   "source": [
    "## Aufgabe ##\n",
    "In den beiden folgenen Code-Blöcken finden Sie mögliche Lösungen der Aufgabe zur Berechnung der Grenze zwischen Bochum un Dortmund.    \n",
    "Im ersten Ansatz wird die Schnittmenge mit einem Set bestimmt und die Reihenfolge über die Listen behandelt.    \n",
    "Im zweiten Ansatz werden die Schnittmengen direkt durch einen Vergleich der Listen durchgeführt.    \n",
    "- Hinterlegen Sie die einzelnen Funktionen mit Log Statements (debug)\n",
    "- Prüfen Sie welcher Ansatz schneller mit Hilfe von Log Ausgaben (info).   \n",
    "Hinweis: Da Sie in der Notebook Umgebung schlecht mit Ausgabestreams arbeiten (stdout und stderr) verwenden Sie einen File Handler zur Ausgabe."
   ]
  },
  {
   "cell_type": "code",
   "execution_count": null,
   "metadata": {},
   "outputs": [],
   "source": [
    "# Berechnung mit Set\n",
    "import math\n",
    "# Log Konfiguration\n",
    "\n",
    "\n",
    "#File Load\n",
    "def file_to_coords (filename):\n",
    "    try:\n",
    "        with open(filename, 'r') as in_file:\n",
    "            in_list = in_file.read().split()\n",
    "    except FileNotFoundError:                                                   # Bekannter Fehler ohne Fehlerobjekt\n",
    "        print (\"File ist nicht vorhanden.\")\n",
    "    coordinate_list = []\n",
    "    for i in range(0,len(in_list),2):\n",
    "        coord = (float(in_list[i]), float(in_list[i+1]))\n",
    "        coordinate_list.append(coord)\n",
    "    return coordinate_list\n",
    "\n",
    "# Simple Distance between two points\n",
    "def dist_point(a,b):\n",
    "    return math.sqrt((a[0]-b[0])**2+(a[1]-b[1])**2)\n",
    "\n",
    "# Distance of a linestring as list of tupels\n",
    "def dist_ordered_list (li):\n",
    "    distance = 0\n",
    "    for i in range(1,len(li)):\n",
    "        distance += dist_point(li[i-1],li[i])\n",
    "    return distance\n",
    "\n",
    "# Intersects two Lists with keeping the order\n",
    "# Assumes a common border\n",
    "def common_border (list_1, list_2):\n",
    "    set_1 = set(list_1)\n",
    "    set_2 = set(list_2)\n",
    "    intersect = set_1.intersection(set_2)  \n",
    "    # There are no ordered Sets in Python, so we have to keep the order of one List\n",
    "    common_border = []\n",
    "    for item in list_1:\n",
    "        if item in intersect:\n",
    "            common_border.append(item)\n",
    "    return common_border\n",
    "    \n",
    "    \n",
    "#Load two Files\n",
    "# Log statement start\n",
    "bo_coord = file_to_coords ('Bochum_coord_25832.txt')\n",
    "do_coord = file_to_coords ('Dortmund_coord_25832.txt')\n",
    "common = common_border(bo_coord, do_coord)\n",
    "print (f\"Bochum  : Stützpunkte: {len(bo_coord)}, Länge: {dist_ordered_list(bo_coord)}\")\n",
    "print (f\"Dortmund: Stützpunkte: {len(do_coord)}, Länge: {dist_ordered_list(do_coord)}\")\n",
    "print (f\"Common  : Stützpunkte: {len(common)}, Länge: {dist_ordered_list(common)}\")\n",
    "# Log statement end"
   ]
  },
  {
   "cell_type": "code",
   "execution_count": null,
   "metadata": {},
   "outputs": [],
   "source": [
    "# Berechnung ohne Set\n",
    "import math\n",
    "\n",
    "#File Load\n",
    "def file_to_coords (filename):\n",
    "    try:\n",
    "        with open(filename, 'r') as in_file:\n",
    "            in_list = in_file.read().split()\n",
    "    except FileNotFoundError:                                                   # Bekannter Fehler ohne Fehlerobjekt\n",
    "        print (\"File ist nicht vorhanden.\")\n",
    "    coordinate_list = []\n",
    "    for i in range(0,len(in_list),2):\n",
    "        coord = (float(in_list[i]), float(in_list[i+1]))\n",
    "        coordinate_list.append(coord)\n",
    "    return coordinate_list\n",
    "\n",
    "# Simple Distance between two points\n",
    "def dist_point(a,b):\n",
    "    return math.sqrt((a[0]-b[0])**2+(a[1]-b[1])**2)\n",
    "\n",
    "# Distance of a linestring as list of tupels\n",
    "def dist_ordered_list (li):\n",
    "    distance = 0\n",
    "    for i in range(1,len(li)):\n",
    "        distance += dist_point(li[i-1],li[i])\n",
    "    return distance\n",
    "\n",
    "# Intersects two Lists with keeping the order\n",
    "# Assumes a common border\n",
    "def common_border (list_1, list_2):   \n",
    "    # There are no ordered Sets in Python, so we have to keep the order of one List\n",
    "    common_border = []\n",
    "    for item in list_1:\n",
    "        if item in list_2:\n",
    "            common_border.append(item)\n",
    "    return common_border\n",
    "    \n",
    "    \n",
    "#Load two Files\n",
    "bo_coord = file_to_coords ('Bochum_coord_25832.txt')\n",
    "do_coord = file_to_coords ('Dortmund_coord_25832.txt')\n",
    "common = common_border(bo_coord, do_coord)\n",
    "print (f\"Bochum  : Stützpunkte: {len(bo_coord)}, Länge: {dist_ordered_list(bo_coord)}\")\n",
    "print (f\"Dortmund: Stützpunkte: {len(do_coord)}, Länge: {dist_ordered_list(do_coord)}\")\n",
    "print (f\"Common  : Stützpunkte: {len(common)}, Länge: {dist_ordered_list(common)}\")"
   ]
  },
  {
   "cell_type": "code",
   "execution_count": null,
   "metadata": {},
   "outputs": [],
   "source": []
  },
  {
   "cell_type": "code",
   "execution_count": null,
   "metadata": {},
   "outputs": [],
   "source": [
    "%debug"
   ]
  },
  {
   "cell_type": "code",
   "execution_count": null,
   "metadata": {},
   "outputs": [],
   "source": []
  }
 ],
 "metadata": {
  "kernelspec": {
   "display_name": "Python 3",
   "language": "python",
   "name": "python3"
  },
  "language_info": {
   "codemirror_mode": {
    "name": "ipython",
    "version": 3
   },
   "file_extension": ".py",
   "mimetype": "text/x-python",
   "name": "python",
   "nbconvert_exporter": "python",
   "pygments_lexer": "ipython3",
   "version": "3.8.5"
  }
 },
 "nbformat": 4,
 "nbformat_minor": 2
}
