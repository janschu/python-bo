{
 "cells": [
  {
   "cell_type": "markdown",
   "metadata": {},
   "source": [
    "## Hausaufgabe ##\n",
    "Führen Sie eine Analyse des gegebenen Textes durch:\n",
    "- Wieviele Zeichen hat der Text? \n",
    "- Wieviele Wörter hat der Text? \n",
    "- Erstellen Sie eine alphabetisch sortierte Wortliste mit der Auftretenshäufigkeit des einzelnen Wortes.\n",
    "\n",
    "Hinweis: Ignorieren Sie Satz und Sonderzeichen (Filtern wäre z.B. mit translate oder regulären Ausdrücken möglich).\n",
    "\n",
    "Die Lösung könnte etwa so aussehen:\n",
    "> Anzahl Zeichen: 2338   \n",
    "Anzahl Wörter: 338   \n",
    "(bis: 1   \n",
    "(deutsch:: 1   \n",
    "(real: 1   \n",
    "480: 1   \n",
    "509,: 1   \n",
    "Aktenordner: 1   \n",
    "All: 1   \n",
    "Antagonist: 1   \n",
    "Arbeiten: 1   \n",
    "Auch: 1   \n",
    "Ausgabe: 1   \n",
    "Auto,: 2   \n",
    "Basteleien: 1    \n",
    "Bemühungen: 1   "
   ]
  },
  {
   "cell_type": "code",
   "execution_count": null,
   "metadata": {
    "scrolled": false
   },
   "outputs": [],
   "source": [
    "wikipedia = \"Gaston ist ein Bürobote in der Redaktion des (real existierenden) Verlages Dupuis, in der deutschen Ausgabe des Kauka Verlages bzw. des Carlsen-Verlages. Er soll eigentlich die Leserpost bearbeiten, fällt jedoch stattdessen meistens nur durch seine ausgefallenen, meist missglückten Experimente und Basteleien und durch seine Faulheit und Schläfrigkeit auf. Er wird als liebenswerter Chaot und verkanntes Genie dargestellt. In seiner Freizeit spielt er gerne Musikinstrumente, unter anderem Gitarre, Posaune und das absurd laute, von ihm erfundene „Gaffophone“ (deutsch: „Gastophon“ oder auch „Brontosaurophon“).\\\n",
    "Seine Vorgesetzten (bis Gag 480 Fantasio, danach Demel) versuchen ständig, aber meistens erfolglos, Gaston zu kontrollieren und zum Arbeiten zu bringen. Ein häufiger Runninggag ist, dass sie immer wieder versuchen, mit dem Geschäftsmann Bruchmüller zum Unterschreiben von Verträgen zu kommen, doch immer wieder weiß Gaston dies durch ein Missgeschick unabsichtlich zu verhindern. Selbst wenn ihre Bemühungen von Erfolg gekrönt zu sein scheinen, macht ihnen Gaston immer wieder unabsichtlich einen Strich durch die Rechnung.\\\n",
    "Gaston ist zudem sehr tierlieb und hat im Laufe der Geschichten mehrere Haustiere: eine Katze, eine Lachmöwe mit Namen Har-Har, einen Goldfisch mit Namen Blubblub und eine Mäusefamilie, die in einem Aktenordner wohnt. Weitere Tiere, die im Laufe der Zeit vorkommen, sind ein Igel, eine Kuh, die er bei einer Tombola gewonnen hat, ein Hummer, den er in einem Restaurant vor dem Kochtopf gerettet hat, der Papagei seiner Tante und eine Schildkröte. All diese Tiere stiften Wirbel und Chaos in der Redaktion. Auch für Pflanzen, insbesondere Kakteen, hat er eine Vorliebe, was ebenfalls für einige Gags sorgt.\\\n",
    "Ein häufiger Antagonist Gastons ist Wachtmeister Knüsel, ein Polizist, der nur darauf aus ist, an Gaston Strafzettel, meistens für Falschparken, zu verteilen. Teils hat Gaston das Nachsehen, aber meistens steht Knüsel als Verlierer da.\\\n",
    "Ein weiteres regelmäßiges Quell für Komik ist Gastons Auto, ein Fiat 509, der in sehr schlechtem Zustand ist und ständig kaputtgeht oder die Insassen und Umgebung in Gefahr bringt. Dennoch liebt Gaston sein Auto, repariert es regelmäßig, stattet es oft mit neuen, selbst gebauten Extras aus und nutzt es häufig als Grundlage für seine Erfindungen und Experimente.\"\n",
    "\n",
    "\n",
    "\n",
    "\n",
    "\n",
    "\n",
    "\n",
    "\n"
   ]
  }
 ],
 "metadata": {
  "kernelspec": {
   "display_name": "Python 3",
   "language": "python",
   "name": "python3"
  },
  "language_info": {
   "codemirror_mode": {
    "name": "ipython",
    "version": 3
   },
   "file_extension": ".py",
   "mimetype": "text/x-python",
   "name": "python",
   "nbconvert_exporter": "python",
   "pygments_lexer": "ipython3",
   "version": "3.7.0"
  }
 },
 "nbformat": 4,
 "nbformat_minor": 2
}
