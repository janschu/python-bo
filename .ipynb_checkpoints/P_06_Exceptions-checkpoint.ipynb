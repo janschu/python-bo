{
 "cells": [
  {
   "cell_type": "markdown",
   "metadata": {},
   "source": [
    "## Exception Handling ##\n",
    "Die Behandlung von Fehlern (besser Ausnahmen) ist für die Erstellung von stabilem Programmcode notwendig. Bei Python ist das \"Exceptionhandling\" analog zu Java.   \n",
    "```\n",
    "...\n",
    "try:   \n",
    "  Block zur Ausführung   \n",
    "except Spez-Fehler as error:   \n",
    "  Block zu Behandlung des spezifischen Fehlers   \n",
    "except:   \n",
    "  Block zu allgemeinen Fehlerbehandlung   \n",
    "else:   \n",
    "  Block bei Durchlauf ohne Fehler   \n",
    "finally:   \n",
    "  Block wird grundsätzlich durchlaufen   \n",
    "...   \n",
    "```\n",
    "\n",
    "Die Hierarchie der vordefinierten Exceptions findet sich auf: [Python Doc](https://docs.python.org/3.7/library/exceptions.html#bltin-exceptions)"
   ]
  },
  {
   "cell_type": "markdown",
   "metadata": {},
   "source": [
    "**Beispiel**   \n",
    "Als Beispiel dient das Lesen von Daten aus einem File in eine Menge. Hier können typische Fehler im I/O Bereich und Typfehler auftreten."
   ]
  },
  {
   "cell_type": "code",
   "execution_count": null,
   "metadata": {},
   "outputs": [],
   "source": [
    "import sys\n",
    "dic_kreis = {}\n",
    "try:                                                                       # Try Block\n",
    "    with open('bev_2012_2016_cleans.csv', 'r') as input_file:\n",
    "        for line in input_file:\n",
    "            line_list = line.strip().split(';')\n",
    "            try:\n",
    "                print (line_list[1],\" \", str(line_list[2]))\n",
    "                dic_kreis[line_list[1]]=int(line_list[2]) \n",
    "            except ValueError:                                              # Bekannter Fehler\n",
    "                print (\"Cast Fehler; wir setzen jetzt 0 ein\")\n",
    "                dic_kreis[line_list[1]]=0\n",
    "except FileNotFoundError:                                                   # Bekannter Fehler\n",
    "    print (\"File ist nicht vorhanden.\")\n",
    "except Exception as err:                                                    # Unbekannte Exception\n",
    "    (errno, errstr) = err.args\n",
    "    print ('sonstiger Fehler nr: ' + str(errno) + \" - String: \" + errstr)\n",
    "finally:\n",
    "    print (dic_kreis)"
   ]
  },
  {
   "cell_type": "code",
   "execution_count": null,
   "metadata": {},
   "outputs": [],
   "source": []
  }
 ],
 "metadata": {
  "kernelspec": {
   "display_name": "Python 3",
   "language": "python",
   "name": "python3"
  },
  "language_info": {
   "codemirror_mode": {
    "name": "ipython",
    "version": 3
   },
   "file_extension": ".py",
   "mimetype": "text/x-python",
   "name": "python",
   "nbconvert_exporter": "python",
   "pygments_lexer": "ipython3",
   "version": "3.6.10"
  }
 },
 "nbformat": 4,
 "nbformat_minor": 2
}
