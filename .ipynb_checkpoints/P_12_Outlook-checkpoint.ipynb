{
 "cells": [
  {
   "cell_type": "markdown",
   "metadata": {},
   "source": [
    "## Ausblick: Geobibliotheken ##\n",
    "Mit freien Bibliotheken und einer einfachen Python Umgebung lassen sich viele Anwendungsbeispiele realisieren.\n",
    "Im folgenden werden ein paar interessante Bibliotheken angerissen."
   ]
  },
  {
   "cell_type": "markdown",
   "metadata": {},
   "source": [
    "**Shapely**   \n",
    "Die Standardbibliothek - basiert auf GEOS (dem C++ Port der JTS).\n",
    "Hier finden sich Geometriedefinitionen, einfache räumliche Operationen, Intersects, Buffer, ..."
   ]
  },
  {
   "cell_type": "code",
   "execution_count": null,
   "metadata": {},
   "outputs": [],
   "source": [
    "# Import necessary geometric objects from shapely module\n",
    "from shapely.geometry import Point, LineString, Polygon\n",
    "\n",
    "def file_to_coords (filename):\n",
    "    with open(filename, 'r') as in_file:\n",
    "        in_list = in_file.read().split()\n",
    "    coordinate_list = []\n",
    "    for i in range(0,len(in_list),2):\n",
    "        coord = (float(in_list[i]), float(in_list[i+1]))\n",
    "        coordinate_list.append(coord)\n",
    "    return coordinate_list\n",
    "       \n",
    "bo_coord = file_to_coords ('./Bochum_coord_25832.txt')\n",
    "do_coord = file_to_coords ('./Dortmund_coord_25832.txt')\n",
    "\n",
    "#Create a Polygon for Bochum and Dortmund\n",
    "poly_bo = Polygon(bo_coord)\n",
    "poly_do = Polygon(do_coord)\n",
    "\n",
    "#Create Boundaries\n",
    "bound_bo = poly_bo.boundary\n",
    "bound_do = poly_do.boundary\n",
    "\n",
    "#Common boundary\n",
    "bound_inter = bound_bo.intersection(bound_do)\n",
    "print (bound_inter.length)"
   ]
  },
  {
   "cell_type": "markdown",
   "metadata": {},
   "source": [
    "**Sehr gutes Material der Uni Helsinki**     \n",
    "https://autogis-site.readthedocs.io/en/latest/notebooks/L1/geometric-objects.html"
   ]
  },
  {
   "cell_type": "markdown",
   "metadata": {},
   "source": [
    "**Fiona**   \n",
    "Zugriff auf die OGR Vektor-Bibliothek für Python (Projektionen, Formate, ...)   \n",
    "**Pandas**    \n",
    "Eine allgemeine und sehr beliebte Bibliothek für den Umgang mit Tabellendaten - Filtern, selektieren, aggregieren ... alles was Excel kann.    \n",
    "**GeoPandas**    \n",
    "Die Erweiterung für räumliche Daten.    "
   ]
  },
  {
   "cell_type": "code",
   "execution_count": null,
   "metadata": {},
   "outputs": [],
   "source": [
    "# Pandas kann prima mit Tabellen umgehen\n",
    "# Geopandas mit räumlichen Tabellen\n",
    "\n",
    "import pandas as pd\n",
    "import geopandas as gpd\n",
    "from fiona.crs import from_epsg\n",
    "\n",
    "df = pd.DataFrame({'Kreis':['Bochum','Dortmund'],'Poly':[poly_bo,poly_do]})\n",
    "geodf = gpd.GeoDataFrame(df, geometry='Poly')\n",
    "geodf.crs = from_epsg(25832)\n",
    "\n",
    "print (geodf.head())\n",
    "print (geodf.crs)"
   ]
  },
  {
   "cell_type": "markdown",
   "metadata": {},
   "source": [
    "**Sehr gutes Material der Uni Helsinki**   \n",
    "https://autogis-site.readthedocs.io/en/latest/lessons/L2/overview.html"
   ]
  },
  {
   "cell_type": "code",
   "execution_count": null,
   "metadata": {},
   "outputs": [],
   "source": [
    "# Transformationen in Formaten und Referenzsystemen\n",
    "# transform 4326\n",
    "latlon = geodf.to_crs(epsg=4326)\n",
    "# to GeoJSON\n",
    "kreise_json = latlon.to_json()\n",
    "print (kreise_json)\n"
   ]
  },
  {
   "cell_type": "markdown",
   "metadata": {},
   "source": [
    "**Folium**   \n",
    "Ein einfacher Wrapper um die Leaflet Java-Script Bibliothek zur Darstellung von Karten\n",
    "(natürlich wieder mit guten Sachen der Uni Helsinki: https://autogis-site.readthedocs.io/en/latest/notebooks/L5/02_interactive-map-folium.html)"
   ]
  },
  {
   "cell_type": "code",
   "execution_count": null,
   "metadata": {},
   "outputs": [],
   "source": [
    "# Folium macht tolle Karten (leaflet)\n",
    "import folium\n",
    "\n",
    "karte = folium.Map(location=[51.53025968668691,7.297118606168315])\n",
    "folium.GeoJson(kreise_json).add_to(karte)\n",
    "karte"
   ]
  },
  {
   "cell_type": "markdown",
   "metadata": {},
   "source": [
    "## Weitere spannende Dinge ##\n",
    "Im Webkurs der Uni Helsinki (https://autogis-site.readthedocs.io/en/latest/index.html)"
   ]
  },
  {
   "cell_type": "code",
   "execution_count": null,
   "metadata": {},
   "outputs": [],
   "source": []
  }
 ],
 "metadata": {
  "kernelspec": {
   "display_name": "Python 3",
   "language": "python",
   "name": "python3"
  },
  "language_info": {
   "codemirror_mode": {
    "name": "ipython",
    "version": 3
   },
   "file_extension": ".py",
   "mimetype": "text/x-python",
   "name": "python",
   "nbconvert_exporter": "python",
   "pygments_lexer": "ipython3",
   "version": "3.8.5"
  }
 },
 "nbformat": 4,
 "nbformat_minor": 2
}
