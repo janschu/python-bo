{
 "cells": [
  {
   "cell_type": "markdown",
   "metadata": {},
   "source": [
    "# Python Übungen Teil I #\n",
    "\n",
    "Die Übungen für die ersten Teile sind in einem Jupyter Notebook geschrieben. \n",
    "Hier können Sie Code Fragmente unmittelbar ausführen und Änderungen durchführen.\n",
    "Die grauen Zellen beinhalten Code, die weissen sind einfache Textelemente.\n",
    "Wenn Sie eine solche Codezelle ausführen wollen, dann clicken Sie auf den Pfeil auf der linken Seite oder verwenden Sie `[Shift][Return]`\n"
   ]
  },
  {
   "cell_type": "code",
   "execution_count": null,
   "metadata": {
    "scrolled": true
   },
   "outputs": [],
   "source": [
    "4 + 4"
   ]
  },
  {
   "cell_type": "markdown",
   "metadata": {},
   "source": [
    "## Teilübung 1 - Interaktive Nutzung (Datentypen) ##\n",
    "Python ermöglicht eine **interaktive** Verwendung. Benutzen Sie die folgenden Zellen um einige Berechnungen durchzuführen. Was geht und was geht nicht?\n",
    "\n",
    "**Addition und Subtraktion**"
   ]
  },
  {
   "cell_type": "code",
   "execution_count": null,
   "metadata": {
    "scrolled": true
   },
   "outputs": [],
   "source": [
    "2+2"
   ]
  },
  {
   "cell_type": "code",
   "execution_count": null,
   "metadata": {
    "scrolled": true
   },
   "outputs": [],
   "source": [
    "7-4"
   ]
  },
  {
   "cell_type": "markdown",
   "metadata": {},
   "source": [
    "**Multiplikation und Division**"
   ]
  },
  {
   "cell_type": "code",
   "execution_count": null,
   "metadata": {
    "scrolled": true
   },
   "outputs": [],
   "source": [
    "7*2"
   ]
  },
  {
   "cell_type": "code",
   "execution_count": null,
   "metadata": {
    "scrolled": true
   },
   "outputs": [],
   "source": [
    "7/2"
   ]
  },
  {
   "cell_type": "code",
   "execution_count": null,
   "metadata": {},
   "outputs": [],
   "source": [
    "7.8/4"
   ]
  },
  {
   "cell_type": "code",
   "execution_count": null,
   "metadata": {},
   "outputs": [],
   "source": [
    "7.8//2"
   ]
  },
  {
   "cell_type": "markdown",
   "metadata": {},
   "source": [
    "**Exponenten**"
   ]
  },
  {
   "cell_type": "code",
   "execution_count": null,
   "metadata": {
    "scrolled": true
   },
   "outputs": [],
   "source": [
    "4**5"
   ]
  },
  {
   "cell_type": "code",
   "execution_count": null,
   "metadata": {
    "scrolled": true
   },
   "outputs": [],
   "source": [
    "4E2+10"
   ]
  },
  {
   "cell_type": "markdown",
   "metadata": {},
   "source": [
    "**Trigonmetrische Funktionen**"
   ]
  },
  {
   "cell_type": "code",
   "execution_count": null,
   "metadata": {
    "scrolled": true
   },
   "outputs": [],
   "source": [
    "sin12"
   ]
  },
  {
   "cell_type": "code",
   "execution_count": null,
   "metadata": {
    "scrolled": true
   },
   "outputs": [],
   "source": [
    "sin(12)"
   ]
  },
  {
   "cell_type": "markdown",
   "metadata": {},
   "source": [
    "**Stringoperatoren**"
   ]
  },
  {
   "cell_type": "code",
   "execution_count": null,
   "metadata": {},
   "outputs": [],
   "source": [
    "\"Hallo\" + \" \" + \"Welt\""
   ]
  },
  {
   "cell_type": "code",
   "execution_count": null,
   "metadata": {},
   "outputs": [],
   "source": [
    "\"7 * 7 = \" + 49"
   ]
  },
  {
   "cell_type": "code",
   "execution_count": null,
   "metadata": {},
   "outputs": [],
   "source": [
    "print (\"Achtung - bei Python 2 (also auch ArcPy) heisst es: print \\\"Hallo\\\"\")"
   ]
  },
  {
   "cell_type": "markdown",
   "metadata": {},
   "source": [
    "## Aufgabe 1 - Konsole ##\n",
    "Berechnen Sie mit Hilfe der Konsole folgende Aufgabe:\n",
    "12 * 23.3 - 47^2"
   ]
  },
  {
   "cell_type": "code",
   "execution_count": null,
   "metadata": {},
   "outputs": [],
   "source": []
  },
  {
   "cell_type": "markdown",
   "metadata": {},
   "source": [
    "## Teilübung 2 - Variablen ##\n",
    "Erkennen Sie das Verhalten von Variablen bzgl. Datentypen und Identität."
   ]
  },
  {
   "cell_type": "markdown",
   "metadata": {},
   "source": [
    "**Datentypen**\n",
    "Fragen Sie mit der 'type (x)' Funktion die Typen der folgenden Variablen ab bzw. prüfen Sie die Typen mit der 'isinstance (x, type)' Funktion"
   ]
  },
  {
   "cell_type": "code",
   "execution_count": null,
   "metadata": {},
   "outputs": [],
   "source": [
    "a = 500\n",
    "b = 500.5\n",
    "c = True\n",
    "d = \"Hallo\"\n",
    "e = \"Welt\""
   ]
  },
  {
   "cell_type": "code",
   "execution_count": null,
   "metadata": {},
   "outputs": [],
   "source": [
    "print (type (a))\n",
    "print (isinstance (a, bool))"
   ]
  },
  {
   "cell_type": "markdown",
   "metadata": {},
   "source": [
    "**Identitäten**\n",
    "Prüfen Sie mit der 'id (x)' Funktion die Identität von Variablen."
   ]
  },
  {
   "cell_type": "code",
   "execution_count": null,
   "metadata": {},
   "outputs": [],
   "source": [
    "# Überprüfung der Werte und Identitäten der Variablen d und e\n",
    "print (\"Wert von d: \" + d)\n",
    "print (\"Identität von d: \" + str(id(d)))\n",
    "print (\"Wert von e: \" + e)\n",
    "print (\"Identität von e: \" + str(id(e)))"
   ]
  },
  {
   "cell_type": "code",
   "execution_count": null,
   "metadata": {},
   "outputs": [],
   "source": [
    "# Neuzuweisung der Variablen e\n",
    "print (\"Neuzuweisung von e = 'Lottihase'\")\n",
    "e = 'Lottihase'\n",
    "print (\"Wert von d: \" + d)\n",
    "print (\"Identität von d: \" + str(id(d)))\n",
    "print (\"Wert von e: \" + e)\n",
    "print (\"Identität von e: \" + str(id(e)))"
   ]
  },
  {
   "cell_type": "code",
   "execution_count": null,
   "metadata": {},
   "outputs": [],
   "source": [
    "# Zuweisung der Variablen e = d\n",
    "print (\"Zuweisung e = d\")\n",
    "e = d\n",
    "print (\"Wert von d: \" + d)\n",
    "print (\"Identität von d: \" + str(id(d)))\n",
    "print (\"Wert von e: \" + e)\n",
    "print (\"Identität von e: \" + str(id(e)))"
   ]
  },
  {
   "cell_type": "code",
   "execution_count": null,
   "metadata": {},
   "outputs": [],
   "source": [
    "# Änderung der Variable d\n",
    "# Wird auch der Wert e geändert, weil e = d?\n",
    "print ('''Zuweisung d = \"Lucihase\"''')\n",
    "d = \"Lucihase\"\n",
    "print (\"Wert von d: \" + d)\n",
    "print (\"Identität von d: \" + str(id(d)))\n",
    "print (\"Wert von e: \" + e)\n",
    "print (\"Identität von e: \" + str(id(e)))"
   ]
  },
  {
   "cell_type": "markdown",
   "metadata": {},
   "source": [
    "**Sequentielle Typen**\n",
    "Sequentielle typen haben in Python einige grundlegende Gemeinsamkeiten. Es lassen sich bei allen über den Index einzelne Elemente und Elementgruppen ansprechen. Es lässt sich zumindest die Länge (len) und eine String-Repräsentation erstellen."
   ]
  },
  {
   "cell_type": "code",
   "execution_count": null,
   "metadata": {},
   "outputs": [],
   "source": [
    "# String \n",
    "s = \"Wer reitet so spät durch Nacht\"\n",
    "# List - veränderbar\n",
    "l = [3, 5, 6, 3, 'Hund', 'Katze', False]\n",
    "# Tupel - nicht veränderbar\n",
    "t = (3, 5, 6, 3, 'Hund', 'Katze', False)"
   ]
  },
  {
   "cell_type": "code",
   "execution_count": null,
   "metadata": {},
   "outputs": [],
   "source": [
    "# String Hinzufügen\n",
    "s += \" und Wind?\"\n",
    "# List - Hinzufügen\n",
    "l += (5, \"Häschen\")\n",
    "# Tupel\n",
    "t += [5, \"Häschen\"]\n",
    "print (s)\n",
    "print (l)\n",
    "print (t)"
   ]
  },
  {
   "cell_type": "markdown",
   "metadata": {},
   "source": [
    "***Zugriff auf Sequentielle Typen***\n",
    "Sequentielle Typen lassen sich über den Index Zugreifen. Dabei kann von vorne gezählt werden (Beginnend bei 0) oder vom Ende her (beginnend bei -1).\n",
    "Soll auf Bereiche zugegriffen werden, so kann ein Bereichszugriff definiert werden [startindex:endindex]. Auch hier spielt es keine Rolle, ob von vorne oder hinten gezählt wird.\n",
    "Auch kann auf jedes 2, 3, 4, ... Element in einem bereich zugegriffen werden. Hierzu wird noch eine Schrittweite angegeben [startindex,endindex,stepwidth]."
   ]
  },
  {
   "cell_type": "code",
   "execution_count": null,
   "metadata": {},
   "outputs": [],
   "source": [
    "# Neu setzen \n",
    "s = \"Wer reitet so spät durch Nacht und Wind\"\n",
    "l = [3, 5, 6, 3, 'Hund', 'Katze', False]\n",
    "l[0]=\"Grottenolm\"\n",
    "print (l)\n",
    "t = (3, 5, 6, 3, 'Hund', 'Katze', False)\n",
    "t[0]=\"Axolottl\"\n",
    "print (t)\n"
   ]
  },
  {
   "cell_type": "code",
   "execution_count": null,
   "metadata": {},
   "outputs": [],
   "source": [
    "# Einzelindex\n",
    "print (s[0])\n",
    "print (l[-1])\n",
    "print (t[4])"
   ]
  },
  {
   "cell_type": "code",
   "execution_count": null,
   "metadata": {},
   "outputs": [],
   "source": [
    "# Bereiche\n",
    "s = \"Marsupilami\"\n",
    "print (s[3:7])\n",
    "print (s[-3:5:-1])"
   ]
  },
  {
   "cell_type": "code",
   "execution_count": null,
   "metadata": {},
   "outputs": [],
   "source": [
    "# Standardfunktionen: len\n",
    "print (len(s))\n",
    "print (len(l))\n",
    "print (len(t))"
   ]
  },
  {
   "cell_type": "code",
   "execution_count": null,
   "metadata": {},
   "outputs": [],
   "source": [
    "# Sortieren\n",
    "print (sorted(s))\n",
    "print (sorted(l))\n",
    "print (sorted(t[0:4]))\n",
    "print (max(s))\n",
    "print (min(t[0:4]))"
   ]
  },
  {
   "cell_type": "code",
   "execution_count": null,
   "metadata": {},
   "outputs": [],
   "source": [
    "# String Repräsentation\n",
    "print (repr(l))\n",
    "print (repr(t))"
   ]
  },
  {
   "cell_type": "markdown",
   "metadata": {},
   "source": [
    "***Funktionen für String Objekte***\n",
    "Einige eingebaute Funktionen helfen besonders bei der Bearbeitung von Zeichenketten."
   ]
  },
  {
   "cell_type": "code",
   "execution_count": null,
   "metadata": {},
   "outputs": [],
   "source": [
    "# Neu setzen \n",
    "s = \"Wer reitet so spät durch Nacht und Wind\"\n",
    "l = [3, 5, 6, 3, 'Hund', 'Katze', False]\n",
    "t = (3, 5, 6, 3, 'Hund', 'Katze', False)"
   ]
  },
  {
   "cell_type": "code",
   "execution_count": null,
   "metadata": {},
   "outputs": [],
   "source": [
    "# Gross und Klein\n",
    "cap = s.capitalize()\n",
    "up = s.upper()\n",
    "lo = s.lower()\n",
    "print (s)\n",
    "print (cap)\n",
    "print (up)\n",
    "print (lo)"
   ]
  },
  {
   "cell_type": "code",
   "execution_count": null,
   "metadata": {},
   "outputs": [],
   "source": [
    "# Sind Substrings enthalten?\n",
    "print (s.count('t'))\n",
    "print (s.count('ei'))\n",
    "print (s.find('ei'))\n",
    "print (s.find('t',10,20))\n",
    "print (s.startswith('Wer'))\n",
    "print (s.endswith('und'))"
   ]
  },
  {
   "cell_type": "code",
   "execution_count": null,
   "metadata": {},
   "outputs": [],
   "source": [
    "# Ersetzungen\n",
    "print (s.replace('ei', 'ey'))\n",
    "print (s.replace('t', 'd', 2)) # nur die ersten zwei Auftreten"
   ]
  },
  {
   "cell_type": "code",
   "execution_count": null,
   "metadata": {},
   "outputs": [],
   "source": [
    "# Strings in Listen in Strings\n",
    "liste_str = s.split()\n",
    "print (repr(liste_str))\n",
    "str_liste = \" \".join(liste_str)\n",
    "print (str_liste)"
   ]
  },
  {
   "cell_type": "markdown",
   "metadata": {},
   "source": [
    "***Funktionen für List Objekte***\n",
    "Einige Funktionen erlauben die Manipulation von Listen"
   ]
  },
  {
   "cell_type": "code",
   "execution_count": null,
   "metadata": {},
   "outputs": [],
   "source": [
    "l.append('Schildkröte')\n",
    "l.extend(['Frosch', 'Molch', 'Grottenolm'])\n",
    "l.insert(4, 'Pferd')\n",
    "print(l)\n",
    "l.remove(3) # löschen eines Elementes mit diesem Inhalt\n",
    "l.remove (False)\n",
    "print(l)\n",
    "l.pop(1) # löschen eines Objektes an dem Index\n",
    "print (l)"
   ]
  },
  {
   "cell_type": "code",
   "execution_count": null,
   "metadata": {},
   "outputs": [],
   "source": [
    "print(l)\n",
    "l.remove[1]"
   ]
  }
 ],
 "metadata": {
  "kernelspec": {
   "display_name": "Python 3",
   "language": "python",
   "name": "python3"
  },
  "language_info": {
   "codemirror_mode": {
    "name": "ipython",
    "version": 3
   },
   "file_extension": ".py",
   "mimetype": "text/x-python",
   "name": "python",
   "nbconvert_exporter": "python",
   "pygments_lexer": "ipython3",
   "version": "3.6.10"
  }
 },
 "nbformat": 4,
 "nbformat_minor": 2
}
