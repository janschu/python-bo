{
 "cells": [
  {
   "cell_type": "markdown",
   "metadata": {},
   "source": [
    "## Module ##\n",
    "In Python sind alle Programme Module. Im Sinne eines übersichtlichen, wiederverwertbaren und effiktiven Code sollten Programme sinnvoll in eigene Module aufgeteilt und bestehende Module genutzt werden. \n",
    "**Verwendung von Modulen**    \n",
    "Module werden mit dem **import** Statement in den eigenen Code eingebunden. Beachten Sie die unterschiedlichen Varianten um den Namensraum richtig zu verwenden. "
   ]
  },
  {
   "cell_type": "code",
   "execution_count": null,
   "metadata": {},
   "outputs": [],
   "source": [
    "#Einfacher Import - der Modulename muss als Namensprefix verwendet werden\n",
    "import math\n",
    "print (math.sin(12))"
   ]
  },
  {
   "cell_type": "code",
   "execution_count": null,
   "metadata": {},
   "outputs": [],
   "source": [
    "#Import mit Namespace Prefix\n",
    "import math as m\n",
    "print (m.tan(42))"
   ]
  },
  {
   "cell_type": "code",
   "execution_count": null,
   "metadata": {},
   "outputs": [],
   "source": [
    "#Import in den 'default' Namespace - etwas heikel, da ggf. Namen überschrieben werden\n",
    "from math import *\n",
    "print (cos(12))"
   ]
  },
  {
   "cell_type": "code",
   "execution_count": null,
   "metadata": {},
   "outputs": [],
   "source": [
    "#Import eizelnen Funktionen in den 'default' Namespace\n",
    "from math import cos, sin\n",
    "print (cos(12))"
   ]
  },
  {
   "cell_type": "code",
   "execution_count": null,
   "metadata": {},
   "outputs": [],
   "source": [
    "#Informationen zu den Modulen\n",
    "print(dir(math))                     #Auflistung der Klassen, Funktionen, Attribute\n",
    "print (\"----------------------------\")\n",
    "print(help(math))                    #Anzeige einer Hilfe\n",
    "print (\"----------------------------\")\n",
    "print(help(math.cos))                #Anzeigen der Hilfe einer Funktion"
   ]
  },
  {
   "cell_type": "markdown",
   "metadata": {},
   "source": [
    "**Dokumentation**    \n",
    "Für Python gelten Regeln wie für andere Programmiersprachen; \n",
    "- der Code soll übersichtlich und kompakt sein:\n",
    "- Variablen und Funktionen möglichst selbsterklärend\n",
    "- nötige erläuternde Kommentare enthalten. [Style Guide](https://www.python.org/dev/peps/pep-0008/)  \n",
    "Die Dokumentation erfolgt mit sog. Docstrings mit \"\"\" Drei Anführungszeichen \"\"\" und ist dann über **help** verfügbar."
   ]
  },
  {
   "cell_type": "code",
   "execution_count": 16,
   "metadata": {},
   "outputs": [],
   "source": [
    "\"\"\" Modul zur Verwaltung der IT-Accounts an der BO \"\"\"\n",
    "\n",
    "\n",
    "class Account:                                    \n",
    "    def __init__(self, name):                     #magic-method zur Initialisierung\n",
    "        self.__name = name\n",
    "        print (f\"      Init Account: {name}\")\n",
    "    def print_name (self):  \n",
    "        \"\"\"\" Methode druckt den Accountnamen aus \"\"\"\n",
    "        print (f\"Mein Name ist: {self.__name}\")\n"
   ]
  },
  {
   "cell_type": "code",
   "execution_count": null,
   "metadata": {},
   "outputs": [
    {
     "name": "stdout",
     "output_type": "stream",
     "text": [
      "\n",
      "Welcome to Python 3.7's help utility!\n",
      "\n",
      "If this is your first time using Python, you should definitely check out\n",
      "the tutorial on the Internet at https://docs.python.org/3.7/tutorial/.\n",
      "\n",
      "Enter the name of any module, keyword, or topic to get help on writing\n",
      "Python programs and using Python modules.  To quit this help utility and\n",
      "return to the interpreter, just type \"quit\".\n",
      "\n",
      "To get a list of available modules, keywords, symbols, or topics, type\n",
      "\"modules\", \"keywords\", \"symbols\", or \"topics\".  Each module also comes\n",
      "with a one-line summary of what it does; to list the modules whose name\n",
      "or summary contain a given string such as \"spam\", type \"modules spam\".\n",
      "\n",
      "help> modules\n",
      "\n",
      "Please wait a moment while I gather a list of all available modules...\n",
      "\n"
     ]
    },
    {
     "name": "stderr",
     "output_type": "stream",
     "text": [
      "C:\\programme_dir\\anaconda\\lib\\site-packages\\IPython\\kernel\\__init__.py:13: ShimWarning: The `IPython.kernel` package has been deprecated since IPython 4.0.You should import from ipykernel or jupyter_client instead.\n",
      "  \"You should import from ipykernel or jupyter_client instead.\", ShimWarning)\n",
      "WARNING: AstropyDeprecationWarning: astropy.utils.compat.futures is now deprecated - use concurrent.futures instead [astropy.utils.compat.futures]\n",
      "C:\\programme_dir\\anaconda\\lib\\site-packages\\odo\\backends\\pandas.py:102: FutureWarning: pandas.tslib is deprecated and will be removed in a future version.\n",
      "You can access NaTType as type(pandas.NaT)\n",
      "  @convert.register((pd.Timestamp, pd.Timedelta), (pd.tslib.NaTType, type(None)))\n"
     ]
    },
    {
     "name": "stdout",
     "output_type": "stream",
     "text": [
      "DEBUG:matplotlib.backends:backend module://ipykernel.pylab.backend_inline version unknown\n"
     ]
    },
    {
     "name": "stderr",
     "output_type": "stream",
     "text": [
      "C:\\programme_dir\\anaconda\\lib\\site-packages\\nltk\\twitter\\__init__.py:20: UserWarning: The twython library has not been installed. Some functionality from the twitter package will not be available.\n",
      "  warnings.warn(\"The twython library has not been installed. \"\n"
     ]
    },
    {
     "name": "stdout",
     "output_type": "stream",
     "text": [
      "DEBUG:pip._internal.vcs:Registered VCS backend: git\n",
      "DEBUG:pip._internal.vcs:Registered VCS backend: hg\n",
      "DEBUG:pip._internal.vcs:Registered VCS backend: svn\n",
      "DEBUG:pip._internal.vcs:Registered VCS backend: bzr\n"
     ]
    },
    {
     "name": "stderr",
     "output_type": "stream",
     "text": [
      "C:\\programme_dir\\anaconda\\lib\\site-packages\\skimage\\novice\\__init__.py:103: UserWarning: The `skimage.novice` module was deprecated in version 0.14. It will be removed in 0.16.\n",
      "  warnings.warn(\"The `skimage.novice` module was deprecated in version 0.14. \"\n",
      "C:\\programme_dir\\anaconda\\lib\\site-packages\\skimage\\viewer\\utils\\core.py:10: UserWarning: Recommended matplotlib backend is `Agg` for full skimage.viewer functionality.\n",
      "  warn(\"Recommended matplotlib backend is `Agg` for full \"\n",
      "C:\\programme_dir\\anaconda\\lib\\site-packages\\sklearn\\ensemble\\weight_boosting.py:29: DeprecationWarning: numpy.core.umath_tests is an internal NumPy module and should not be imported. It will be removed in a future NumPy release.\n",
      "  from numpy.core.umath_tests import inner1d\n",
      "C:\\programme_dir\\anaconda\\lib\\site-packages\\qtawesome\\iconic_font.py:268: UserWarning: You need to have a running QApplication to use QtAwesome!\n",
      "  warnings.warn(\"You need to have a running \"\n",
      "C:\\programme_dir\\anaconda\\lib\\site-packages\\tqdm\\autonotebook\\__init__.py:14: TqdmExperimentalWarning: Using `tqdm.autonotebook.tqdm` in notebook mode. Use `tqdm.tqdm` instead to force console mode (e.g. in jupyter console)\n",
      "  \" (e.g. in jupyter console)\", TqdmExperimentalWarning)\n",
      "C:\\programme_dir\\anaconda\\lib\\pkgutil.py:107: VisibleDeprecationWarning: zmq.eventloop.minitornado is deprecated in pyzmq 14.0 and will be removed.\n",
      "    Install tornado itself to use zmq with the tornado IOLoop.\n",
      "    \n",
      "  yield from walk_packages(path, info.name+'.', onerror)\n"
     ]
    },
    {
     "name": "stdout",
     "output_type": "stream",
     "text": [
      "Crypto              brain_uuid          mistune             sortedcontainers\n",
      "Cython              bs4                 mkl                 sphinx\n",
      "IPython             builtins            mkl_fft             sphinxcontrib\n",
      "OpenSSL             bz2                 mkl_random          spyder\n",
      "PIL                 cProfile            mmap                spyder_breakpoints\n",
      "PyQt5               calendar            mmapfile            spyder_io_dcm\n",
      "__future__          certifi             mmsystem            spyder_io_hdf5\n",
      "_abc                cffi                modulefinder        spyder_kernels\n",
      "_ast                cgi                 more_itertools      spyder_profiler\n",
      "_asyncio            cgitb               mpmath              spyder_pylint\n",
      "_bisect             chardet             msgpack             sqlalchemy\n",
      "_blake2             chunk               msilib              sqlite3\n",
      "_bootlocale         click               msvcrt              sre_compile\n",
      "_bz2                cloudpickle         multipledispatch    sre_constants\n",
      "_cffi_backend       clyent              multiprocessing     sre_parse\n",
      "_codecs             cmath               navigator_updater   ssl\n",
      "_codecs_cn          cmd                 nbconvert           sspi\n",
      "_codecs_hk          code                nbformat            sspicon\n",
      "_codecs_iso2022     codecs              netbios             stat\n",
      "_codecs_jp          codeop              netrc               statistics\n",
      "_codecs_kr          collections         networkx            statsmodels\n",
      "_codecs_tw          colorama            nltk                storemagic\n",
      "_collections        colorsys            nntplib             string\n",
      "_collections_abc    commctrl            nose                stringprep\n",
      "_compat_pickle      compileall          notebook            struct\n",
      "_compression        comtypes            nt                  subprocess\n",
      "_contextvars        concurrent          ntpath              sunau\n",
      "_csv                conda               ntsecuritycon       symbol\n",
      "_ctypes             conda_build         nturl2path          sympy\n",
      "_ctypes_test        conda_env           numba               sympyprinting\n",
      "_datetime           configparser        numbers             symtable\n",
      "_decimal            constantly          numexpr             sys\n",
      "_distutils_findvs   contextlib          numpy               sysconfig\n",
      "_dummy_thread       contextlib2         numpydoc            tables\n",
      "_elementtree        contextvars         odbc                tabnanny\n",
      "_functools          copy                odo                 tarfile\n",
      "_hashlib            copyreg             olefile             tblib\n",
      "_heapq              crypt               opcode              telnetlib\n",
      "_imp                cryptography        openpyxl            tempfile\n",
      "_io                 csv                 operator            terminado\n",
      "_json               ctypes              optparse            test\n",
      "_locale             curl                os                  test_path\n",
      "_lsprof             curses              packaging           test_pycosat\n",
      "_lzma               cwp                 pandas              testpath\n",
      "_markupbase         cycler              pandocfilters       tests\n",
      "_md5                cython              parser              textwrap\n",
      "_msi                cythonmagic         parso               this\n",
      "_multibytecodec     cytoolz             partd               threading\n",
      "_multiprocessing    dask                path                time\n",
      "_nsis               dataclasses         pathlib             timeit\n",
      "_opcode             datashape           pathlib2            timer\n",
      "_operator           datetime            patsy               tkinter\n",
      "_osx_support        dateutil            pdb                 tlz\n",
      "_overlapped         dbi                 pep8                token\n",
      "_pickle             dbm                 perfmon             tokenize\n",
      "_py_abc             dde                 pickle              toolz\n",
      "_pydecimal          decimal             pickleshare         tornado\n",
      "_pyio               decorator           pickletools         tqdm\n",
      "_pytest             defusedxml          pip                 trace\n",
      "_queue              difflib             pipes               traceback\n",
      "_random             dis                 pkg_resources       tracemalloc\n",
      "_sha1               distributed         pkginfo             traitlets\n",
      "_sha256             distutils           pkgutil             tty\n",
      "_sha3               doctest             platform            turtle\n",
      "_sha512             docutils            plistlib            turtledemo\n",
      "_signal             dummy_threading     pluggy              twisted\n",
      "_sitebuiltins       easy_install        ply                 types\n",
      "_socket             email               poplib              typing\n",
      "_sqlite3            encodings           posixpath           unicodecsv\n",
      "_sre                ensurepip           pprint              unicodedata\n",
      "_ssl                entrypoints         profile             unittest\n",
      "_stat               enum                prometheus_client   urllib\n",
      "_string             errno               prompt_toolkit      urllib3\n",
      "_strptime           et_xmlfile          pstats              uu\n",
      "_struct             fastcache           psutil              uuid\n",
      "_symtable           faulthandler        pty                 venv\n",
      "_system_path        filecmp             py                  warnings\n",
      "_testbuffer         fileinput           py_compile          wave\n",
      "_testcapi           filelock            pyasn1              wcwidth\n",
      "_testconsole        flask               pyasn1_modules      weakref\n",
      "_testimportmultiple flask_cors          pyclbr              webbrowser\n",
      "_testmultiphase     fnmatch             pycodestyle         webencodings\n",
      "_thread             formatter           pycosat             werkzeug\n",
      "_threading_local    fractions           pycparser           wheel\n",
      "_tkinter            ftplib              pycurl              widgetsnbextension\n",
      "_tracemalloc        functools           pydoc               win2kras\n",
      "_warnings           gc                  pydoc_data          win32api\n",
      "_weakref            genericpath         pyexpat             win32clipboard\n",
      "_weakrefset         getopt              pyflakes            win32com\n",
      "_win32sysloader     getpass             pygments            win32con\n",
      "_winapi             gettext             pylab               win32console\n",
      "_winxptheme         gevent              pylint              win32cred\n",
      "_yaml               glob                pyodbc              win32crypt\n",
      "abc                 glob2               pyparsing           win32cryptcon\n",
      "adodbapi            greenlet            pytest              win32event\n",
      "afxres              gzip                pytest_arraydiff    win32evtlog\n",
      "aifc                h5py                pytest_doctestplus  win32evtlogutil\n",
      "alabaster           hashlib             pytest_openfiles    win32file\n",
      "anaconda_navigator  heapdict            pytest_remotedata   win32gui\n",
      "anaconda_project    heapq               pythoncom           win32gui_struct\n",
      "antigravity         hmac                pytz                win32help\n",
      "appdirs             html                pywin               win32inet\n",
      "argparse            html5lib            pywin32_testutil    win32inetcon\n",
      "array               http                pywintypes          win32job\n",
      "asn1crypto          hyperlink           pywt                win32lz\n",
      "ast                 idlelib             pyximport           win32net\n",
      "astroid             idna                qtawesome           win32netcon\n",
      "astropy             imageio             qtconsole           win32pdh\n",
      "asynchat            imagesize           qtpy                win32pdhquery\n",
      "asyncio             imaplib             queue               win32pdhutil\n",
      "asyncore            imghdr              quopri              win32pipe\n",
      "atexit              imp                 random              win32print\n",
      "atomicwrites        importlib           rasutil             win32process\n",
      "attr                incremental         re                  win32profile\n",
      "audioop             inspect             regcheck            win32ras\n",
      "automat             io                  regutil             win32rcparser\n",
      "autoreload          ipaddress           reprlib             win32security\n"
     ]
    },
    {
     "name": "stdout",
     "output_type": "stream",
     "text": [
      "babel               ipykernel           requests            win32service\n",
      "backcall            ipykernel_launcher  rlcompleter         win32serviceutil\n",
      "backports           ipython_genutils    rmagic              win32timezone\n",
      "base64              ipywidgets          rope                win32trace\n",
      "bdb                 isapi               ruamel_yaml         win32traceutil\n",
      "binascii            isort               run                 win32transaction\n",
      "binhex              itertools           runpy               win32ts\n",
      "binstar_client      itsdangerous        sched               win32ui\n",
      "bisect              jdcal               scipy               win32uiole\n",
      "bitarray            jedi                scripts             win32verstamp\n",
      "bkcharts            jinja2              seaborn             win32wnet\n",
      "blaze               json                secrets             win_inet_pton\n",
      "bleach              jsonschema          select              win_unicode_console\n",
      "bokeh               jupyter             selectors           wincertstore\n",
      "boto                jupyter_client      send2trash          winerror\n",
      "bottleneck          jupyter_console     service_identity    winioctlcon\n",
      "brain_attrs         jupyter_core        servicemanager      winnt\n",
      "brain_builtin_inference jupyterlab          setuptools          winperf\n",
      "brain_collections   jupyterlab_launcher shelve              winpty\n",
      "brain_curses        keyring             shlex               winreg\n",
      "brain_dateutil      keyword             shutil              winsound\n",
      "brain_fstrings      kiwisolver          signal              winxpgui\n",
      "brain_functools     lazy_object_proxy   simplegeneric       winxptheme\n",
      "brain_gi            lib2to3             singledispatch      wrapt\n",
      "brain_hashlib       linecache           singledispatch_helpers wsgiref\n",
      "brain_io            llvmlite            sip                 xdrlib\n",
      "brain_mechanize     locale              sipconfig           xlrd\n",
      "brain_multiprocessing locket              sipdistutils        xlsxwriter\n",
      "brain_namedtuple_enum logging             site                xlwings\n",
      "brain_nose          lxml                six                 xlwt\n",
      "brain_numpy         lzma                skimage             xml\n",
      "brain_pkg_resources macpath             sklearn             xmlrpc\n",
      "brain_pytest        mailbox             smtpd               xxsubtype\n",
      "brain_qt            mailcap             smtplib             yaml\n",
      "brain_random        markupsafe          sndhdr              zict\n",
      "brain_re            marshal             snowballstemmer     zipapp\n",
      "brain_six           math                socket              zipfile\n",
      "brain_ssl           matplotlib          socketserver        zipimport\n",
      "brain_subprocess    mccabe              socks               zlib\n",
      "brain_threading     menuinst            sockshandler        zmq\n",
      "brain_typing        mimetypes           sortedcollections   zope\n",
      "\n",
      "Enter any module name to get more help.  Or, type \"modules spam\" to search\n",
      "for modules whose name or summary contain the string \"spam\".\n",
      "\n"
     ]
    }
   ],
   "source": [
    "print (help())"
   ]
  },
  {
   "cell_type": "markdown",
   "metadata": {},
   "source": [
    "- Suchpfade\n",
    "- __main__"
   ]
  }
 ],
 "metadata": {
  "kernelspec": {
   "display_name": "Python 3",
   "language": "python",
   "name": "python3"
  },
  "language_info": {
   "codemirror_mode": {
    "name": "ipython",
    "version": 3
   },
   "file_extension": ".py",
   "mimetype": "text/x-python",
   "name": "python",
   "nbconvert_exporter": "python",
   "pygments_lexer": "ipython3",
   "version": "3.7.0"
  }
 },
 "nbformat": 4,
 "nbformat_minor": 2
}
