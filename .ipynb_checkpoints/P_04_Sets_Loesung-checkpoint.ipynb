{
 "cells": [
  {
   "cell_type": "markdown",
   "metadata": {},
   "source": [
    "## Sets ##\n",
    "Neben den geordneten Sequenzen und den assoziativen Dictionaries gibt es noch Mengen mit eindeutigen, unveränderlichen Elementen. Sets sind ungeordnet."
   ]
  },
  {
   "cell_type": "code",
   "execution_count": 37,
   "metadata": {},
   "outputs": [
    {
     "name": "stdout",
     "output_type": "stream",
     "text": [
      "{'b', 'd', 'a', 'c', 'e'}\n",
      "String: abcdefghijklmnopqrstuvwxyz , Set: {'p', 'q', 'w', 'm', 'l', 'h', 's', 'u', 'a', 'x', 'c', 't', 'v', 'g', 'k', 'n', 'j', 'b', 'd', 'o', 'z', 'y', 'r', 'f', 'i', 'e'}\n",
      "Tupel: (1, 2, 2, 1, 2, 3, 2, 2, 1), Set:{1, 2, 3}\n"
     ]
    }
   ],
   "source": [
    "# Explizites Anlegen eines Sets mit Mengenzeichen\n",
    "abc = {'a', 'b', 'c', 'd', 'e'}\n",
    "print (abc)\n",
    "# Casten mit set ()\n",
    "buchstaben_string = 'abcdefghijklmnopqrstuvwxyz'\n",
    "buchstaben = set (buchstaben_string)\n",
    "print (f\"String: {buchstaben_string} , Set: {buchstaben}\")\n",
    "tupel = (1,2,2,1,2,3,2,2,1)\n",
    "print (f\"Tupel: {tupel}, Set:{set(tupel)}\")"
   ]
  },
  {
   "cell_type": "markdown",
   "metadata": {},
   "source": [
    "**Operationen**   \n",
    "Die Möglichkeiten der Sets entsprechen den Möglichkeiten der Mengenlehre."
   ]
  },
  {
   "cell_type": "markdown",
   "metadata": {},
   "source": [
    "**Hinzufügen und Löschen**\n",
    "- Mit der Funktion add lassen sich einzelne Elemente hinzufügen\n",
    "- Mit union lassen sich zwei Sets zusammenfügen (Vereinigungsmenge)\n",
    "- mit discard/remove lässt sich ein beliebiges Element herausnehmen\n",
    "- mit pop wird ein beliebiges Element herausgenommen\n",
    "- mit clear wird eine Menge geleert (Leere Menge)\n",
    "- mit copy lässt sich eine Kopie der Daten herstellen"
   ]
  },
  {
   "cell_type": "code",
   "execution_count": null,
   "metadata": {},
   "outputs": [],
   "source": [
    "# Hinzufügen\n",
    "abc.add('ß')\n",
    "print (abc)\n",
    "# Union\n",
    "abcd=abc.union({'a', 'ä', 'ö', 'ü', })\n",
    "print(abcd)"
   ]
  },
  {
   "cell_type": "code",
   "execution_count": 36,
   "metadata": {},
   "outputs": [
    {
     "name": "stdout",
     "output_type": "stream",
     "text": [
      "{'b', 'd', 'a', 'c', 'e'}\n"
     ]
    }
   ],
   "source": [
    "# Kopieren\n",
    "abc_copy = abc.copy()\n",
    "print (abc_copy)"
   ]
  },
  {
   "cell_type": "code",
   "execution_count": null,
   "metadata": {},
   "outputs": [],
   "source": [
    "# Löschen\n",
    "abcd.discard('ü')       # Löscht ein Element, sofern es vorhanden ist\n",
    "print(abcd)\n",
    "\n",
    "abcd.remove('ß')        # Löscht ein Element - falls nicht vorhanden wird ein key fehler geworfen\n",
    "#abcd.remove('ß')\n",
    "print(abcd)\n",
    "\n",
    "print(abcd.pop())      # Löscht ein willkürliches Element\n",
    "print (abcd)\n",
    "\n",
    "abcd.clear()           # löscht alle Elemente\n",
    "print (abcd)"
   ]
  },
  {
   "cell_type": "markdown",
   "metadata": {},
   "source": [
    "**Mengenlehre**   \n",
    "Es lassen sich einige typische Mengenoperationen durchführen:\n",
    "- Schnittmenge mit intersection\n",
    "- Die Differenzmenge mit difference\n",
    "- Das Prüfen ob a eine Teilmenge von b ist a.issubset(b)\n",
    "- Das Prüfen ob a eine Übermenge von b ist a.issuperset(b)\n",
    "- Das Prüfen ob a und b eine leere Schnittmenge liefern mit isdisjoint"
   ]
  },
  {
   "cell_type": "code",
   "execution_count": 39,
   "metadata": {},
   "outputs": [
    {
     "name": "stdout",
     "output_type": "stream",
     "text": [
      "set()\n",
      "{'d', 'c', 'e'}\n",
      "{'b', 'f', 'd', 'a', 'c', 'e'}\n",
      "{'a', 'b', 'f'}\n",
      "True\n",
      "False\n",
      "False\n",
      "True\n",
      "False\n",
      "True\n"
     ]
    }
   ],
   "source": [
    "# Mengendefinitionen\n",
    "a = set (\"abcdef\")\n",
    "b = set (\"ghijkl\")\n",
    "c = set (\"cde\")\n",
    "\n",
    "print (a.intersection(b))\n",
    "print (a.intersection(c))\n",
    "\n",
    "print (a.difference(b))\n",
    "print (a.difference(c))\n",
    "\n",
    "print (c.issubset(a))\n",
    "print (c.issubset(b))\n",
    "\n",
    "print (c.issuperset(a))\n",
    "print (a.issuperset(c))\n",
    "\n",
    "print (c.isdisjoint(a))\n",
    "print (a.isdisjoint(b))\n"
   ]
  },
  {
   "cell_type": "markdown",
   "metadata": {},
   "source": [
    "**Aufgabe: Gemeinsamkeiten finden**   \n",
    "Finden Sie die Wörter in den beiden gegebenen Texten heraus, die in beiden Texten vorkommen. Finden Sie auch die Wörter, die nur um Spirou-Text vorkommen und die Wörter, die nur im Pips Text vorkommen.\n",
    "Geben Sie die Wörter jeweils alphabetisch geordnet aus."
   ]
  },
  {
   "cell_type": "code",
   "execution_count": 63,
   "metadata": {},
   "outputs": [
    {
     "name": "stdout",
     "output_type": "stream",
     "text": [
      "Schnittmenge:  ['ab', 'aber', 'allerdings', 'als', 'auch', 'auf', 'aus', 'bei', 'bis', 'den', 'der', 'des', 'die', 'durch', 'eichhörnchen', 'ein', 'eine', 'einer', 'eingesetzt', 'er', 'erstauftritt', 'erstmals', 'fantasio', 'franquin', 'für', 'gegenüber', 'geschichte', 'hatte', 'helden', 'im', 'immer', 'in', 'ist', 'jahre', 'jahren', 'janry', 'la', 'mit', 'mitte', 'nichts', 'noch', 'oder', 'oft', 'pips', 'running', 'sein', 'seine', 'seinen', 'seiner', 'serie', 'sich', 'spirou', 'spirous', 'titelhelden', 'tome', 'und', 'vom', 'von', 'wieder', 'wurde', 'zu', 'zum']\n",
      "Nur bei Spirou:  ['a', 'abenteuer', 'abenteuerlust', 'abenteurer', 'abgeleitet', 'afrika', 'agiert', 'aktuell', 'am', 'anbrennen', 'anfangs', 'anscheinend', 'april', 'asien', 'aufregenden', 'ausdrücklichen', 'ausgeübt', 'ausland', 'autokennzeichen', 'außerhalb', 'bald', 'band', 'bedacht', 'bedeutet', 'befindet', 'beruf', 'betitelten', 'brüssel', 'couragiert', 'darauf', 'das', 'de', 'definiert', 'dem', 'dupuis', 'dynamik', 'eher', 'eigenes', 'eigenschaften', 'eigentliche', 'eigenwillige', 'einem', 'eis', 'entfernt', 'entsprechenden', 'entwickelte', 'erkennen', 'erlebnisse', 'ersetzte', 'erste', 'etwa', 'europäischen', 'ewigen', 'existierenden', 'fall', 'fournier', 'freunden', 'freundes', 'gag', 'ganze', 'garstigen', 'gebäude', 'gelegenes', 'großstadt', 'gänzlich', 'hagestolz', 'hauptfigur', 'haus', 'hauswirtin', 'herangereift', 'herum', 'hinzuweisen', 'hotelpage', 'innenstadt', 'intelligent', 'jacke', 'jedem', 'jeden', 'journalisten', 'jugendsünden', 'kindheit', 'klar', 'kleine', 'kommt', 'kurz', 'kurzzeitig', 'lande', 'lausbub', 'laut', 'lebte', 'lief', 'ließ', 'livree', 'loyal', 'luft', 'missfallen', 'monate', 'nachfolgern', 'naissance', 'name', 'nicht', 'normale', 'nur', 'oberteil', 'obwohl', 'ort', 'paris', 'präsent', 'real', 'reinem', 'resultieren', 'rote', 'rummelsdorf', 'schelm', 'schmuckes', 'schnell', 'schnuller', 'sehen', 'seines', 'seit', 'sieben', 'siegerseite', 'siehe', 'sitz', 'spielen', 'später', 'spätestens', 'stadt', 'stadtpark', 'steht', 'südamerika', 'taxifahrt', 'tiefschlaf', 'tokio', 'treffend', 'trikolore', 'trios', 'trotzdem', 'typischen', 'tätigkeit', 'u', 'unbeholfen', 'unbestechlich', 'unesco', 'uniform', 'untermiete', 'unzertrennlichen', 'verhält', 'verlags', 'verzichtete', 'voller', 'vor', 'wallonischen', 'war', 'wasser', 'weiblichkeit', 'wohnsitz', 'wohnte', 'wort', 'während', 'zeitlang', 'zog', 'zufall', 'zur', 'zyklostrahlen']\n",
      "Nur bei Pips:  ['abenteuern', 'abneigung', 'aktionen', 'allerersten', 'also', 'an', 'andere', 'angewohnheit', 'ant', 'ausgeführter', 'befreite', 'begleiter', 'beiden', 'bein', 'bereits', 'chambre', 'charakter', 'contre', 'dann', 'daraufhin', 'dass', 'debüt', 'denen', 'derselben', 'diese', 'du', 'durchzuknabbern', 'eichhorns', 'eifer', 'eines', 'eingreift', 'elefanten', 'endgültig', 'episode', 'erschüttert', 'erweist', 'es', 'fallen', 'fesseln', 'figur', 'fils', 'frz', 'fängen', 'g', 'gab', 'gags', 'gangsters', 'gar', 'gedanken', 'gefasster', 'gefechts', 'gefällt', 'gelegentlich', 'geschehen', 'gestalteten', 'gesäß', 'gilt', 'griesgrams', 'hilft', 'hinterherzutragen', 'ihn', 'indem', 'ins', 'jij', 'joker', 'juni', 'kam', 'kapriziöse', 'kein', 'kommentiert', 'kopfbedeckungen', 'le', 'leser', 'lässt', 'milliardaire', 'ne', 'nie', 'nimmt', 'not', 'nüsse', 'patsche', 'phasen', 'plan', 'regelmäßig', 'retter', 'rob', 'robot', 'rolle', 'seite', 'selbstwertgefühl', 'silly', 'sind', 'sosth', 'sowie', 'spip', 'stellen', 'ständiger', 'tatsache', 'teil', 'tortures', 'trotz', 'vel', 'verbeißt', 'verlassen', 'verlorenen', 'verstärkt', 'viel', 'vorletzten', 'vorliebe', 'vorschein', 'völligen', 'waffe', 'wahnsinnigen', 'was', 'weise', 'wenig', 'wenn', 'wichtiger', 'wird', 'wobei', 'wunder', 'zumeist', 'übernahme', 'überraschend', 'übersehen']\n"
     ]
    }
   ],
   "source": [
    "import re\n",
    "spirou_raw = \"Spirou ist die eigentliche Hauptfigur der Serie. Anfangs kurzzeitig als Hotelpage und Lausbub eingesetzt, entwickelte er sich schnell zum Abenteurer und war spätestens in den 1950er Jahren zu einem typischen Helden mit den entsprechenden Eigenschaften herangereift: Er ist intelligent, couragiert, unbestechlich, loyal seinen Freunden gegenüber, agiert voller Dynamik und trotzdem mit Bedacht, kurz: Er steht immer auf der Siegerseite. Seine aufregenden Erlebnisse resultieren aus dem Journalisten-Beruf seines Freundes Fantasio, aus Abenteuerlust oder auch aus reinem Zufall. Die Abenteuer des unzertrennlichen Trios Spirou, Fantasio und Pips spielen sich oft im treffend betitelten Ort Rummelsdorf ab, in der Großstadt, im europäischen Ausland, in Afrika, Südamerika, Asien, im ewigen Eis, zu Lande, zu Wasser und in der Luft. Spirous Wohnsitz ist nicht klar definiert: Bei Franquin lebte er in Brüssel (zu erkennen u. a. am Stadtpark und den Autokennzeichen), bei den Nachfolgern anscheinend in Paris (bei Fournier ist das UNESCO-Gebäude nur eine Taxifahrt von Spirou entfernt, bei Tome & Janry kommt die Trikolore vor), auf jeden Fall aber befindet sich in der Stadt ein Sitz des real existierenden Verlags Dupuis. Anfangs wohnte Spirou noch zur Untermiete bei einer garstigen Hauswirtin in der Innenstadt, zog aber bald mit Fantasio in ein eigenes, außerhalb der Stadt gelegenes schmuckes Haus, das erstmals in Tiefschlaf für die ganze Stadt zu sehen war. Obwohl er seine erste Tätigkeit als Hotelpage 1938 nur für etwa sieben Monate ausgeübt hatte, lief der eigenwillige Spirou noch bis 1967 in voller Livree herum. In der Geschichte Schnuller und Zyklostrahlen ersetzte er erstmals das Oberteil durch eine normale, rote Jacke. Ab Mitte der 1990er Jahre verzichtete er eine Zeitlang gänzlich darauf, auf seine Jugendsünden hinzuweisen. Aktuell (seit Spirou in Tokio) ist die Uniform wieder in jedem Band präsent, allerdings eher als Running Gag und zum ausdrücklichen Missfallen des Titelhelden. Während Spirou in seiner Kindheit laut Tome & Janry nichts anbrennen ließ (siehe Der kleine Spirou), wurde er später zum Hagestolz, der sich der Weiblichkeit gegenüber eher unbeholfen verhält. Sein Name ist vom wallonischen Wort für Eichhörnchen abgeleitet, das auch Schelm, Lausbub bedeutet. Erstauftritt in La naissance de Spirou (Spirou 1/38 vom 21. April 1938).\"\n",
    "pips_raw = \"Pips (frz. Spip) ist Spirous Eichhörnchen und ständiger Begleiter. Er kommentiert die Aktionen der beiden Titelhelden, wobei er sich zumeist in der Rolle des Griesgrams gefällt. Trotz seiner Abneigung Abenteuern gegenüber hilft er Spirou und Fantasio immer aus der Patsche, wenn es gilt, Fesseln durchzuknabbern oder Elefanten ein Bein zu stellen. Seinen Erstauftritt hatte Pips bei Rob-Vel in einer Episode, in der Spirou ihn aus den Fängen des wahnsinnigen Sosthène Silly befreite. Bereits in seiner Debüt-Geschichte wurde Pips als Joker eingesetzt, der überraschend ins Geschehen eingreift. Auf der allerersten von Jijé gestalteten Seite (der vorletzten von Le fils du milliardaire, 1940) erweist er sich dann erstmals als Retter in der Not, indem er sich ins Gesäß eines Gangsters verbeißt, der daraufhin seine Waffe fallen lässt. Auf derselben Seite nimmt der Leser, was noch viel wichtiger ist, auch erstmals an Pips' Gedanken teil. Mit der völligen Übernahme der Serie durch Jijé kam auf diese Weise ab 1943 verstärkt der kapriziöse Charakter des Eichhorns zum Vorschein. Allerdings gab es immer wieder Phasen (bei Franquin Mitte der 1950er Jahre, bei Tome & Janry in den 1990er Jahren), in denen Pips wenig bis gar nichts von sich gab. Kein Wunder also, dass er gelegentlich übersehen wird, eine Tatsache, die sein Selbstwertgefühl regelmäßig erschüttert. Andere Running Gags mit der Figur sind Pips' Vorliebe für Nüsse, seine Angewohnheit, Spirou und Fantasio die im Eifer des Gefechts verlorenen Kopfbedeckungen hinterherzutragen, sowie sein oft gefasster, aber nie ausgeführter Plan, die Helden endgültig zu verlassen. Erstauftritt in Spirou contre le robot géant in der Episode La chambre des tortures (Spirou 23/39 vom 8. Juni 1939). \"\n",
    "\n",
    "spirou = re.sub('[^A-Za-zäüöß ]',' ',spirou_raw.lower()) \n",
    "pips = re.sub('[^A-Za-zäüöß ]',' ',pips_raw.lower()) \n",
    "\n",
    "# Vorbereiten der Sets\n",
    "spirou_menge = set(spirou.split())\n",
    "pips_menge = set (pips.split())\n",
    "\n",
    "#Schnittmenge\n",
    "schnittmenge = spirou_menge.intersection(pips_menge)\n",
    "schnitt_ordered = sorted(list(schnittmenge))\n",
    "print (\"Schnittmenge: \", schnitt_ordered)\n",
    "\n",
    "#Nur Spirou\n",
    "nur_spirou_menge = spirou_menge.difference(pips_menge)\n",
    "nur_spirou_ordered = sorted(list(nur_spirou_menge))\n",
    "print (\"Nur bei Spirou: \", nur_spirou_ordered)\n",
    "\n",
    "#Nur Pips\n",
    "nur_pips_menge = pips_menge.difference(spirou_menge)\n",
    "nur_pips_ordered = sorted(list(nur_pips_menge))\n",
    "print (\"Nur bei Pips: \", nur_pips_ordered)"
   ]
  }
 ],
 "metadata": {
  "kernelspec": {
   "display_name": "Python 3",
   "language": "python",
   "name": "python3"
  },
  "language_info": {
   "codemirror_mode": {
    "name": "ipython",
    "version": 3
   },
   "file_extension": ".py",
   "mimetype": "text/x-python",
   "name": "python",
   "nbconvert_exporter": "python",
   "pygments_lexer": "ipython3",
   "version": "3.7.0"
  }
 },
 "nbformat": 4,
 "nbformat_minor": 2
}
