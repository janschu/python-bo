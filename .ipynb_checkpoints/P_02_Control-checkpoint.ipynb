{
 "cells": [
  {
   "cell_type": "markdown",
   "metadata": {},
   "source": [
    "# Python Übungen Teil III #\n",
    "In diesem Teil betrachten wir Kontrollstrukturen, also **Verzweigungen** (if..elif..else) und **Schleifen** (while..break..else) (for..else)."
   ]
  },
  {
   "cell_type": "markdown",
   "metadata": {},
   "source": [
    "## Verzweigungen ##\n",
    "Mit Verzewigungen in der [if .. elif ..else] Schreibweise lassen sich Programmabläufe steueren. Geprüft wird dabei jeweils ein boolscher Wert. "
   ]
  },
  {
   "cell_type": "code",
   "execution_count": null,
   "metadata": {},
   "outputs": [],
   "source": [
    "# Der Text aus Wikipedia ist sehr lang - wir lassen Python nach 'Spirou' und 'Fantasio' suchen\n",
    "# Vielleicht suchen Sie auch noch nach 'Fräulein Trudel' und 'Herrn Bruchmüller'\n",
    "wikipedia = \"Gaston ist ein Bürobote in der Redaktion des (real existierenden) Verlages Dupuis, in der deutschen Ausgabe des Kauka Verlages bzw. des Carlsen-Verlages. Er soll eigentlich die Leserpost bearbeiten, fällt jedoch stattdessen meistens nur durch seine ausgefallenen, meist missglückten Experimente und Basteleien und durch seine Faulheit und Schläfrigkeit auf. Er wird als liebenswerter Chaot und verkanntes Genie dargestellt. In seiner Freizeit spielt er gerne Musikinstrumente, unter anderem Gitarre, Posaune und das absurd laute, von ihm erfundene „Gaffophone“ (deutsch: „Gastophon“ oder auch „Brontosaurophon“).\\\n",
    "Seine Vorgesetzten (bis Gag 480 Fantasio, danach Demel) versuchen ständig, aber meistens erfolglos, Gaston zu kontrollieren und zum Arbeiten zu bringen. Ein häufiger Runninggag ist, dass sie immer wieder versuchen, mit dem Geschäftsmann Bruchmüller zum Unterschreiben von Verträgen zu kommen, doch immer wieder weiß Gaston dies durch ein Missgeschick unabsichtlich zu verhindern. Selbst wenn ihre Bemühungen von Erfolg gekrönt zu sein scheinen, macht ihnen Gaston immer wieder unabsichtlich einen Strich durch die Rechnung.\\\n",
    "Gaston ist zudem sehr tierlieb und hat im Laufe der Geschichten mehrere Haustiere: eine Katze, eine Lachmöwe mit Namen Har-Har, einen Goldfisch mit Namen Blubblub und eine Mäusefamilie, die in einem Aktenordner wohnt. Weitere Tiere, die im Laufe der Zeit vorkommen, sind ein Igel, eine Kuh, die er bei einer Tombola gewonnen hat, ein Hummer, den er in einem Restaurant vor dem Kochtopf gerettet hat, der Papagei seiner Tante und eine Schildkröte. All diese Tiere stiften Wirbel und Chaos in der Redaktion. Auch für Pflanzen, insbesondere Kakteen, hat er eine Vorliebe, was ebenfalls für einige Gags sorgt.\\\n",
    "Ein häufiger Antagonist Gastons ist Wachtmeister Knüsel, ein Polizist, der nur darauf aus ist, an Gaston Strafzettel, meistens für Falschparken, zu verteilen. Teils hat Gaston das Nachsehen, aber meistens steht Knüsel als Verlierer da.\\\n",
    "Ein weiteres regelmäßiges Quell für Komik ist Gastons Auto, ein Fiat 509, der in sehr schlechtem Zustand ist und ständig kaputtgeht oder die Insassen und Umgebung in Gefahr bringt. Dennoch liebt Gaston sein Auto, repariert es regelmäßig, stattet es oft mit neuen, selbst gebauten Extras aus und nutzt es häufig als Grundlage für seine Erfindungen und Experimente.\"\n",
    "\n",
    "# Kommt in dem Artikel Spirou vor?\n",
    "spirou_dabei = wikipedia.find('Spirou')\n",
    "fantasio_dabei = wikipedia.find('Fantasio')\n",
    "if spirou_dabei > -1:\n",
    "    print(\"In dem Wikipedia Artikel taucht Spirou auf.\")    \n",
    "elif fantasio_dabei > -1:\n",
    "    print(\"In dem Wikipedia Artikel gibt es keinen Spirou, es kommt aber zumindest Fantasio vor.\")   \n",
    "else:\n",
    "    print(\"Kein Spirou und kein Fantasio in dem Artikel.\")"
   ]
  },
  {
   "cell_type": "markdown",
   "metadata": {},
   "source": [
    "## Schleifen ##\n",
    "Bei Schleifen lässt unterscheiden zwischen:\n",
    "- Schleifen mit einem Abbruchkriterium (while Schleifen)\n",
    "- Schleifen über Listen oder Sammlungen (for Schleife)\n",
    "- zählenden Schleifen (for .. range)"
   ]
  },
  {
   "cell_type": "markdown",
   "metadata": {},
   "source": [
    "**While Schleife**   \n",
    "Zum Durchlaufen bis zum Abbruchkriterium."
   ]
  },
  {
   "cell_type": "code",
   "execution_count": null,
   "metadata": {
    "scrolled": true
   },
   "outputs": [],
   "source": [
    "# Einfache While Schleife\n",
    "i = 1\n",
    "while i<100:\n",
    "    print (\"i= \" + str(i) + \", i^2= \" + str(i**2))\n",
    "    i+=1"
   ]
  },
  {
   "cell_type": "markdown",
   "metadata": {},
   "source": [
    "**Aufgabe: Rückwärtsschleife**   \n",
    "Passen Sie obiges Beispiel so an, dass die Schleife rückwärts von 100 bis 1 läuft"
   ]
  },
  {
   "cell_type": "code",
   "execution_count": null,
   "metadata": {},
   "outputs": [],
   "source": [
    "..."
   ]
  },
  {
   "cell_type": "markdown",
   "metadata": {},
   "source": [
    "**While Schleife mit Break**   \n",
    "Ein 'else' nach der 'while' Schleife wird ausgeführt, wenn die Schleife normal durchläuft. Wird die Schleife mit einem 'break' beendet, so wird der 'else' Teil nicht ausgeführt."
   ]
  },
  {
   "cell_type": "code",
   "execution_count": null,
   "metadata": {},
   "outputs": [],
   "source": [
    "# While Schleife mit 'break' und 'else'\n",
    "import random\n",
    "i = 1\n",
    "while i<50:\n",
    "    zufall = random.randrange(100)\n",
    "    print (str(zufall),end=' ,')\n",
    "    if zufall==13:\n",
    "        print (\"\\nSo ein Pech - nach 13 wird abgebrochen\")\n",
    "        break\n",
    "    i+=1\n",
    "else:\n",
    "    print (\"\\nDiese Zeile wird nur gedruckt, wenn es kein 'break' gegeben hat.\")\n",
    "print(\"Diese Zeile wird immer gedruckt.\")\n",
    "    "
   ]
  },
  {
   "cell_type": "markdown",
   "metadata": {},
   "source": [
    "**For Schleife**   \n",
    "Zum Durchlaufen von Objektsequenzen (wie Strings oder Listen, Tupel)"
   ]
  },
  {
   "cell_type": "code",
   "execution_count": null,
   "metadata": {},
   "outputs": [],
   "source": [
    "# Berechne die Entfernung aller Tupel untereinander\n",
    "import math\n",
    "coordinates = ((1,2),(3,7),(4,3),(8,5),(5,9),(3,3),(7,2),(6,9),(5,3),(8,8))\n",
    "for pair in coordinates:\n",
    "    print (\"Entfernung von: \" + repr(pair))\n",
    "    for pair_to in coordinates:\n",
    "        if pair == pair_to:\n",
    "            break\n",
    "        distance = math.sqrt((pair[0]-pair_to[0])**2 + (pair[1]-pair_to[1])**2)\n",
    "        print (\"            zu: \" + repr(pair_to) + \" beträgt: \" + str(distance))\n"
   ]
  },
  {
   "cell_type": "markdown",
   "metadata": {},
   "source": [
    "**For Schleife mit Range**   \n",
    "Durchlaufen eines Zahlenbereiches. Dieser wird mit der 'range' Funktion erstellt. "
   ]
  },
  {
   "cell_type": "code",
   "execution_count": null,
   "metadata": {},
   "outputs": [],
   "source": [
    "# Berechnung der ersten 10 Fibonacci Zahlen \n",
    "erste_zahl, zweite_zahl = 0, 1\n",
    "for i in range(10):\n",
    "    print (erste_zahl)\n",
    "    summe = erste_zahl + zweite_zahl\n",
    "    erste_zahl = zweite_zahl\n",
    "    zweite_zahl = summe"
   ]
  },
  {
   "cell_type": "markdown",
   "metadata": {},
   "source": [
    "**Aufgabe: Primzahlen**   \n",
    "Können Sie Schleifen und if Statements schachteln um Primzahlen zwischen 2 und 100 zu berechnen?"
   ]
  },
  {
   "cell_type": "code",
   "execution_count": null,
   "metadata": {},
   "outputs": [],
   "source": [
    "for i in range(2,100):\n",
    "..."
   ]
  }
 ],
 "metadata": {
  "kernelspec": {
   "display_name": "Python 3",
   "language": "python",
   "name": "python3"
  },
  "language_info": {
   "codemirror_mode": {
    "name": "ipython",
    "version": 3
   },
   "file_extension": ".py",
   "mimetype": "text/x-python",
   "name": "python",
   "nbconvert_exporter": "python",
   "pygments_lexer": "ipython3",
   "version": "3.7.0"
  }
 },
 "nbformat": 4,
 "nbformat_minor": 2
}
