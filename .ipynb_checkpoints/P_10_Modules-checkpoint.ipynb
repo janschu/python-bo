{
 "cells": [
  {
   "cell_type": "markdown",
   "metadata": {},
   "source": [
    "## Module ##\n",
    "In Python sind alle Programme Module. Im Sinne eines übersichtlichen, wiederverwertbaren und effiktiven Code sollten Programme sinnvoll in eigene Module aufgeteilt und bestehende Module genutzt werden.     \n",
    "**Verwendung von Modulen**    \n",
    "Module werden mit dem **import** Statement in den eigenen Code eingebunden. Beachten Sie die unterschiedlichen Varianten um den Namensraum richtig zu verwenden. "
   ]
  },
  {
   "cell_type": "code",
   "execution_count": null,
   "metadata": {},
   "outputs": [],
   "source": [
    "#Einfacher Import - der Modulename muss als Namensprefix verwendet werden\n",
    "import math\n",
    "print (math.sin(12))"
   ]
  },
  {
   "cell_type": "code",
   "execution_count": null,
   "metadata": {},
   "outputs": [],
   "source": [
    "#Import mit Namespace Prefix\n",
    "import math as m\n",
    "print (m.tan(42))"
   ]
  },
  {
   "cell_type": "code",
   "execution_count": null,
   "metadata": {},
   "outputs": [],
   "source": [
    "#Import in den 'default' Namespace - etwas heikel, da ggf. Namen überschrieben werden\n",
    "from math import *\n",
    "print (cos(12))"
   ]
  },
  {
   "cell_type": "code",
   "execution_count": null,
   "metadata": {},
   "outputs": [],
   "source": [
    "#Import einzelnen Funktionen in den 'default' Namespace\n",
    "from math import cos, sin\n",
    "print (cos(12))"
   ]
  },
  {
   "cell_type": "code",
   "execution_count": null,
   "metadata": {},
   "outputs": [],
   "source": [
    "#Informationen zu den Modulen\n",
    "print(dir(math))                     #Auflistung der Klassen, Funktionen, Attribute\n",
    "print (\"----------------------------\")\n",
    "print(help(math))                    #Anzeige einer Hilfe\n",
    "print (\"----------------------------\")\n",
    "print(help(math.cos))                #Anzeigen der Hilfe einer Funktion"
   ]
  },
  {
   "cell_type": "markdown",
   "metadata": {},
   "source": [
    "**Dokumentation**    \n",
    "Für Python gelten Regeln wie für andere Programmiersprachen; \n",
    "- der Code soll übersichtlich und kompakt sein:\n",
    "- Variablen und Funktionen möglichst selbsterklärend\n",
    "- nötige erläuternde Kommentare enthalten. [Style Guide](https://www.python.org/dev/peps/pep-0008/) \n",
    "   \n",
    "Die Dokumentation erfolgt mit sog. Docstrings mit \"\"\" Drei Anführungszeichen \"\"\" und ist dann über **help** verfügbar."
   ]
  },
  {
   "cell_type": "code",
   "execution_count": null,
   "metadata": {},
   "outputs": [],
   "source": [
    "import inheritance as inh\n",
    "help (inh)\n",
    "g = inh.St_Ma_Account(\"Gustav\")\n",
    "print (g)\n",
    "#h = inh.St_Ma_Account (\"Helga\")\n",
    "#print (h)\n"
   ]
  },
  {
   "cell_type": "markdown",
   "metadata": {},
   "source": [
    "**Aufgabe**   \n",
    "Ergänzen Sie die Dokumentation in dem Modul inheritance. Das Modul liegt im Verzeichnis als 'inheritance.py'. (Achtung: Um die Änderungen zu sehen müssen Sie auf dieser Seite 'Restart the kernel' drücken."
   ]
  },
  {
   "cell_type": "markdown",
   "metadata": {},
   "source": [
    "**Modultests**   \n",
    "Bei Python Modulen hat es sich durchgesetzt, unmittelbar im Modul einige Testroutinen zu integrieren (Unit Tests)."
   ]
  },
  {
   "cell_type": "code",
   "execution_count": null,
   "metadata": {},
   "outputs": [],
   "source": [
    "def sos_finder (morse_code):\n",
    "    \"\"\"\"Dies Funktion sucht in beliebigen Morsecodes nach ...---...\"\"\"\n",
    "    return (\"...---...\" in morse_code)\n",
    "\n",
    "# Test\n",
    "if sos_finder(\"..---...--.-...---...---.-.--\") and not sos_finder(\"..--..---.-...----...---.-.--\") :\n",
    "    print (\"sos_finder() works fine.\")\n",
    "else:\n",
    "    print (\"sos_finder() provides wrong results.\")"
   ]
  },
  {
   "cell_type": "markdown",
   "metadata": {},
   "source": [
    "Die einfache Integration ist problematisch, da bei jedem import die Testfunktionen aufgerufen werden. Übliches Vorgehen ist es, zu prüfen, ob das Modul 'standalone' gestartet wird oder importiert wird.\n",
    "Das funktioniert mit einer Prüfung der Buildt-In Variablen \\_\\_name\\_\\_, die gegen \\_\\_main\\_\\_ getestet wird."
   ]
  },
  {
   "cell_type": "code",
   "execution_count": null,
   "metadata": {},
   "outputs": [],
   "source": [
    "def sos_finder (morse_code):\n",
    "    \"\"\"\"Dies Funktion sucht in beliebigen Morsecodes nach ...---...\"\"\"\n",
    "    return (\"...---...\" in morse_code)\n",
    "\n",
    "# Test\n",
    "if __name__ == \"__main__\":\n",
    "    if sos_finder(\"..---...--.-...---...---.-.--\") and not sos_finder(\"..--..---.-...----...---.-.--\") :\n",
    "        print (\"sos_finder() works fine.\")\n",
    "    else:\n",
    "        print (\"sos_finder() provides wrong results.\")"
   ]
  },
  {
   "cell_type": "markdown",
   "metadata": {},
   "source": [
    "**Pakete**   \n",
    "Pakete sind einfache Verzeichnisse mit mehreren Modulen. Bei der Verwendung werden Modules aus dem Paket importiert und können dann verwendet werden."
   ]
  },
  {
   "cell_type": "code",
   "execution_count": null,
   "metadata": {},
   "outputs": [],
   "source": [
    "from simple_package import modul1\n",
    "help(modul1)\n",
    "help(modul2)\n",
    "\n",
    "modul1.func1()\n",
    "modul2.func2()"
   ]
  }
 ],
 "metadata": {
  "kernelspec": {
   "display_name": "Python 3",
   "language": "python",
   "name": "python3"
  },
  "language_info": {
   "codemirror_mode": {
    "name": "ipython",
    "version": 3
   },
   "file_extension": ".py",
   "mimetype": "text/x-python",
   "name": "python",
   "nbconvert_exporter": "python",
   "pygments_lexer": "ipython3",
   "version": "3.7.0"
  }
 },
 "nbformat": 4,
 "nbformat_minor": 2
}
