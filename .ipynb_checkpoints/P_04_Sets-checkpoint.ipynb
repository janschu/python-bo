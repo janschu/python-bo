{
 "cells": [
  {
   "cell_type": "markdown",
   "metadata": {},
   "source": [
    "## Sets ##\n",
    "Neben den geordneten Sequenzen und den assoziativen Dictionaries gibt es noch Mengen mit eindeutigen, unveränderlichen Elementen. Sets sind ungeordnet."
   ]
  },
  {
   "cell_type": "code",
   "execution_count": 1,
   "metadata": {},
   "outputs": [
    {
     "name": "stdout",
     "output_type": "stream",
     "text": [
      "{'d', 'e', 'c', 'b', 'a'}\n",
      "String: abcdefghijklmnopqrstuvwxyz , Set: {'p', 'd', 'u', 'j', 'm', 'n', 't', 'k', 'y', 'i', 's', 'o', 'v', 'r', 'z', 'e', 'f', 'x', 'h', 'g', 'c', 'b', 'w', 'a', 'l', 'q'}\n",
      "Tupel: (1, 2, 2, 1, 2, 3, 2, 2, 1), Set:{1, 2, 3}\n"
     ]
    }
   ],
   "source": [
    "# Explizites Anlegen eines Sets mit Mengenzeichen\n",
    "abc = {'a', 'b', 'c', 'd', 'e'}\n",
    "print (abc)\n",
    "# Casten mit set ()\n",
    "buchstaben_string = 'abcdefghijklmnopqrstuvwxyz'\n",
    "buchstaben = set (buchstaben_string)\n",
    "print (f\"String: {buchstaben_string} , Set: {buchstaben}\")\n",
    "tupel = (1,2,2,1,2,3,2,2,1)\n",
    "print (f\"Tupel: {tupel}, Set:{set(tupel)}\")"
   ]
  },
  {
   "cell_type": "markdown",
   "metadata": {},
   "source": [
    "**Operationen**   \n",
    "Die Möglichkeiten der Sets entsprechen den Möglichkeiten der Mengenlehre."
   ]
  },
  {
   "cell_type": "markdown",
   "metadata": {},
   "source": [
    "**Hinzufügen und Löschen**\n",
    "- Mit der Funktion add lassen sich einzelne Elemente hinzufügen\n",
    "- Mit union lassen sich zwei Sets zusammenfügen (Vereinigungsmenge)\n",
    "- mit discard/remove lässt sich ein beliebiges Element herausnehmen\n",
    "- mit pop wird ein beliebiges Element herausgenommen\n",
    "- mit clear wird eine Menge geleert (Leere Menge)\n",
    "- mit copy lässt sich eine Kopie der Daten herstellen"
   ]
  },
  {
   "cell_type": "code",
   "execution_count": null,
   "metadata": {},
   "outputs": [],
   "source": [
    "# Hinzufügen\n",
    "abc.add('ß')\n",
    "print (abc)\n",
    "# Union\n",
    "abcd=abc.union({'a', 'ä', 'ö', 'ü', })\n",
    "print(abcd)"
   ]
  },
  {
   "cell_type": "code",
   "execution_count": null,
   "metadata": {},
   "outputs": [],
   "source": [
    "# Kopieren\n",
    "abc_copy = abc.copy()\n",
    "print (abc_copy)"
   ]
  },
  {
   "cell_type": "code",
   "execution_count": null,
   "metadata": {},
   "outputs": [],
   "source": [
    "# Löschen\n",
    "abcd.discard('ü')       # Löscht ein Element, sofern es vorhanden ist\n",
    "print(abcd)\n",
    "\n",
    "abcd.remove('ß')        # Löscht ein Element - falls nicht vorhanden wird ein key fehler geworfen\n",
    "#abcd.remove('ß')\n",
    "print(abcd)\n",
    "\n",
    "print(abcd.pop())      # Löscht ein willkürliches Element\n",
    "print (abcd)\n",
    "\n",
    "abcd.clear()           # löscht alle Elemente\n",
    "print (abcd)"
   ]
  },
  {
   "cell_type": "markdown",
   "metadata": {},
   "source": [
    "**Mengenlehre**   \n",
    "Es lassen sich einige typische Mengenoperationen durchführen:\n",
    "- Schnittmenge mit intersection\n",
    "- Die Differenzmenge mit difference\n",
    "- Abfrage eines Eintrags mit item in set\n",
    "- Das Prüfen ob a eine Teilmenge von b ist a.issubset(b)\n",
    "- Das Prüfen ob a eine Übermenge von b ist a.issuperset(b)\n",
    "- Das Prüfen ob a und b eine leere Schnittmenge liefern mit isdisjoint"
   ]
  },
  {
   "cell_type": "code",
   "execution_count": 2,
   "metadata": {},
   "outputs": [
    {
     "name": "stdout",
     "output_type": "stream",
     "text": [
      "set()\n",
      "{'e', 'd', 'c'}\n",
      "{'d', 'e', 'c', 'b', 'a', 'f'}\n",
      "{'f', 'a', 'b'}\n",
      "False\n",
      "True\n",
      "True\n",
      "False\n",
      "False\n",
      "True\n",
      "False\n",
      "True\n"
     ]
    }
   ],
   "source": [
    "# Mengendefinitionen\n",
    "a = set (\"abcdef\")\n",
    "b = set (\"ghijkl\")\n",
    "c = set (\"cde\")\n",
    "\n",
    "print (a.intersection(b))\n",
    "print (a.intersection(c))\n",
    "\n",
    "print (a.difference(b))\n",
    "print (a.difference(c))\n",
    "\n",
    "print ('g' in a)\n",
    "print ('g' in b)\n",
    "\n",
    "print (c.issubset(a))\n",
    "print (c.issubset(b))\n",
    "\n",
    "print (c.issuperset(a))\n",
    "print (a.issuperset(c))\n",
    "\n",
    "print (c.isdisjoint(a))\n",
    "print (a.isdisjoint(b))\n"
   ]
  },
  {
   "cell_type": "markdown",
   "metadata": {},
   "source": [
    "**Aufgabe: Gemeinsamkeiten finden**   \n",
    "Finden Sie die Wörter in den beiden gegebenen Texten heraus, die in beiden Texten vorkommen. Finden Sie auch die Wörter, die nur um Spirou-Text vorkommen und die Wörter, die nur im Pips Text vorkommen.\n",
    "Geben Sie die Wörter jeweils alphabetisch geordnet aus."
   ]
  },
  {
   "cell_type": "code",
   "execution_count": 1,
   "metadata": {},
   "outputs": [],
   "source": [
    "import re\n",
    "spirou_raw = \"Spirou ist die eigentliche Hauptfigur der Serie. Anfangs kurzzeitig als Hotelpage und Lausbub eingesetzt, entwickelte er sich schnell zum Abenteurer und war spätestens in den 1950er Jahren zu einem typischen Helden mit den entsprechenden Eigenschaften herangereift: Er ist intelligent, couragiert, unbestechlich, loyal seinen Freunden gegenüber, agiert voller Dynamik und trotzdem mit Bedacht, kurz: Er steht immer auf der Siegerseite. Seine aufregenden Erlebnisse resultieren aus dem Journalisten-Beruf seines Freundes Fantasio, aus Abenteuerlust oder auch aus reinem Zufall. Die Abenteuer des unzertrennlichen Trios Spirou, Fantasio und Pips spielen sich oft im treffend betitelten Ort Rummelsdorf ab, in der Großstadt, im europäischen Ausland, in Afrika, Südamerika, Asien, im ewigen Eis, zu Lande, zu Wasser und in der Luft. Spirous Wohnsitz ist nicht klar definiert: Bei Franquin lebte er in Brüssel (zu erkennen u. a. am Stadtpark und den Autokennzeichen), bei den Nachfolgern anscheinend in Paris (bei Fournier ist das UNESCO-Gebäude nur eine Taxifahrt von Spirou entfernt, bei Tome & Janry kommt die Trikolore vor), auf jeden Fall aber befindet sich in der Stadt ein Sitz des real existierenden Verlags Dupuis. Anfangs wohnte Spirou noch zur Untermiete bei einer garstigen Hauswirtin in der Innenstadt, zog aber bald mit Fantasio in ein eigenes, außerhalb der Stadt gelegenes schmuckes Haus, das erstmals in Tiefschlaf für die ganze Stadt zu sehen war. Obwohl er seine erste Tätigkeit als Hotelpage 1938 nur für etwa sieben Monate ausgeübt hatte, lief der eigenwillige Spirou noch bis 1967 in voller Livree herum. In der Geschichte Schnuller und Zyklostrahlen ersetzte er erstmals das Oberteil durch eine normale, rote Jacke. Ab Mitte der 1990er Jahre verzichtete er eine Zeitlang gänzlich darauf, auf seine Jugendsünden hinzuweisen. Aktuell (seit Spirou in Tokio) ist die Uniform wieder in jedem Band präsent, allerdings eher als Running Gag und zum ausdrücklichen Missfallen des Titelhelden. Während Spirou in seiner Kindheit laut Tome & Janry nichts anbrennen ließ (siehe Der kleine Spirou), wurde er später zum Hagestolz, der sich der Weiblichkeit gegenüber eher unbeholfen verhält. Sein Name ist vom wallonischen Wort für Eichhörnchen abgeleitet, das auch Schelm, Lausbub bedeutet. Erstauftritt in La naissance de Spirou (Spirou 1/38 vom 21. April 1938).\"\n",
    "pips_raw = \"Pips (frz. Spip) ist Spirous Eichhörnchen und ständiger Begleiter. Er kommentiert die Aktionen der beiden Titelhelden, wobei er sich zumeist in der Rolle des Griesgrams gefällt. Trotz seiner Abneigung Abenteuern gegenüber hilft er Spirou und Fantasio immer aus der Patsche, wenn es gilt, Fesseln durchzuknabbern oder Elefanten ein Bein zu stellen. Seinen Erstauftritt hatte Pips bei Rob-Vel in einer Episode, in der Spirou ihn aus den Fängen des wahnsinnigen Sosthène Silly befreite. Bereits in seiner Debüt-Geschichte wurde Pips als Joker eingesetzt, der überraschend ins Geschehen eingreift. Auf der allerersten von Jijé gestalteten Seite (der vorletzten von Le fils du milliardaire, 1940) erweist er sich dann erstmals als Retter in der Not, indem er sich ins Gesäß eines Gangsters verbeißt, der daraufhin seine Waffe fallen lässt. Auf derselben Seite nimmt der Leser, was noch viel wichtiger ist, auch erstmals an Pips' Gedanken teil. Mit der völligen Übernahme der Serie durch Jijé kam auf diese Weise ab 1943 verstärkt der kapriziöse Charakter des Eichhorns zum Vorschein. Allerdings gab es immer wieder Phasen (bei Franquin Mitte der 1950er Jahre, bei Tome & Janry in den 1990er Jahren), in denen Pips wenig bis gar nichts von sich gab. Kein Wunder also, dass er gelegentlich übersehen wird, eine Tatsache, die sein Selbstwertgefühl regelmäßig erschüttert. Andere Running Gags mit der Figur sind Pips' Vorliebe für Nüsse, seine Angewohnheit, Spirou und Fantasio die im Eifer des Gefechts verlorenen Kopfbedeckungen hinterherzutragen, sowie sein oft gefasster, aber nie ausgeführter Plan, die Helden endgültig zu verlassen. Erstauftritt in Spirou contre le robot géant in der Episode La chambre des tortures (Spirou 23/39 vom 8. Juni 1939). \"\n",
    "\n",
    "# 'Normalisieren' des Textes - Entfernen der Sonderzeichen, alles in Kleinschrinft\n",
    "spirou = re.sub('[^A-Za-zäüöß ]',' ',spirou_raw.lower()) \n",
    "pips = re.sub('[^A-Za-zäüöß ]',' ',pips_raw.lower()) \n",
    "\n",
    "# ... Ergänzen Sie den Code"
   ]
  }
 ],
 "metadata": {
  "kernelspec": {
   "display_name": "Python 3",
   "language": "python",
   "name": "python3"
  },
  "language_info": {
   "codemirror_mode": {
    "name": "ipython",
    "version": 3
   },
   "file_extension": ".py",
   "mimetype": "text/x-python",
   "name": "python",
   "nbconvert_exporter": "python",
   "pygments_lexer": "ipython3",
   "version": "3.7.0"
  }
 },
 "nbformat": 4,
 "nbformat_minor": 2
}
