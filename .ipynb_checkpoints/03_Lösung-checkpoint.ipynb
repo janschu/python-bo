{
 "cells": [
  {
   "cell_type": "code",
   "execution_count": 38,
   "metadata": {},
   "outputs": [
    {
     "name": "stdout",
     "output_type": "stream",
     "text": [
      "Bochum  : Stützpunkte: 3389, Länge: 70683.95498465699\n",
      "Dortmund: Stützpunkte: 4076, Länge: 107300.82375380375\n",
      "Common  : Stützpunkte: 502, Länge: 11151.000637792202\n"
     ]
    }
   ],
   "source": [
    "import math\n",
    "\n",
    "#File Load\n",
    "def file_to_coords (filename):\n",
    "    try:\n",
    "        with open(filename, 'r') as in_file:\n",
    "            in_list = in_file.read().split()\n",
    "    except FileNotFoundError:                                                   # Bekannter Fehler ohne Fehlerobjekt\n",
    "        print (\"File ist nicht vorhanden.\")\n",
    "    coordinate_list = []\n",
    "    for i in range(0,len(in_list),2):\n",
    "        coord = (float(in_list[i]), float(in_list[i+1]))\n",
    "        coordinate_list.append(coord)\n",
    "    return coordinate_list\n",
    "\n",
    "# Simple Distance between two points\n",
    "def dist_point(a,b):\n",
    "    return math.sqrt((a[0]-b[0])**2+(a[1]-b[1])**2)\n",
    "\n",
    "# Distance of a linestring as list of tupels\n",
    "def dist_ordered_list (li):\n",
    "    distance = 0\n",
    "    for i in range(1,len(li)):\n",
    "        distance += dist_point(li[i-1],li[i])\n",
    "    return distance\n",
    "\n",
    "# Intersects two Lists with keeping the order\n",
    "# Assumes a common border\n",
    "def common_border (list_1, list_2):\n",
    "    set_1 = set(list_1)\n",
    "    set_2 = set(list_2)\n",
    "    intersect = set_1.intersection(set_2)    \n",
    "    # There are no ordered Sets in Python, so we have to keep the order of one List\n",
    "    common_border = []\n",
    "    for item in list_1:\n",
    "        if item in intersect:\n",
    "            common_border.append(item)\n",
    "    return common_border\n",
    "    \n",
    "    \n",
    "#Load two Files\n",
    "bo_coord = file_to_coords ('Bochum_coord_25832.txt')\n",
    "do_coord = file_to_coords ('Dortmund_coord_25832.txt')\n",
    "common = common_border(bo_coord, do_coord)\n",
    "print (f\"Bochum  : Stützpunkte: {len(bo_coord)}, Länge: {dist_ordered_list(bo_coord)}\")\n",
    "print (f\"Dortmund: Stützpunkte: {len(do_coord)}, Länge: {dist_ordered_list(do_coord)}\")\n",
    "print (f\"Common  : Stützpunkte: {len(common)}, Länge: {dist_ordered_list(common)}\")\n",
    "\n"
   ]
  },
  {
   "cell_type": "code",
   "execution_count": null,
   "metadata": {},
   "outputs": [],
   "source": []
  }
 ],
 "metadata": {
  "kernelspec": {
   "display_name": "Python 3",
   "language": "python",
   "name": "python3"
  },
  "language_info": {
   "codemirror_mode": {
    "name": "ipython",
    "version": 3
   },
   "file_extension": ".py",
   "mimetype": "text/x-python",
   "name": "python",
   "nbconvert_exporter": "python",
   "pygments_lexer": "ipython3",
   "version": "3.7.0"
  }
 },
 "nbformat": 4,
 "nbformat_minor": 2
}
