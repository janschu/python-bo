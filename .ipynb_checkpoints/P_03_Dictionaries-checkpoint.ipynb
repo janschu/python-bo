{
 "cells": [
  {
   "cell_type": "markdown",
   "metadata": {},
   "source": [
    "## Dictionaries ##\n",
    "Dictionaries sind die Assoziativspeicher (Key-Value) von Python. Sie entsprechen in der Nutzung den Maps in Java."
   ]
  },
  {
   "cell_type": "markdown",
   "metadata": {},
   "source": [
    "**Definition eines Dictionaries**   \n",
    "Die Definition erfolgt in { ...}   \n",
    "Die einzelnen Wertepare sind mit , getrennt   \n",
    "Die einzelnen Schlüssel-Wert Zuweisungen sind mit : getrennt   \n",
    "Als Schlüssel kommen nur 'unveränderliche' (immutable) Objekte zur Verwendung - Integer, Float, String, Tupel; aber keine Listen oder Dictionaries."
   ]
  },
  {
   "cell_type": "code",
   "execution_count": 1,
   "metadata": {},
   "outputs": [
    {
     "name": "stdout",
     "output_type": "stream",
     "text": [
      "{'Tanne': 'Abies', 'Eiche': 'Quercus', 'Esche': 'Fraxenius', 'Kiefer': 'Pinus'}\n"
     ]
    }
   ],
   "source": [
    "baum_de_lt = {\"Tanne\" : \"Abies\", \"Eiche\" : \"Quercus\", \"Esche\" : \"Fraxenius\", \"Kiefer\" : \"Pinus\"}\n",
    "print (baum_de_lt)"
   ]
  },
  {
   "cell_type": "markdown",
   "metadata": {},
   "source": [
    "**Auslesen eines Wertes**   \n",
    "Ein Wert kann über seinen Schlüssel abgefragt werden"
   ]
  },
  {
   "cell_type": "code",
   "execution_count": null,
   "metadata": {},
   "outputs": [],
   "source": [
    "print (baum_de_lt[\"Eiche\"])"
   ]
  },
  {
   "cell_type": "markdown",
   "metadata": {},
   "source": [
    "**Zuweisen eines Wertes**   \n",
    "Ein neuer Wert wird ebenfalls über den Schlüssel zugewiesen."
   ]
  },
  {
   "cell_type": "code",
   "execution_count": 7,
   "metadata": {},
   "outputs": [
    {
     "name": "stdout",
     "output_type": "stream",
     "text": [
      "{'Tanne': 'Abies', 'Eiche': 'Quercus', 'Esche': 'Fraxenius', 'Kiefer': 'Pinus', 'Fichte': 'Pinus'}\n",
      "{'Tanne': 'Abies', 'Eiche': 'Quercus', 'Esche': 'Fraxinus', 'Kiefer': 'Pinus', 'Fichte': 'Pinus'}\n"
     ]
    }
   ],
   "source": [
    "baum_de_lt[\"Fichte\"] = \"Pinus\" #Neueintrag\n",
    "print (baum_de_lt)\n",
    "baum_de_lt[\"Esche\"] = \"Fraxinus\" #Korrektur\n",
    "print (baum_de_lt)"
   ]
  },
  {
   "cell_type": "markdown",
   "metadata": {},
   "source": [
    "Mit der Funktion update () kann ein Dictionary zu einem anderen hinzugefügt werden. Bei gleichen Schlüsseln wird der Wert überschrieben."
   ]
  },
  {
   "cell_type": "code",
   "execution_count": null,
   "metadata": {},
   "outputs": [],
   "source": [
    "baum_de_lt.update({'Eibe': 'Taxus', 'Fichte':'Picea'})\n",
    "print(baum_de_lt)"
   ]
  },
  {
   "cell_type": "markdown",
   "metadata": {},
   "source": [
    "Die Funktion setdefault(Schlüssel, Wert) fügt nur dann ein neues Key-Value-Pair hinzu, falls der Schlüssel noch nicht vorhanden ist. Ansonsten bleibt das Dictionary unverändert."
   ]
  },
  {
   "cell_type": "code",
   "execution_count": null,
   "metadata": {},
   "outputs": [],
   "source": [
    "print(baum_de_lt.setdefault('Erle', 'Alnus'))\n",
    "print(baum_de_lt.setdefault('Kiefer', 'Expelliarmus'))"
   ]
  },
  {
   "cell_type": "markdown",
   "metadata": {},
   "source": [
    "**Prüfen eines Schlüssels**   \n",
    "Die Abfrage eines fehlenden Schlüssels wird mit einem Fehler gemeldet. Um diesen zu vermeiden kann die Anwesenheit eines Schlüssels geprüft werden."
   ]
  },
  {
   "cell_type": "code",
   "execution_count": 2,
   "metadata": {},
   "outputs": [
    {
     "ename": "KeyError",
     "evalue": "'Birke'",
     "output_type": "error",
     "traceback": [
      "\u001b[1;31m---------------------------------------------------------------------------\u001b[0m",
      "\u001b[1;31mKeyError\u001b[0m                                  Traceback (most recent call last)",
      "\u001b[1;32m<ipython-input-2-464b9fb27941>\u001b[0m in \u001b[0;36m<module>\u001b[1;34m()\u001b[0m\n\u001b[1;32m----> 1\u001b[1;33m \u001b[0mprint\u001b[0m \u001b[1;33m(\u001b[0m\u001b[0mbaum_de_lt\u001b[0m\u001b[1;33m[\u001b[0m\u001b[1;34m\"Birke\"\u001b[0m\u001b[1;33m]\u001b[0m\u001b[1;33m)\u001b[0m\u001b[1;33m\u001b[0m\u001b[0m\n\u001b[0m",
      "\u001b[1;31mKeyError\u001b[0m: 'Birke'"
     ]
    }
   ],
   "source": [
    "print (baum_de_lt[\"Birke\"])"
   ]
  },
  {
   "cell_type": "code",
   "execution_count": 3,
   "metadata": {},
   "outputs": [
    {
     "name": "stdout",
     "output_type": "stream",
     "text": [
      "False\n",
      "False\n"
     ]
    }
   ],
   "source": [
    "print(\"Birke\" in baum_de_lt)\n",
    "print(\"Fichte\" in baum_de_lt)"
   ]
  },
  {
   "cell_type": "markdown",
   "metadata": {},
   "source": [
    "Vermeiden von fehlenden Schlüsseln. Abfrage mit get"
   ]
  },
  {
   "cell_type": "code",
   "execution_count": 8,
   "metadata": {},
   "outputs": [
    {
     "name": "stdout",
     "output_type": "stream",
     "text": [
      "None\n",
      "Pinus\n"
     ]
    }
   ],
   "source": [
    "\n",
    "print(baum_de_lt.get('Birke'))\n",
    "print(baum_de_lt.get('Fichte'))"
   ]
  },
  {
   "cell_type": "markdown",
   "metadata": {},
   "source": [
    "**Vereinfachte String Dictionaries**   \n",
    "Dictionaries, die einfache Strings als Schlüssel tragen können vereinfacht(?) definiert werden:"
   ]
  },
  {
   "cell_type": "code",
   "execution_count": null,
   "metadata": {},
   "outputs": [],
   "source": [
    "baum_lt_en = dict(Abies='Fir', Fraxinus='Ash', Quercus='Oak', Pinus='Pine', Picea='Spruce')\n",
    "print (baum_lt_en)"
   ]
  },
  {
   "cell_type": "code",
   "execution_count": null,
   "metadata": {},
   "outputs": [],
   "source": [
    "# Doppelte Abfrage\n",
    "print (\"Tanne ist auf Englisch: \" + baum_lt_en[baum_de_lt['Tanne']])"
   ]
  },
  {
   "cell_type": "markdown",
   "metadata": {},
   "source": [
    "**Geschachtelte Dictionaries**   \n",
    "Leicht lassen sich Dictionaries auch schachteln.  "
   ]
  },
  {
   "cell_type": "code",
   "execution_count": null,
   "metadata": {},
   "outputs": [],
   "source": [
    "eiche_de_lt = {'Traubeneiche': 'Quercus petraea', 'Flaumeiche': 'Quercus pubescens', 'Stieleiche' : 'Quercus robur'}\n",
    "baum_de_lt[\"Eiche\"] = eiche_de_lt\n",
    "print(baum_de_lt)\n",
    "print (baum_de_lt[\"Eiche\"][\"Stieleiche\"])"
   ]
  },
  {
   "cell_type": "markdown",
   "metadata": {},
   "source": [
    "**Leeren eines Dictionaries**  \n",
    "Entfernen eines einzelnen 'Key-Value-Pairs' mit pop(key)   \n",
    "Entfernen eines beliebigen 'Key-Value-Pairs\" mit popitem()   \n",
    "Leeren des kompletten Dictionaries mit clear()"
   ]
  },
  {
   "cell_type": "code",
   "execution_count": null,
   "metadata": {},
   "outputs": [],
   "source": [
    "print(eiche_de_lt.pop('Flaumeiche'))    #Rückgabe Wert\n",
    "print(eiche_de_lt)                    \n",
    "print(eiche_de_lt.popitem())            #Rückgabe Key-Value\n",
    "print(eiche_de_lt)\n",
    "eiche_de_lt.clear()                     #Keine Rückgabe\n",
    "print(eiche_de_lt)"
   ]
  },
  {
   "cell_type": "markdown",
   "metadata": {},
   "source": [
    "**Kopieren eines Dictionaries**   \n",
    "dict.copy() erzeugt eine Kopie des Dictionaries. Bei einem Dictionary reicht eine einfach Zuweisung nicht."
   ]
  },
  {
   "cell_type": "code",
   "execution_count": null,
   "metadata": {},
   "outputs": [],
   "source": [
    "baum_link = baum_de_lt\n",
    "print (\"baum_de_lt id:\" + str(id(baum_de_lt)) + str(baum_de_lt))\n",
    "print (\"baum_link  id:\" + str(id(baum_link)) + str(baum_link))\n",
    "baum_de_lt['Kirsche'] = \"Prunus\"\n",
    "print (\"baum_de_lt id:\" + str(id(baum_de_lt))+ str(baum_de_lt))\n",
    "print (\"baum_link  id:\" + str(id(baum_link)) + str(baum_link))  # Achtung! Anderes Verhalten als bei den einfachen Datentypen\n",
    "baum_copy = baum_de_lt.copy()\n",
    "baum_de_lt['Ahorn'] = 'Acer'\n",
    "print (\"baum_de_lt id:\" + str(id(baum_de_lt))+ str(baum_de_lt))\n",
    "print (\"baum_copy id:\" + str(id(baum_copy))+ str(baum_copy))"
   ]
  },
  {
   "cell_type": "markdown",
   "metadata": {},
   "source": [
    "**Dictionaries und Listen**   \n",
    "Häufig möchte man aus Dictionaries Listen erzeugen - z.B. zur Weiterverarbeitung, zur Sortierung etc.  \n",
    "- Liste aller Schlüssel erzeugen: list(dict.keys())\n",
    "- Liste aller Werte erzeugen: list(dict.values())\n",
    "- Liste mit Key-Value-Tupeln: list(dict.items())\n",
    "oder es werden Dictionaries aus einer Liste von Schlüsseln benötigt:\n",
    "- Dictionary mit Schlüsseln aus einer Schlüsselliste: fromkeys(sequenz, [optionaler defaultWert])"
   ]
  },
  {
   "cell_type": "markdown",
   "metadata": {},
   "source": [
    "**Aufgabe: Dictionary**   \n",
    "Können Sie die Aufgabe mit der Wortliste auch einfach mit einem Dictionary lösen (Schlüssel ist das jeweilige Wort, Wert ist die Anzahl des Auftretens)? \n",
    "Geben Sie folgende Ergebnisse aus:\n",
    "- das Dictionary in roher Form\n",
    "- Den Inhalt des Dictionaries in der Form 'Wort: Auto - Anzahl: 2'\n",
    "- Eine Repräsentation der Schlüssel als Liste\n",
    "- Eine Repräsentation der Werte als Liste\n",
    "- Eine Repräsentation der Schlüssel-Werte als Liste"
   ]
  },
  {
   "cell_type": "code",
   "execution_count": null,
   "metadata": {},
   "outputs": [],
   "source": [
    "from operator import itemgetter\n",
    "# Test\n",
    "wikipedia = 'Gaston ist ein Bürobote in der Redaktion des real existierenden Verlages Dupuis in der deutschen Ausgabe des Kauka Verlages bzw des Carlsen Verlages Er soll eigentlich die Leserpost bearbeiten fällt jedoch stattdessen meistens nur durch seine ausgefallenen meist missglückten Experimente und Basteleien und durch seine Faulheit und Schläfrigkeit auf Er wird als liebenswerter Chaot und verkanntes Genie dargestellt In seiner Freizeit spielt er gerne Musikinstrumente unter anderem Gitarre Posaune und das absurd laute von ihm erfundene Gaffophone deutsch Gastophon oder auch Brontosaurophon Seine Vorgesetzten bis Gag Fantasio danach Demel versuchen ständig aber meistens erfolglos Gaston zu kontrollieren und zum Arbeiten zu bringen Ein häufiger Runninggag ist dass sie immer wieder versuchen mit dem Geschäftsmann Bruchmüller zum Unterschreiben von Verträgen zu kommen doch immer wieder weiß Gaston dies durch ein Missgeschick unabsichtlich zu verhindern Selbst wenn ihre Bemühungen von Erfolg gekrönt zu sein scheinen macht ihnen Gaston immer wieder unabsichtlich einen Strich durch die Rechnung Gaston ist zudem sehr tierlieb und hat im Laufe der Geschichten mehrere Haustiere eine Katze eine Lachmöwe mit Namen Har Har einen Goldfisch mit Namen Blubblub und eine Mäusefamilie die in einem Aktenordner wohnt Weitere Tiere die im Laufe der Zeit vorkommen sind ein Igel eine Kuh die er bei einer Tombola gewonnen hat ein Hummer den er in einem Restaurant vor dem Kochtopf gerettet hat der Papagei seiner Tante und eine Schildkröte All diese Tiere stiften Wirbel und Chaos in der Redaktion Auch für Pflanzen insbesondere Kakteen hat er eine Vorliebe was ebenfalls für einige Gags sorgt Ein häufiger Antagonist Gastons ist Wachtmeister Knüsel ein Polizist der nur darauf aus ist an Gaston Strafzettel meistens für Falschparken zu verteilen Teils hat Gaston das Nachsehen aber meistens steht Knüsel als Verlierer da Ein weiteres regelmäßiges Quell für Komik ist Gastons Auto ein Fiat der in sehr schlechtem Zustand ist und ständig kaputtgeht oder die Insassen und Umgebung in Gefahr bringt Dennoch liebt Gaston sein Auto repariert es regelmäßig stattet es oft mit neuen selbst gebauten Extras aus und nutzt es häufig als Grundlage für seine Erfindungen und Experimente'\n",
    "wortliste = sorted(wikipedia.split())\n",
    "results = {}                                            # leeres Dictionary\n",
    "for wort in wortliste:  \n",
    "    results[wort] = wortliste.count(wort)              # Was ist der Unterschied?\n",
    "#    result.setdefault(wort, wortliste.count(wort))                                      \n",
    "for r in results:                                      # Achtung: Dictionaries sind offiziell unsortiert!\n",
    "    print (f\"Wort: {r} - Anzahl: {results[r]}\", format())        # Nur einmal als Beispiel für das Format\n",
    "keys, values, items = list(results.keys()), results.values(), results.items()\n",
    "print (keys)\n",
    "print (values)\n",
    "print (items)"
   ]
  },
  {
   "cell_type": "code",
   "execution_count": null,
   "metadata": {},
   "outputs": [],
   "source": []
  }
 ],
 "metadata": {
  "kernelspec": {
   "display_name": "Python 3",
   "language": "python",
   "name": "python3"
  },
  "language_info": {
   "codemirror_mode": {
    "name": "ipython",
    "version": 3
   },
   "file_extension": ".py",
   "mimetype": "text/x-python",
   "name": "python",
   "nbconvert_exporter": "python",
   "pygments_lexer": "ipython3",
   "version": "3.7.0"
  }
 },
 "nbformat": 4,
 "nbformat_minor": 2
}
