{
 "cells": [
  {
   "cell_type": "markdown",
   "metadata": {},
   "source": [
    "## Vererbung ##\n",
    "In Python lassen sich Klassen (analog zu anderen Objektorientierten Sprachen vererben). Dann können Methoden und Attribute der Superklassen einfach genutzt werden.    \n",
    "Ein Überschreiben der Methoden ist jederzeit möglich (Hinweis: das sog. Überladen von Methoden, also unterschieldiche Parametrisierung derselben Methode ist in Python durch die flexible Parametrisierung nicht nötig/möglich. Mit super() kann auf Member der Superklasse zugegriffen werden."
   ]
  },
  {
   "cell_type": "code",
   "execution_count": null,
   "metadata": {},
   "outputs": [],
   "source": [
    "#Vererbung bei Python\n",
    "class Account:                                    #Einfache Klasse - geerbt von Object\n",
    "    def __init__(self, name):                     #magic-method zur Initialisierung\n",
    "        self.__name = name\n",
    "        print (f\"    Init Account: {name}\")\n",
    "    def __get_name (self):                        #gekapseltes Attribut, kann in dieser Form nur bei der Initialisierung gesetzt werden\n",
    "        return f\"Mein Name ist: {self.__name}\"\n",
    "    name = property (__get_name)\n",
    "\n",
    "class Ma_Account (Account):                       #Klasse Ma_Account erbt von Account \n",
    "    ma_account_no = 0                             #Klassenvariable zum Erzeugen einer laufenden Nummer\n",
    "    def __init__(self, name):                     #Magic-Method zur Initialisierung\n",
    "        print(f\"  Init Ma Account: {name}\")\n",
    "        super().__init__(name)                    #über super() wird die übergeordnetet Klasse angesprochen\n",
    "        type(self).ma_account_no += 1             #mit type(self) wird die aktuelle Klasse angesprochen\n",
    "    \n",
    "    def __str__(self):                            #Magic Method zum Drucken\n",
    "        return (f\"Mitarbeiter/in: {self.name}, MA{self.ma_account_no}\")\n",
    "        \n",
    "a = Ma_Account (\"Andrea\")\n",
    "print (a)\n",
    "b = Ma_Account (\"Berti\")\n",
    "print (b)\n",
    "c = Ma_Account (\"Claus\")\n",
    "print (c)\n",
    "d = Ma_Account (\"Dörte\")\n",
    "print (d)"
   ]
  },
  {
   "cell_type": "code",
   "execution_count": null,
   "metadata": {},
   "outputs": [],
   "source": [
    "#Einführen einer weiteren Vererbung - analog zu Ma_Account\n",
    "class St_Account (Account):                       #Klasse St_Account erbt von Account \n",
    "    st_account_no = 0                             #Klassenvariable zum Erzeugen einer laufenden Nummer\n",
    "    def __init__(self, name):                     #Magic-Method zur Initialisierung\n",
    "        print(f\"  Init St Account: {name}\")\n",
    "        super().__init__(name)                    #über super() wird die übergeordnetet Klasse angesprochen\n",
    "        type(self).st_account_no += 1             #mit type(self) wird die aktuelle Klasse angesprochen\n",
    "    \n",
    "    def __str__(self):                            #Magic Method zum Drucken\n",
    "        return (f\"Student/-in: {self.name}, ST{self.st_account_no}\")\n",
    "\n",
    "e = St_Account(\"Ernst\")\n",
    "print (e)\n",
    "f = St_Account (\"Frieda\")\n",
    "print (f)"
   ]
  },
  {
   "cell_type": "markdown",
   "metadata": {},
   "source": [
    "**Mehrfachvererbung**   \n",
    "Python erlaubt eine Mehrfachvererbung; d.h. eine Klasse erbt gleichzeitig von mehreren Superklassenklassen. Das ist häufig unproblematisch ausser in den unterschiedlichen Super-Klassen gibt es dieselben Member oder die Reihung der Aufrufe ist von Belang.\n",
    "Untersuchen Sie folgende Klasse und betrachten Sie ihr Verhalten:\n",
    "- bei der Initialisierung\n",
    "- beim Methodenaufruf\n",
    "Passen Sie die Klasse an:\n",
    "- Tauschen Sie die Reihenfolge der Superklassen aus (class St_Ma_Account (Ma_Account, ST_Account))\n",
    "- Kommentieren Sie dir \\_\\_str\\_\\_ Methode aus\n",
    "Können Sie das Verhalten interpretieren?"
   ]
  },
  {
   "cell_type": "code",
   "execution_count": null,
   "metadata": {},
   "outputs": [],
   "source": [
    "#Einführen einer doppelten Vererbung - analog zu Ma_Account\n",
    "class St_Ma_Account ( St_Account, Ma_Account):                    #Klasse St_Account erbt von Account \n",
    "                                                  \n",
    "    def __init__(self, name):                     #Magic-Method zur Initialisierung\n",
    "        print(f\"Init St Ma Account: {name}\")\n",
    "        super().__init__(name)                    #über super() wird die übergeordnetet Klasse angesprochen\n",
    "                                                  \n",
    "    \n",
    "    def __str__(self):                            #Magic Method zum Drucken\n",
    "        return (f\"student. Mitarbeiter/-in: {self.name}, ST{self.st_account_no}, MA{self.ma_account_no}\")\n",
    "\n",
    "g = St_Ma_Account(\"Gustav\")\n",
    "print (g)\n",
    "h = St_Ma_Account (\"Helga\")\n",
    "print (h)"
   ]
  },
  {
   "cell_type": "markdown",
   "metadata": {},
   "source": [
    "Die Reihenfolge in der die Methodenausführung aufgelöst wird, lässt sich mit der mro() Methode herausfinden (**Method Resolution Order**)"
   ]
  },
  {
   "cell_type": "code",
   "execution_count": null,
   "metadata": {},
   "outputs": [],
   "source": [
    "print(Account.mro())\n",
    "print(Ma_Account.mro())\n",
    "print(St_Account.mro())\n",
    "print(St_Ma_Account.mro())"
   ]
  },
  {
   "cell_type": "markdown",
   "metadata": {},
   "source": [
    "**Hinweis**: Es gibt viele kleine und grosse Fallstricke bei Mehrfachvererbung. Prüfen Sie, ob Mehrfachvererbung nötig oder sinnvoll ist. Halten Sie die Konstrukte einfach und lösen Sie ggf. in mehrere Vererbungsstufen auf."
   ]
  },
  {
   "cell_type": "code",
   "execution_count": null,
   "metadata": {},
   "outputs": [],
   "source": []
  }
 ],
 "metadata": {
  "kernelspec": {
   "display_name": "Python 3",
   "language": "python",
   "name": "python3"
  },
  "language_info": {
   "codemirror_mode": {
    "name": "ipython",
    "version": 3
   },
   "file_extension": ".py",
   "mimetype": "text/x-python",
   "name": "python",
   "nbconvert_exporter": "python",
   "pygments_lexer": "ipython3",
   "version": "3.7.0"
  }
 },
 "nbformat": 4,
 "nbformat_minor": 2
}
