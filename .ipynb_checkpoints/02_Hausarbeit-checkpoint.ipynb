{
 "cells": [
  {
   "cell_type": "markdown",
   "metadata": {},
   "source": [
    "## Aufgabe 1 - Print ##\n",
    "In unseren bisherigen Aufgaben haben wir nur sehr einfache **Print** Ausgaben verwendet. Machen Sie sich mit den Möglichkeiten der Formatted Strings vertraut. Wenden Sie für die folgenden Übungen formatierte Strings an.\n",
    "-> [2.4.3. Formatted string literals](https://docs.python.org/3.7/reference/lexical_analysis.html#f-strings)"
   ]
  },
  {
   "cell_type": "markdown",
   "metadata": {},
   "source": [
    "## Aufgabe 2 - Funktionen ##\n",
    "Gegeben sind 2 Dateien mit den Kreisgrenzen von Dortmund (Dortmund_coord_25832.txt) und Bochum (Bochum_coord_25832.txt). Die Dateien enthalten reine Koordinatenlisten (Rechtswert in m, Hochwert in m) und sind topologisch bereinigt; d.h. die Grenzlinie der beiden Polygone ist in beiden Datensätzen mit gleichen Stützpunkten enthalten.\n",
    "Geben Sie folgende Informationen per print aus:\n",
    "- Anzahl der Stützpunkte für Bochum und Dortmund\n",
    "- Länge des Polygonumrisses für Bochum und Dortmund\n",
    "- Anzahl der gemeinsamen Stützpunkte\n",
    "- Länge der gemeinsamen Grenze\n",
    "\n",
    "Lösen Sie folgende Aufgabe mit den bekannten Techniken. Beachten Sie z.B.:\n",
    "- Einlesen von Dateien\n",
    "- Unterschiedliche Eigenschaften von Liste, Tupel, Set, Dictionary\n",
    "- Slicing von Daten\n",
    "- Verwenden von Funktionen\n",
    "- Import von Bibliotheken (siehe [math](https://docs.python.org/3.7/library/math.html) Paket, welches Sie für die Wurzel benötigen)"
   ]
  },
  {
   "cell_type": "code",
   "execution_count": null,
   "metadata": {},
   "outputs": [],
   "source": [
    "...\n"
   ]
  },
  {
   "cell_type": "markdown",
   "metadata": {},
   "source": [
    "## Aufgabe 3  - Zip ##\n",
    "Die [zip()](https://docs.python.org/3.7/library/functions.html#zip) Funktion ist sehr praktisch beim Umgang mit Listen und Tupeln. Lesen Sie die Hilfe und versuchen Sie die Funktion in dieser Aufgabe anzuwenden.\n",
    "Sie haben eine lange Liste von Koordinaten - leider in einer blöden Formatierung - ein Tupel von X-Werten und Tupel von Y-Werten. Erzeugen Sie eine Liste von Koordinaten-Tupeln - also [(x1,y1), (x2,y2), ...,(xn,yn)]."
   ]
  },
  {
   "cell_type": "code",
   "execution_count": 27,
   "metadata": {},
   "outputs": [
    {
     "data": {
      "text/plain": [
       "Ellipsis"
      ]
     },
     "execution_count": 27,
     "metadata": {},
     "output_type": "execute_result"
    }
   ],
   "source": [
    "y = (381880.543000, 381881.146000, 381884.609000, 381968.945000, 382062.619000, 382102.008000, 382106.423000, 382125.194000, 382154.041000, 382184.756000, 382211.112000, 382219.480000, 382280.195000, 382292.914000, 382356.253000, 382448.516000, 382461.726000, 382462.802000, 382555.052000, 382629.442000, 382649.761000, 382661.747000, 382682.441000, 382689.117000, 382728.727000, 382744.999000, 382748.225000, 382758.559000, 382793.545000, 382796.568000, 382804.894000, 382805.552000, 382805.690000, 382800.435000, 382823.558000, 382846.394000, 382862.346000, 382875.653000, 382887.228000, 382897.577000, 382914.556000, 382930.634000, 382946.626000, 382956.399000, 382957.111000, 382964.509000, 382970.475000, 382971.836000, 382973.870000)\n",
    "x = (5710168.931000, 5710167.188000, 5710160.149000, 5710196.188000, 5710235.243000, 5710075.421000, 5710057.956000, 5710065.463000, 5709950.933000, 5709963.754000, 5709867.477000, 5709838.996000, 5709859.372000, 5709864.553000, 5709620.829000, 5709643.158000, 5709644.929000, 5709645.073000, 5709674.405000, 5709695.165000, 5709713.399000, 5709724.155000, 5709714.001000, 5709720.631000, 5709676.484000, 5709628.849000, 5709619.404000, 5709589.116000, 5709481.025000, 5709471.796000, 5709474.757000, 5709466.425000, 5709460.016000, 5709412.407000, 5709417.562000, 5709423.028000, 5709427.450000, 5709431.433000, 5709435.240000, 5709439.038000, 5709445.645000, 5709452.286000, 5709459.137000, 5709463.238000, 5709463.509000, 5709458.503000, 5709455.157000, 5709441.994000, 5709423.301000)\n",
    "..."
   ]
  },
  {
   "cell_type": "markdown",
   "metadata": {},
   "source": [
    "## Aufgabe 4 - Klassen ##\n",
    "Erstellen Sie eine Klasse für gemessene Längen, die folgende Funktionalität zur Verfügung stellen:\n",
    "- Initialisierung eines Messwertes mit Zahlenwert und Einheit (m, feet, inch)\n",
    "- Die Zahlenwerte und die Einheiten lassen sich auslesen, aber nach der Initialisierung nicht mehr verändern\n",
    "- Bereitstellen einer entsprechenden String Repräsentation\n",
    "- Bereitstellen einer Funktion 'Länge in m', welche als Rückgabe einen korrekt umgerechneten Zahlenwert liefert (1 m sind 3.281 ft und 39.37 in)\n",
    "- Bereitstellen einer Funktion 'plus', die einen Messwert entgegennimmt und zum bestehenden addiert (unter Beachtung der Einheiten). Die Rückgabe ist ein neues Längenobjekt\n"
   ]
  }
 ],
 "metadata": {
  "kernelspec": {
   "display_name": "Python 3",
   "language": "python",
   "name": "python3"
  },
  "language_info": {
   "codemirror_mode": {
    "name": "ipython",
    "version": 3
   },
   "file_extension": ".py",
   "mimetype": "text/x-python",
   "name": "python",
   "nbconvert_exporter": "python",
   "pygments_lexer": "ipython3",
   "version": "3.7.0"
  }
 },
 "nbformat": 4,
 "nbformat_minor": 2
}
