{
 "cells": [
  {
   "cell_type": "markdown",
   "metadata": {},
   "source": [
    "### CSV Bibliothek ###\n",
    "Der CSV Bibliothek ist eine Standardbibliothek von Python (siehe https://docs.python.org/3/library/csv.html) und erlaubt ein einfaches Lesen und Schreiben von CSV (comma seperated values) Dateien. \n",
    "(Es gibt zahlreiche gute Einführungen - z.B. https://www.programiz.com/python-programming/csv)"
   ]
  },
  {
   "cell_type": "markdown",
   "metadata": {},
   "source": [
    "### Exemplarische Verwendung ###\n",
    "In einem Beispiel soll eine einfache Nutzung eines csv Datensatzes 'time_series_covid19_confirmed_global.csv' (Covid-19 Infektionen weltweit der Johns-Hopkins Universität https://github.com/CSSEGISandData/COVID-19) demonstriert werden.\n",
    "Ziel ist die Darstellung der Infektionen in Russland (Russia)\n",
    "\n",
    "**1. Zeilenweises Lesen**\n",
    "* Öfnnen der CSV Datei zum Lesen\n",
    "* Erzeugen eines CSV Readers mit der Datei und den Trennzeichen"
   ]
  },
  {
   "cell_type": "code",
   "execution_count": null,
   "metadata": {},
   "outputs": [],
   "source": [
    "# CSV Daten lesen\n",
    "import csv\n",
    "with open('time_series_covid19_confirmed_global.csv', newline='') as covidfile:\n",
    "    # reader is iterable\n",
    "    cr = csv.reader(covidfile, delimiter=\",\")\n",
    "    for row in cr:\n",
    "        print (row)\n",
    "# Es wird zeilenweise eingelesen, jede Zeile enthält eine Liste mit den Werten\n",
    "# Da keine String Kennzeichen vorhanden sind, wird die Default Einstellung verwendet: \n",
    "# - jedes Token wird als String eingelesen\n"
   ]
  },
  {
   "cell_type": "markdown",
   "metadata": {},
   "source": [
    "**2. Filtern**\n",
    "* Auslesen der ersten Zeile (Überschriften)\n",
    "* Auslesen der Zeile mit den Daten aus Russland\n",
    "* Packen in eine Funktion"
   ]
  },
  {
   "cell_type": "code",
   "execution_count": null,
   "metadata": {},
   "outputs": [],
   "source": [
    "# CSV Daten lesen\n",
    "import csv\n",
    "def extractCountry_01 (filename, countryname):\n",
    "    with open(filename, newline='') as covidfile:\n",
    "        cr = csv.reader(covidfile, delimiter=\",\")\n",
    "        rownum = 0\n",
    "        for row in cr:\n",
    "            if (rownum == 0):\n",
    "                headers = row\n",
    "            if row[1] == countryname:\n",
    "                return (headers, row)\n",
    "            rownum += 1\n",
    "        raise ValueError (\"Country not listed\")\n",
    "\n",
    "country = \"Russia\"\n",
    "filename = \"time_series_covid19_confirmed_global.csv\"\n",
    "print (extractCountry_01(filename, country))"
   ]
  },
  {
   "cell_type": "markdown",
   "metadata": {},
   "source": [
    "**3. Vereinfachen des Zugriffs**\n",
    "* Erzeugen eines Dictionaries aus Spaltenköpfen und Daten\n",
    "* Abrufen eines Datums"
   ]
  },
  {
   "cell_type": "code",
   "execution_count": null,
   "metadata": {},
   "outputs": [],
   "source": [
    "# CSV Daten lesen\n",
    "import csv\n",
    "def extractCountry_02 (filename, countryname):\n",
    "    with open(filename, newline='') as covidfile:\n",
    "        cr = csv.reader(covidfile, delimiter=\",\")\n",
    "        rownum = 0\n",
    "        for row in cr:\n",
    "            if (rownum == 0):\n",
    "                headers = row\n",
    "            if row[1] == countryname:\n",
    "                return dict(zip(headers, row)) # erzeugen des Dictionary\n",
    "            rownum += 1\n",
    "        raise ValueError (\"Country not listed\")\n",
    "\n",
    "country = \"Russia\"\n",
    "filename = \"time_series_covid19_confirmed_global.csv\"\n",
    "data_dict= extractCountry_02(filename, country)\n",
    "print (data_dict)\n",
    "print (data_dict.get('5/16/20'))"
   ]
  },
  {
   "cell_type": "markdown",
   "metadata": {},
   "source": [
    "**4. Dictionary Reader**\n",
    "* Vereinfachen der Funktion mit dem csv.DictReader"
   ]
  },
  {
   "cell_type": "code",
   "execution_count": null,
   "metadata": {},
   "outputs": [],
   "source": [
    "# CSV Daten lesen\n",
    "import csv\n",
    "def extractCountry_03 (filename, country):\n",
    "    with open(filename, newline='') as covidfile:\n",
    "        # der DictReader übernimmt das zusammenpacken von Header und Value\n",
    "        cd = csv.DictReader(covidfile, delimiter=\",\")\n",
    "        for dic in cd:\n",
    "            if (dic.get('Country/Region')==country):\n",
    "                return dic\n",
    "        raise ValueError (\"Country not listed\")\n",
    "\n",
    "country = \"Russia\"\n",
    "filename = \"time_series_covid19_confirmed_global.csv\"\n",
    "print (extractCountry_03(filename, country).get('4/13/20'))"
   ]
  },
  {
   "cell_type": "markdown",
   "metadata": {},
   "source": [
    "### Anwendung mit einfacher Grafik ###\n",
    "Die Bibliothek matplotlib erlaubt eine relativ einfache Darstellung der Daten in Diagrammen."
   ]
  },
  {
   "cell_type": "code",
   "execution_count": null,
   "metadata": {},
   "outputs": [],
   "source": [
    "import matplotlib.pyplot as plt\n",
    "import numpy as np\n",
    "\n",
    "country = \"Russia\"\n",
    "filename = \"time_series_covid19_confirmed_global.csv\"\n",
    "# Holen der daten\n",
    "data = extractCountry_01(filename, country)\n",
    "# Aufbereiten für Matplotlib (besonders Leerfelder füllen)\n",
    "x = list(data[0][4::7])\n",
    "y = list(map(lambda x: 0 if x=='' else int(x), data[1][4::7])) \n",
    "# Konfigurieren der Figure\n",
    "figure = plt.figure()\n",
    "summenKurve = figure.add_subplot(1,1,1)\n",
    "summenKurve.plot(x,y,color=\"r\")\n",
    "start, end = summenKurve.get_xlim()\n",
    "xticks=summenKurve.xaxis.set_ticks(np.arange(start, end, 8))\n"
   ]
  },
  {
   "cell_type": "code",
   "execution_count": null,
   "metadata": {},
   "outputs": [],
   "source": []
  }
 ],
 "metadata": {
  "kernelspec": {
   "display_name": "Python 3",
   "language": "python",
   "name": "python3"
  },
  "language_info": {
   "codemirror_mode": {
    "name": "ipython",
    "version": 3
   },
   "file_extension": ".py",
   "mimetype": "text/x-python",
   "name": "python",
   "nbconvert_exporter": "python",
   "pygments_lexer": "ipython3",
   "version": "3.8.5"
  }
 },
 "nbformat": 4,
 "nbformat_minor": 4
}
