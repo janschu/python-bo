{
 "cells": [
  {
   "cell_type": "markdown",
   "metadata": {},
   "source": [
    "Import Statements"
   ]
  },
  {
   "cell_type": "code",
   "execution_count": 1,
   "metadata": {},
   "outputs": [],
   "source": [
    "import numpy as np\n",
    "import re"
   ]
  },
  {
   "cell_type": "markdown",
   "metadata": {},
   "source": [
    "Einlesen von CSV Dateien\n",
    "Jeder Wert steht für eine Windgeschwindigkeit (dm/sec) -999 bedeutet 'no data'\n",
    "Die Daten sind in Zeilen (4400) und Spalten (3250) angeordnet\n",
    "Jeder Datensatz repräsentiert eine Höhe"
   ]
  },
  {
   "cell_type": "code",
   "execution_count": 2,
   "metadata": {},
   "outputs": [],
   "source": [
    "# Einlesen eines Files als Funktion\n",
    "# Rückgabe einer Liste von Listen (Zeilen, Spalten)\n",
    "def loadFileToList (filename):\n",
    "    rowList =[]\n",
    "    with open(filename, 'r') as datafile:\n",
    "        # Überspringen der Header Zeilen\n",
    "        for i in range (1,7):\n",
    "            next(datafile)\n",
    "        for line in datafile:\n",
    "            lineList = re.sub('\\s+',' ',line).split()\n",
    "            rowList.append(lineList)\n",
    "            #print(\".\", end =\"\")\n",
    "    return rowList\n"
   ]
  },
  {
   "cell_type": "code",
   "execution_count": 3,
   "metadata": {},
   "outputs": [
    {
     "name": "stdout",
     "output_type": "stream",
     "text": [
      "./winddata/wind_wdat_geo_10m_BRD_200m.asc\n",
      "./winddata/wind_wdat_geo_20m_BRD_200m.asc\n",
      "./winddata/wind_wdat_geo_30m_BRD_200m.asc\n",
      "./winddata/wind_wdat_geo_40m_BRD_200m.asc\n",
      "./winddata/wind_wdat_geo_50m_BRD_200m.asc\n"
     ]
    }
   ],
   "source": [
    "filename = \"./winddata/wind_wdat_geo_xxm_BRD_200m.asc\"\n",
    "fileList = []\n",
    "# Iterieren der Files\n",
    "for i in range (10, 60, 10):\n",
    "    currentFile = filename.replace('xx', str(i))\n",
    "    print (currentFile)\n",
    "    fileList.append(loadFileToList(currentFile))\n"
   ]
  },
  {
   "cell_type": "markdown",
   "metadata": {},
   "source": [
    "Umwandeln der Listen in ein Numpy Array\n",
    "Das macht den Zugriff viel schneller und effizienter"
   ]
  },
  {
   "cell_type": "code",
   "execution_count": 4,
   "metadata": {},
   "outputs": [
    {
     "name": "stdout",
     "output_type": "stream",
     "text": [
      "Dimension: 3\n",
      "Shape: (5, 4400, 3250)\n",
      "Datatype: int32\n"
     ]
    }
   ],
   "source": [
    "npArray = np.array(fileList).astype(np.int)\n",
    "print (f\"Dimension: {npArray.ndim}\")\n",
    "print (f\"Shape: {npArray.shape}\")\n",
    "print (f\"Datatype: {npArray.dtype}\")"
   ]
  },
  {
   "cell_type": "markdown",
   "metadata": {},
   "source": [
    "Beispiel für den Zugriff auf einzelne Elemente\n",
    "z.B. Zeige die Windgeschwindigkeiten für alle Höhen an der position Zeile:500 und Spalte:500 an"
   ]
  },
  {
   "cell_type": "code",
   "execution_count": 5,
   "metadata": {},
   "outputs": [
    {
     "name": "stdout",
     "output_type": "stream",
     "text": [
      "86\n",
      "[ 86  92  98 102 105]\n"
     ]
    }
   ],
   "source": [
    "# Windgeschwindigkeit in 10m an Position 500, 500\n",
    "print(npArray[0,500,500])\n",
    "# Alle Windgeschwindigkeiten an Position 500, 500\n",
    "print(npArray[:,500,500])"
   ]
  },
  {
   "cell_type": "markdown",
   "metadata": {},
   "source": [
    "Einfache Bildung eines kleinen Ausschnittes\n",
    "von Spalte 500 bis 600\n",
    "von Zeile 500 bis 600\n",
    "Höhen 20-40 m"
   ]
  },
  {
   "cell_type": "code",
   "execution_count": 6,
   "metadata": {},
   "outputs": [
    {
     "name": "stdout",
     "output_type": "stream",
     "text": [
      "88.9056\n",
      "93.917\n",
      "97.2388\n"
     ]
    }
   ],
   "source": [
    "# Ausschnitt\n",
    "npSubset = npArray[1:4,500:600,500:600]\n",
    "# Mittlere Windgeschwindigkeit für den Ausschnitt in 20m, 30m, 40m\n",
    "print(np.mean(npSubset[0,:,:]))\n",
    "print(np.mean(npSubset[1,:,:]))\n",
    "print(np.mean(npSubset[2,:,:]))"
   ]
  },
  {
   "cell_type": "markdown",
   "metadata": {},
   "source": [
    "Finden der Maximalen Windgeschwindigkeit und Anzeigen der Position"
   ]
  },
  {
   "cell_type": "code",
   "execution_count": 7,
   "metadata": {},
   "outputs": [
    {
     "name": "stdout",
     "output_type": "stream",
     "text": [
      "107\n",
      "57200142\n",
      "(4, 0, 142)\n",
      "107\n"
     ]
    }
   ],
   "source": [
    "# Maximale Windgeschwindigkeit\n",
    "print(np.max(npArray))\n",
    "# Flacher Index für Windgeschwindigkeit\n",
    "flatIndex= np.argmax(npArray)\n",
    "print(flatIndex)\n",
    "# \n",
    "index = np.unravel_index(np.argmax(npArray, axis=None), npArray.shape)\n",
    "print(index)\n",
    "print(npArray[index])"
   ]
  }
 ],
 "metadata": {
  "kernelspec": {
   "display_name": "Python 3",
   "language": "python",
   "name": "python3"
  },
  "language_info": {
   "codemirror_mode": {
    "name": "ipython",
    "version": 3
   },
   "file_extension": ".py",
   "mimetype": "text/x-python",
   "name": "python",
   "nbconvert_exporter": "python",
   "pygments_lexer": "ipython3",
   "version": "3.8.5"
  }
 },
 "nbformat": 4,
 "nbformat_minor": 4
}
