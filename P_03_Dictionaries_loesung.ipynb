{
 "cells": [
  {
   "cell_type": "markdown",
   "metadata": {},
   "source": [
    "## Dictionaries ##\n",
    "Dictionaries sind die Assoziativspeicher (Key-Value) von Python. Sie entsprechen in der Nutzung den Maps in Java."
   ]
  },
  {
   "cell_type": "markdown",
   "metadata": {},
   "source": [
    "**Definition eines Dictionaries**   \n",
    "Die Definition erfolgt in { ...}   \n",
    "Die einzelnen Wertepare sind mit , getrennt   \n",
    "Die einzelnen Schlüssel-Wert Zuweisungen sind mit : getrennt   \n",
    "Als Schlüssel kommen nur 'unveränderliche' (immutable) Objekte zur Verwendung - Integer, Float, String, Tupel; aber keine Listen oder Dictionaries."
   ]
  },
  {
   "cell_type": "code",
   "execution_count": 1,
   "metadata": {},
   "outputs": [
    {
     "name": "stdout",
     "output_type": "stream",
     "text": [
      "{'Tanne': 'Abies', 'Eiche': 'Quercus', 'Esche': 'Fraxenius', 'Kiefer': 'Pinus'}\n"
     ]
    }
   ],
   "source": [
    "baum_de_lt = {\"Tanne\" : \"Abies\", \"Eiche\" : \"Quercus\", \"Esche\" : \"Fraxenius\", \"Kiefer\" : \"Pinus\"}\n",
    "print (baum_de_lt)"
   ]
  },
  {
   "cell_type": "markdown",
   "metadata": {},
   "source": [
    "**Auslesen eines Wertes**   \n",
    "Ein Wert kann über seinen Schlüssel abgefragt werden"
   ]
  },
  {
   "cell_type": "code",
   "execution_count": 2,
   "metadata": {},
   "outputs": [
    {
     "name": "stdout",
     "output_type": "stream",
     "text": [
      "Quercus\n"
     ]
    }
   ],
   "source": [
    "print (baum_de_lt[\"Eiche\"])"
   ]
  },
  {
   "cell_type": "markdown",
   "metadata": {},
   "source": [
    "**Zuweisen eines Wertes**   \n",
    "Ein neuer Wert wird ebenfalls über den Schlüssel zugewiesen."
   ]
  },
  {
   "cell_type": "code",
   "execution_count": null,
   "metadata": {},
   "outputs": [],
   "source": [
    "baum_de_lt[\"Fichte\"] = \"Pinus\" #Neueintrag\n",
    "print (baum_de_lt)\n",
    "baum_de_lt[\"Esche\"] = \"Fraxinus\" #Korrektur\n",
    "print (baum_de_lt)"
   ]
  },
  {
   "cell_type": "markdown",
   "metadata": {},
   "source": [
    "Mit der Funktion update () kann ein Dictionary zu einem anderen hinzugefügt werden. Bei gleichen Schlüsseln wird der Wert überschrieben."
   ]
  },
  {
   "cell_type": "code",
   "execution_count": null,
   "metadata": {},
   "outputs": [],
   "source": [
    "baum_de_lt.update({'Eibe': 'Taxus', 'Fichte':'Picea'})\n",
    "print(baum_de_lt)"
   ]
  },
  {
   "cell_type": "markdown",
   "metadata": {},
   "source": [
    "Die Funktion setdefault(Schlüssel, Wert) fügt nur dann ein neues Key-Value-Pair hinzu, falls der Schlüssel noch nicht vorhanden ist. Ansonsten bleibt das Dictionary unverändert."
   ]
  },
  {
   "cell_type": "code",
   "execution_count": null,
   "metadata": {},
   "outputs": [],
   "source": [
    "print(baum_de_lt.setdefault('Erle', 'Alnus'))\n",
    "print(baum_de_lt.setdefault('Kiefer', 'Expelliarmus'))"
   ]
  },
  {
   "cell_type": "markdown",
   "metadata": {},
   "source": [
    "**Prüfen eines Schlüssels**   \n",
    "Die Abfrage eines fehlenden Schlüssels wird mit einem Fehler gemeldet. Um diesen zu vermeiden kann die Anwesenheit eines Schlüssels geprüft werden."
   ]
  },
  {
   "cell_type": "code",
   "execution_count": null,
   "metadata": {},
   "outputs": [],
   "source": [
    "print (baum_de_lt[\"Birke\"])"
   ]
  },
  {
   "cell_type": "code",
   "execution_count": null,
   "metadata": {},
   "outputs": [],
   "source": [
    "print(\"Birke\" in baum_de_lt)\n",
    "print(\"Fichte\" in baum_de_lt)"
   ]
  },
  {
   "cell_type": "markdown",
   "metadata": {},
   "source": [
    "Vermeiden von fehlenden Schlüsseln mit Default"
   ]
  },
  {
   "cell_type": "code",
   "execution_count": null,
   "metadata": {},
   "outputs": [],
   "source": [
    "baum_de_lt"
   ]
  },
  {
   "cell_type": "markdown",
   "metadata": {},
   "source": [
    "**Vereinfachte String Dictionaries**   \n",
    "Dictionaries, die einfache Strings als Schlüssel tragen können vereinfacht(?) definiert werden:"
   ]
  },
  {
   "cell_type": "code",
   "execution_count": null,
   "metadata": {},
   "outputs": [],
   "source": [
    "baum_lt_en = dict(Abies='Fir', Fraxinus='Ash', Quercus='Oak', Pinus='Pine', Picea='Spruce')\n",
    "print (baum_lt_en)"
   ]
  },
  {
   "cell_type": "code",
   "execution_count": null,
   "metadata": {},
   "outputs": [],
   "source": [
    "# Doppelte Abfrage\n",
    "print (\"Tanne ist auf Englisch: \" + baum_lt_en[baum_de_lt['Tanne']])"
   ]
  },
  {
   "cell_type": "markdown",
   "metadata": {},
   "source": [
    "**Geschachtelte Dictionaries**   \n",
    "Leicht lassen sich Dictionaries auch schachteln.  "
   ]
  },
  {
   "cell_type": "code",
   "execution_count": null,
   "metadata": {},
   "outputs": [],
   "source": [
    "eiche_de_lt = {'Traubeneiche': 'Quercus petraea', 'Flaumeiche': 'Quercus pubescens', 'Stieleiche' : 'Quercus robur'}\n",
    "baum_de_lt[\"Eiche\"] = eiche_de_lt\n",
    "print(baum_de_lt)\n",
    "print (baum_de_lt[\"Eiche\"][\"Stieleiche\"])"
   ]
  },
  {
   "cell_type": "markdown",
   "metadata": {},
   "source": [
    "**Leeren eines Dictionaries**  \n",
    "Entfernen eines einzelnen 'Key-Value-Pairs' mit pop(key)   \n",
    "Entfernen eines beliebigen 'Key-Value-Pairs\" mit popitem()   \n",
    "Leeren des kompletten Dictionaries mit clear()"
   ]
  },
  {
   "cell_type": "code",
   "execution_count": null,
   "metadata": {},
   "outputs": [],
   "source": [
    "print(eiche_de_lt.pop('Flaumeiche'))    #Rückgabe Wert\n",
    "print(eiche_de_lt)                    \n",
    "print(eiche_de_lt.popitem())            #Rückgabe Key-Value\n",
    "print(eiche_de_lt)\n",
    "eiche_de_lt.clear()                     #Keine Rückgabe\n",
    "print(eiche_de_lt)"
   ]
  },
  {
   "cell_type": "markdown",
   "metadata": {},
   "source": [
    "**Kopieren eines Dictionaries**   \n",
    "dict.copy() erzeugt eine Kopie des Dictionaries. Bei einem Dictionary reicht eine einfach Zuweisung nicht."
   ]
  },
  {
   "cell_type": "code",
   "execution_count": null,
   "metadata": {},
   "outputs": [],
   "source": [
    "baum_link = baum_de_lt\n",
    "print (\"baum_de_lt id:\" + str(id(baum_de_lt)) + str(baum_de_lt))\n",
    "print (\"baum_link  id:\" + str(id(baum_link)) + str(baum_link))\n",
    "baum_de_lt['Kirsche'] = \"Prunus\"\n",
    "print (\"baum_de_lt id:\" + str(id(baum_de_lt))+ str(baum_de_lt))\n",
    "print (\"baum_link  id:\" + str(id(baum_link)) + str(baum_link))  # Achtung! Anderes Verhalten als bei den einfachen Datentypen\n",
    "baum_copy = baum_de_lt.copy()\n",
    "baum_de_lt['Ahorn'] = 'Acer'\n",
    "print (\"baum_de_lt id:\" + str(id(baum_de_lt))+ str(baum_de_lt))\n",
    "print (\"baum_copy id:\" + str(id(baum_copy))+ str(baum_copy))"
   ]
  },
  {
   "cell_type": "markdown",
   "metadata": {},
   "source": [
    "Weitere Funktionen auf Dictionaries:     \n",
    "- fromkeys(keySequence, [value]): Erzeugt ein Dictionary mit den Schlüsseln aus der Sequenz   \n",
    "- items(): liefert Mengenähnliches Objekt zurück   \n",
    "- keys(): liefert mengenähnliches Objekt mit Schlüsseln zurück   \n",
    "- Praktisch sind auch die Funktionen der zip Klasse   "
   ]
  },
  {
   "cell_type": "markdown",
   "metadata": {},
   "source": [
    "**Aufgabe: Dictionary**   \n",
    "Können Sie die Aufgabe mit der Wortliste auch einfach mit einem Dictionary lösen?   \n",
    "Ein Dictionary hat einen eindeutigen Schlüssel und einen zugeordneten Wert."
   ]
  },
  {
   "cell_type": "code",
   "execution_count": 1,
   "metadata": {},
   "outputs": [
    {
     "name": "stdout",
     "output_type": "stream",
     "text": [
      "{'Aktenordner': 1, 'All': 1, 'Antagonist': 1, 'Arbeiten': 1, 'Auch': 1, 'Ausgabe': 1, 'Auto': 2, 'Basteleien': 1, 'Bemühungen': 1, 'Blubblub': 1, 'Brontosaurophon': 1, 'Bruchmüller': 1, 'Bürobote': 1, 'Carlsen': 1, 'Chaos': 1, 'Chaot': 1, 'Demel': 1, 'Dennoch': 1, 'Dupuis': 1, 'Ein': 3, 'Er': 2, 'Erfindungen': 1, 'Erfolg': 1, 'Experimente': 2, 'Extras': 1, 'Falschparken': 1, 'Fantasio': 1, 'Faulheit': 1, 'Fiat': 1, 'Freizeit': 1, 'Gaffophone': 1, 'Gag': 1, 'Gags': 1, 'Gaston': 8, 'Gastons': 2, 'Gastophon': 1, 'Gefahr': 1, 'Genie': 1, 'Geschichten': 1, 'Geschäftsmann': 1, 'Gitarre': 1, 'Goldfisch': 1, 'Grundlage': 1, 'Har': 2, 'Haustiere': 1, 'Hummer': 1, 'Igel': 1, 'In': 1, 'Insassen': 1, 'Kakteen': 1, 'Katze': 1, 'Kauka': 1, 'Knüsel': 2, 'Kochtopf': 1, 'Komik': 1, 'Kuh': 1, 'Lachmöwe': 1, 'Laufe': 2, 'Leserpost': 1, 'Missgeschick': 1, 'Musikinstrumente': 1, 'Mäusefamilie': 1, 'Nachsehen': 1, 'Namen': 2, 'Papagei': 1, 'Pflanzen': 1, 'Polizist': 1, 'Posaune': 1, 'Quell': 1, 'Rechnung': 1, 'Redaktion': 2, 'Restaurant': 1, 'Runninggag': 1, 'Schildkröte': 1, 'Schläfrigkeit': 1, 'Seine': 1, 'Selbst': 1, 'Strafzettel': 1, 'Strich': 1, 'Tante': 1, 'Teils': 1, 'Tiere': 2, 'Tombola': 1, 'Umgebung': 1, 'Unterschreiben': 1, 'Verlages': 3, 'Verlierer': 1, 'Verträgen': 1, 'Vorgesetzten': 1, 'Vorliebe': 1, 'Wachtmeister': 1, 'Weitere': 1, 'Wirbel': 1, 'Zeit': 1, 'Zustand': 1, 'aber': 2, 'absurd': 1, 'als': 3, 'an': 1, 'anderem': 1, 'auch': 1, 'auf': 1, 'aus': 2, 'ausgefallenen': 1, 'bearbeiten': 1, 'bei': 1, 'bis': 1, 'bringen': 1, 'bringt': 1, 'bzw': 1, 'da': 1, 'danach': 1, 'darauf': 1, 'dargestellt': 1, 'das': 2, 'dass': 1, 'dem': 2, 'den': 1, 'der': 8, 'des': 3, 'deutsch': 1, 'deutschen': 1, 'die': 6, 'dies': 1, 'diese': 1, 'doch': 1, 'durch': 4, 'ebenfalls': 1, 'eigentlich': 1, 'ein': 6, 'eine': 6, 'einem': 2, 'einen': 2, 'einer': 1, 'einige': 1, 'er': 4, 'erfolglos': 1, 'erfundene': 1, 'es': 3, 'existierenden': 1, 'fällt': 1, 'für': 5, 'gebauten': 1, 'gekrönt': 1, 'gerettet': 1, 'gerne': 1, 'gewonnen': 1, 'hat': 5, 'häufig': 1, 'häufiger': 2, 'ihm': 1, 'ihnen': 1, 'ihre': 1, 'im': 2, 'immer': 3, 'in': 7, 'insbesondere': 1, 'ist': 7, 'jedoch': 1, 'kaputtgeht': 1, 'kommen': 1, 'kontrollieren': 1, 'laute': 1, 'liebenswerter': 1, 'liebt': 1, 'macht': 1, 'mehrere': 1, 'meist': 1, 'meistens': 4, 'missglückten': 1, 'mit': 4, 'neuen': 1, 'nur': 2, 'nutzt': 1, 'oder': 2, 'oft': 1, 'real': 1, 'regelmäßig': 1, 'regelmäßiges': 1, 'repariert': 1, 'scheinen': 1, 'schlechtem': 1, 'sehr': 2, 'sein': 2, 'seine': 3, 'seiner': 2, 'selbst': 1, 'sie': 1, 'sind': 1, 'soll': 1, 'sorgt': 1, 'spielt': 1, 'stattdessen': 1, 'stattet': 1, 'steht': 1, 'stiften': 1, 'ständig': 2, 'tierlieb': 1, 'unabsichtlich': 2, 'und': 14, 'unter': 1, 'verhindern': 1, 'verkanntes': 1, 'versuchen': 2, 'verteilen': 1, 'von': 3, 'vor': 1, 'vorkommen': 1, 'was': 1, 'weiteres': 1, 'weiß': 1, 'wenn': 1, 'wieder': 3, 'wird': 1, 'wohnt': 1, 'zu': 6, 'zudem': 1, 'zum': 2}\n",
      "dict_keys(['Aktenordner', 'All', 'Antagonist', 'Arbeiten', 'Auch', 'Ausgabe', 'Auto', 'Basteleien', 'Bemühungen', 'Blubblub', 'Brontosaurophon', 'Bruchmüller', 'Bürobote', 'Carlsen', 'Chaos', 'Chaot', 'Demel', 'Dennoch', 'Dupuis', 'Ein', 'Er', 'Erfindungen', 'Erfolg', 'Experimente', 'Extras', 'Falschparken', 'Fantasio', 'Faulheit', 'Fiat', 'Freizeit', 'Gaffophone', 'Gag', 'Gags', 'Gaston', 'Gastons', 'Gastophon', 'Gefahr', 'Genie', 'Geschichten', 'Geschäftsmann', 'Gitarre', 'Goldfisch', 'Grundlage', 'Har', 'Haustiere', 'Hummer', 'Igel', 'In', 'Insassen', 'Kakteen', 'Katze', 'Kauka', 'Knüsel', 'Kochtopf', 'Komik', 'Kuh', 'Lachmöwe', 'Laufe', 'Leserpost', 'Missgeschick', 'Musikinstrumente', 'Mäusefamilie', 'Nachsehen', 'Namen', 'Papagei', 'Pflanzen', 'Polizist', 'Posaune', 'Quell', 'Rechnung', 'Redaktion', 'Restaurant', 'Runninggag', 'Schildkröte', 'Schläfrigkeit', 'Seine', 'Selbst', 'Strafzettel', 'Strich', 'Tante', 'Teils', 'Tiere', 'Tombola', 'Umgebung', 'Unterschreiben', 'Verlages', 'Verlierer', 'Verträgen', 'Vorgesetzten', 'Vorliebe', 'Wachtmeister', 'Weitere', 'Wirbel', 'Zeit', 'Zustand', 'aber', 'absurd', 'als', 'an', 'anderem', 'auch', 'auf', 'aus', 'ausgefallenen', 'bearbeiten', 'bei', 'bis', 'bringen', 'bringt', 'bzw', 'da', 'danach', 'darauf', 'dargestellt', 'das', 'dass', 'dem', 'den', 'der', 'des', 'deutsch', 'deutschen', 'die', 'dies', 'diese', 'doch', 'durch', 'ebenfalls', 'eigentlich', 'ein', 'eine', 'einem', 'einen', 'einer', 'einige', 'er', 'erfolglos', 'erfundene', 'es', 'existierenden', 'fällt', 'für', 'gebauten', 'gekrönt', 'gerettet', 'gerne', 'gewonnen', 'hat', 'häufig', 'häufiger', 'ihm', 'ihnen', 'ihre', 'im', 'immer', 'in', 'insbesondere', 'ist', 'jedoch', 'kaputtgeht', 'kommen', 'kontrollieren', 'laute', 'liebenswerter', 'liebt', 'macht', 'mehrere', 'meist', 'meistens', 'missglückten', 'mit', 'neuen', 'nur', 'nutzt', 'oder', 'oft', 'real', 'regelmäßig', 'regelmäßiges', 'repariert', 'scheinen', 'schlechtem', 'sehr', 'sein', 'seine', 'seiner', 'selbst', 'sie', 'sind', 'soll', 'sorgt', 'spielt', 'stattdessen', 'stattet', 'steht', 'stiften', 'ständig', 'tierlieb', 'unabsichtlich', 'und', 'unter', 'verhindern', 'verkanntes', 'versuchen', 'verteilen', 'von', 'vor', 'vorkommen', 'was', 'weiteres', 'weiß', 'wenn', 'wieder', 'wird', 'wohnt', 'zu', 'zudem', 'zum'])\n",
      "dict_values([1, 1, 1, 1, 1, 1, 2, 1, 1, 1, 1, 1, 1, 1, 1, 1, 1, 1, 1, 3, 2, 1, 1, 2, 1, 1, 1, 1, 1, 1, 1, 1, 1, 8, 2, 1, 1, 1, 1, 1, 1, 1, 1, 2, 1, 1, 1, 1, 1, 1, 1, 1, 2, 1, 1, 1, 1, 2, 1, 1, 1, 1, 1, 2, 1, 1, 1, 1, 1, 1, 2, 1, 1, 1, 1, 1, 1, 1, 1, 1, 1, 2, 1, 1, 1, 3, 1, 1, 1, 1, 1, 1, 1, 1, 1, 2, 1, 3, 1, 1, 1, 1, 2, 1, 1, 1, 1, 1, 1, 1, 1, 1, 1, 1, 2, 1, 2, 1, 8, 3, 1, 1, 6, 1, 1, 1, 4, 1, 1, 6, 6, 2, 2, 1, 1, 4, 1, 1, 3, 1, 1, 5, 1, 1, 1, 1, 1, 5, 1, 2, 1, 1, 1, 2, 3, 7, 1, 7, 1, 1, 1, 1, 1, 1, 1, 1, 1, 1, 4, 1, 4, 1, 2, 1, 2, 1, 1, 1, 1, 1, 1, 1, 2, 2, 3, 2, 1, 1, 1, 1, 1, 1, 1, 1, 1, 1, 2, 1, 2, 14, 1, 1, 1, 2, 1, 3, 1, 1, 1, 1, 1, 1, 3, 1, 1, 6, 1, 2])\n",
      "dict_items([('Aktenordner', 1), ('All', 1), ('Antagonist', 1), ('Arbeiten', 1), ('Auch', 1), ('Ausgabe', 1), ('Auto', 2), ('Basteleien', 1), ('Bemühungen', 1), ('Blubblub', 1), ('Brontosaurophon', 1), ('Bruchmüller', 1), ('Bürobote', 1), ('Carlsen', 1), ('Chaos', 1), ('Chaot', 1), ('Demel', 1), ('Dennoch', 1), ('Dupuis', 1), ('Ein', 3), ('Er', 2), ('Erfindungen', 1), ('Erfolg', 1), ('Experimente', 2), ('Extras', 1), ('Falschparken', 1), ('Fantasio', 1), ('Faulheit', 1), ('Fiat', 1), ('Freizeit', 1), ('Gaffophone', 1), ('Gag', 1), ('Gags', 1), ('Gaston', 8), ('Gastons', 2), ('Gastophon', 1), ('Gefahr', 1), ('Genie', 1), ('Geschichten', 1), ('Geschäftsmann', 1), ('Gitarre', 1), ('Goldfisch', 1), ('Grundlage', 1), ('Har', 2), ('Haustiere', 1), ('Hummer', 1), ('Igel', 1), ('In', 1), ('Insassen', 1), ('Kakteen', 1), ('Katze', 1), ('Kauka', 1), ('Knüsel', 2), ('Kochtopf', 1), ('Komik', 1), ('Kuh', 1), ('Lachmöwe', 1), ('Laufe', 2), ('Leserpost', 1), ('Missgeschick', 1), ('Musikinstrumente', 1), ('Mäusefamilie', 1), ('Nachsehen', 1), ('Namen', 2), ('Papagei', 1), ('Pflanzen', 1), ('Polizist', 1), ('Posaune', 1), ('Quell', 1), ('Rechnung', 1), ('Redaktion', 2), ('Restaurant', 1), ('Runninggag', 1), ('Schildkröte', 1), ('Schläfrigkeit', 1), ('Seine', 1), ('Selbst', 1), ('Strafzettel', 1), ('Strich', 1), ('Tante', 1), ('Teils', 1), ('Tiere', 2), ('Tombola', 1), ('Umgebung', 1), ('Unterschreiben', 1), ('Verlages', 3), ('Verlierer', 1), ('Verträgen', 1), ('Vorgesetzten', 1), ('Vorliebe', 1), ('Wachtmeister', 1), ('Weitere', 1), ('Wirbel', 1), ('Zeit', 1), ('Zustand', 1), ('aber', 2), ('absurd', 1), ('als', 3), ('an', 1), ('anderem', 1), ('auch', 1), ('auf', 1), ('aus', 2), ('ausgefallenen', 1), ('bearbeiten', 1), ('bei', 1), ('bis', 1), ('bringen', 1), ('bringt', 1), ('bzw', 1), ('da', 1), ('danach', 1), ('darauf', 1), ('dargestellt', 1), ('das', 2), ('dass', 1), ('dem', 2), ('den', 1), ('der', 8), ('des', 3), ('deutsch', 1), ('deutschen', 1), ('die', 6), ('dies', 1), ('diese', 1), ('doch', 1), ('durch', 4), ('ebenfalls', 1), ('eigentlich', 1), ('ein', 6), ('eine', 6), ('einem', 2), ('einen', 2), ('einer', 1), ('einige', 1), ('er', 4), ('erfolglos', 1), ('erfundene', 1), ('es', 3), ('existierenden', 1), ('fällt', 1), ('für', 5), ('gebauten', 1), ('gekrönt', 1), ('gerettet', 1), ('gerne', 1), ('gewonnen', 1), ('hat', 5), ('häufig', 1), ('häufiger', 2), ('ihm', 1), ('ihnen', 1), ('ihre', 1), ('im', 2), ('immer', 3), ('in', 7), ('insbesondere', 1), ('ist', 7), ('jedoch', 1), ('kaputtgeht', 1), ('kommen', 1), ('kontrollieren', 1), ('laute', 1), ('liebenswerter', 1), ('liebt', 1), ('macht', 1), ('mehrere', 1), ('meist', 1), ('meistens', 4), ('missglückten', 1), ('mit', 4), ('neuen', 1), ('nur', 2), ('nutzt', 1), ('oder', 2), ('oft', 1), ('real', 1), ('regelmäßig', 1), ('regelmäßiges', 1), ('repariert', 1), ('scheinen', 1), ('schlechtem', 1), ('sehr', 2), ('sein', 2), ('seine', 3), ('seiner', 2), ('selbst', 1), ('sie', 1), ('sind', 1), ('soll', 1), ('sorgt', 1), ('spielt', 1), ('stattdessen', 1), ('stattet', 1), ('steht', 1), ('stiften', 1), ('ständig', 2), ('tierlieb', 1), ('unabsichtlich', 2), ('und', 14), ('unter', 1), ('verhindern', 1), ('verkanntes', 1), ('versuchen', 2), ('verteilen', 1), ('von', 3), ('vor', 1), ('vorkommen', 1), ('was', 1), ('weiteres', 1), ('weiß', 1), ('wenn', 1), ('wieder', 3), ('wird', 1), ('wohnt', 1), ('zu', 6), ('zudem', 1), ('zum', 2)])\n"
     ]
    }
   ],
   "source": [
    "# Test\n",
    "wikipedia = 'Gaston ist ein Bürobote in der Redaktion des real existierenden Verlages Dupuis in der deutschen Ausgabe des Kauka Verlages bzw des Carlsen Verlages Er soll eigentlich die Leserpost bearbeiten fällt jedoch stattdessen meistens nur durch seine ausgefallenen meist missglückten Experimente und Basteleien und durch seine Faulheit und Schläfrigkeit auf Er wird als liebenswerter Chaot und verkanntes Genie dargestellt In seiner Freizeit spielt er gerne Musikinstrumente unter anderem Gitarre Posaune und das absurd laute von ihm erfundene Gaffophone deutsch Gastophon oder auch Brontosaurophon Seine Vorgesetzten bis Gag Fantasio danach Demel versuchen ständig aber meistens erfolglos Gaston zu kontrollieren und zum Arbeiten zu bringen Ein häufiger Runninggag ist dass sie immer wieder versuchen mit dem Geschäftsmann Bruchmüller zum Unterschreiben von Verträgen zu kommen doch immer wieder weiß Gaston dies durch ein Missgeschick unabsichtlich zu verhindern Selbst wenn ihre Bemühungen von Erfolg gekrönt zu sein scheinen macht ihnen Gaston immer wieder unabsichtlich einen Strich durch die Rechnung Gaston ist zudem sehr tierlieb und hat im Laufe der Geschichten mehrere Haustiere eine Katze eine Lachmöwe mit Namen Har Har einen Goldfisch mit Namen Blubblub und eine Mäusefamilie die in einem Aktenordner wohnt Weitere Tiere die im Laufe der Zeit vorkommen sind ein Igel eine Kuh die er bei einer Tombola gewonnen hat ein Hummer den er in einem Restaurant vor dem Kochtopf gerettet hat der Papagei seiner Tante und eine Schildkröte All diese Tiere stiften Wirbel und Chaos in der Redaktion Auch für Pflanzen insbesondere Kakteen hat er eine Vorliebe was ebenfalls für einige Gags sorgt Ein häufiger Antagonist Gastons ist Wachtmeister Knüsel ein Polizist der nur darauf aus ist an Gaston Strafzettel meistens für Falschparken zu verteilen Teils hat Gaston das Nachsehen aber meistens steht Knüsel als Verlierer da Ein weiteres regelmäßiges Quell für Komik ist Gastons Auto ein Fiat der in sehr schlechtem Zustand ist und ständig kaputtgeht oder die Insassen und Umgebung in Gefahr bringt Dennoch liebt Gaston sein Auto repariert es regelmäßig stattet es oft mit neuen selbst gebauten Extras aus und nutzt es häufig als Grundlage für seine Erfindungen und Experimente'\n",
    "wortliste = sorted(wikipedia.split())\n",
    "result = {}                                            # leeres Dictionary\n",
    "for wort in wortliste:  \n",
    "    result[wort] = wortliste.count(wort)              # Was ist der Unterschied?\n",
    "#    result.setdefault(wort, wortliste.count(wort))\n",
    "print (result)  # Achtung: Dictionaries sind offiziell unsortiert!\n",
    "print (result.keys())\n",
    "print (result.values())\n",
    "print (result.items())\n",
    "\n"
   ]
  },
  {
   "cell_type": "code",
   "execution_count": null,
   "metadata": {},
   "outputs": [],
   "source": []
  }
 ],
 "metadata": {
  "kernelspec": {
   "display_name": "Python 3",
   "language": "python",
   "name": "python3"
  },
  "language_info": {
   "codemirror_mode": {
    "name": "ipython",
    "version": 3
   },
   "file_extension": ".py",
   "mimetype": "text/x-python",
   "name": "python",
   "nbconvert_exporter": "python",
   "pygments_lexer": "ipython3",
   "version": "3.6.10"
  }
 },
 "nbformat": 4,
 "nbformat_minor": 2
}
